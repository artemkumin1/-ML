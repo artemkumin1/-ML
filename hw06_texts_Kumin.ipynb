{
  "cells": [
    {
      "cell_type": "markdown",
      "metadata": {
        "id": "Ffq6A2-ifzAA"
      },
      "source": [
        "# Интеллектуальный анализ данных – весна 2024\n",
        "# Домашнее задание 6: классификация текстов"
      ]
    },
    {
      "cell_type": "markdown",
      "source": [
        "Правила:\n",
        "\n",
        "\n",
        "\n",
        "*   Домашнее задание оценивается в 10 баллов.\n",
        "*   Можно использовать без доказательства любые результаты, встречавшиеся на лекциях или семинарах по курсу, если получение этих результатов не является вопросом задания.\n",
        "*  Можно использовать любые свободные источники с *обязательным* указанием ссылки на них.\n",
        "*  Плагиат не допускается. При обнаружении случаев списывания, 0 за работу выставляется всем участникам нарушения, даже если можно установить, кто у кого списал.\n",
        "*  Старайтесь сделать код как можно более оптимальным. В частности, будет штрафоваться использование циклов в тех случаях, когда операцию можно совершить при помощи инструментов библиотек, о которых рассказывалось в курсе."
      ],
      "metadata": {
        "id": "EPcxtekTA1Sm"
      }
    },
    {
      "cell_type": "markdown",
      "metadata": {
        "id": "itRtFtrOf0_b"
      },
      "source": [
        "В этом домашнем задании вам предстоит построить классификатор текстов.\n",
        "\n",
        "Будем предсказывать эмоциональную окраску твиттов о коронавирусе.\n",
        "\n"
      ]
    },
    {
      "cell_type": "code",
      "execution_count": 2,
      "metadata": {
        "id": "tNGRVO7_g9mz"
      },
      "outputs": [],
      "source": [
        "import numpy as np\n",
        "import pandas as pd\n",
        "from typing import  List\n",
        "import matplotlib.pyplot as plt\n",
        "import seaborn as sns\n",
        "from string import punctuation"
      ]
    },
    {
      "cell_type": "code",
      "source": [
        "!wget 'https://raw.githubusercontent.com/hse-ds/iad-intro-ds/master/2024/homeworks/hw06_texts/tweets_coronavirus.csv'\n"
      ],
      "metadata": {
        "colab": {
          "base_uri": "https://localhost:8080/"
        },
        "id": "RcpEdyVQ-rjl",
        "outputId": "989c6992-bfbe-4d7a-a964-fb5983370760"
      },
      "execution_count": 3,
      "outputs": [
        {
          "output_type": "stream",
          "name": "stdout",
          "text": [
            "--2024-05-13 19:16:16--  https://raw.githubusercontent.com/hse-ds/iad-intro-ds/master/2024/homeworks/hw06_texts/tweets_coronavirus.csv\n",
            "Resolving raw.githubusercontent.com (raw.githubusercontent.com)... 185.199.108.133, 185.199.109.133, 185.199.110.133, ...\n",
            "Connecting to raw.githubusercontent.com (raw.githubusercontent.com)|185.199.108.133|:443... connected.\n",
            "HTTP request sent, awaiting response... 200 OK\n",
            "Length: 8829280 (8.4M) [text/plain]\n",
            "Saving to: ‘tweets_coronavirus.csv’\n",
            "\n",
            "tweets_coronavirus. 100%[===================>]   8.42M  --.-KB/s    in 0.09s   \n",
            "\n",
            "2024-05-13 19:16:16 (94.2 MB/s) - ‘tweets_coronavirus.csv’ saved [8829280/8829280]\n",
            "\n"
          ]
        }
      ]
    },
    {
      "cell_type": "code",
      "execution_count": 4,
      "metadata": {
        "id": "zOy8iHJQg_Ss",
        "colab": {
          "base_uri": "https://localhost:8080/",
          "height": 174
        },
        "outputId": "6572671e-e5e2-42ed-d941-eb3baf7e25ff"
      },
      "outputs": [
        {
          "output_type": "execute_result",
          "data": {
            "text/plain": [
              "       UserName  ScreenName                                          Location  \\\n",
              "32807     44151       89103               Rabat - SalÃÂ© - Zemmour - ZaÃÂ«r   \n",
              "1365       5453       50405                              Okinawa-shi, Okinawa   \n",
              "26844     36714       81666                                London, England ??   \n",
              "32200     43407       88359  NYC, London, Tokyo, Mexico, Sydney, Johannesburg   \n",
              "\n",
              "          TweetAt                                      OriginalTweet  \\\n",
              "32807  13-04-2020  National Markets: Normal Supply, Stable Prices...   \n",
              "1365   17-03-2020  If this COVID-19 brings apocalypse in US, IÃÂ...   \n",
              "26844  07-04-2020  ÃÂWithin countries there are going to be a l...   \n",
              "32200  13-04-2020  Introducing the Great Minds Masterclass Series...   \n",
              "\n",
              "                Sentiment  \n",
              "32807            Positive  \n",
              "1365             Negative  \n",
              "26844            Positive  \n",
              "32200  Extremely Positive  "
            ],
            "text/html": [
              "\n",
              "  <div id=\"df-898f1338-a7bf-43cd-9075-fd0060951233\" class=\"colab-df-container\">\n",
              "    <div>\n",
              "<style scoped>\n",
              "    .dataframe tbody tr th:only-of-type {\n",
              "        vertical-align: middle;\n",
              "    }\n",
              "\n",
              "    .dataframe tbody tr th {\n",
              "        vertical-align: top;\n",
              "    }\n",
              "\n",
              "    .dataframe thead th {\n",
              "        text-align: right;\n",
              "    }\n",
              "</style>\n",
              "<table border=\"1\" class=\"dataframe\">\n",
              "  <thead>\n",
              "    <tr style=\"text-align: right;\">\n",
              "      <th></th>\n",
              "      <th>UserName</th>\n",
              "      <th>ScreenName</th>\n",
              "      <th>Location</th>\n",
              "      <th>TweetAt</th>\n",
              "      <th>OriginalTweet</th>\n",
              "      <th>Sentiment</th>\n",
              "    </tr>\n",
              "  </thead>\n",
              "  <tbody>\n",
              "    <tr>\n",
              "      <th>32807</th>\n",
              "      <td>44151</td>\n",
              "      <td>89103</td>\n",
              "      <td>Rabat - SalÃÂ© - Zemmour - ZaÃÂ«r</td>\n",
              "      <td>13-04-2020</td>\n",
              "      <td>National Markets: Normal Supply, Stable Prices...</td>\n",
              "      <td>Positive</td>\n",
              "    </tr>\n",
              "    <tr>\n",
              "      <th>1365</th>\n",
              "      <td>5453</td>\n",
              "      <td>50405</td>\n",
              "      <td>Okinawa-shi, Okinawa</td>\n",
              "      <td>17-03-2020</td>\n",
              "      <td>If this COVID-19 brings apocalypse in US, IÃÂ...</td>\n",
              "      <td>Negative</td>\n",
              "    </tr>\n",
              "    <tr>\n",
              "      <th>26844</th>\n",
              "      <td>36714</td>\n",
              "      <td>81666</td>\n",
              "      <td>London, England ??</td>\n",
              "      <td>07-04-2020</td>\n",
              "      <td>ÃÂWithin countries there are going to be a l...</td>\n",
              "      <td>Positive</td>\n",
              "    </tr>\n",
              "    <tr>\n",
              "      <th>32200</th>\n",
              "      <td>43407</td>\n",
              "      <td>88359</td>\n",
              "      <td>NYC, London, Tokyo, Mexico, Sydney, Johannesburg</td>\n",
              "      <td>13-04-2020</td>\n",
              "      <td>Introducing the Great Minds Masterclass Series...</td>\n",
              "      <td>Extremely Positive</td>\n",
              "    </tr>\n",
              "  </tbody>\n",
              "</table>\n",
              "</div>\n",
              "    <div class=\"colab-df-buttons\">\n",
              "\n",
              "  <div class=\"colab-df-container\">\n",
              "    <button class=\"colab-df-convert\" onclick=\"convertToInteractive('df-898f1338-a7bf-43cd-9075-fd0060951233')\"\n",
              "            title=\"Convert this dataframe to an interactive table.\"\n",
              "            style=\"display:none;\">\n",
              "\n",
              "  <svg xmlns=\"http://www.w3.org/2000/svg\" height=\"24px\" viewBox=\"0 -960 960 960\">\n",
              "    <path d=\"M120-120v-720h720v720H120Zm60-500h600v-160H180v160Zm220 220h160v-160H400v160Zm0 220h160v-160H400v160ZM180-400h160v-160H180v160Zm440 0h160v-160H620v160ZM180-180h160v-160H180v160Zm440 0h160v-160H620v160Z\"/>\n",
              "  </svg>\n",
              "    </button>\n",
              "\n",
              "  <style>\n",
              "    .colab-df-container {\n",
              "      display:flex;\n",
              "      gap: 12px;\n",
              "    }\n",
              "\n",
              "    .colab-df-convert {\n",
              "      background-color: #E8F0FE;\n",
              "      border: none;\n",
              "      border-radius: 50%;\n",
              "      cursor: pointer;\n",
              "      display: none;\n",
              "      fill: #1967D2;\n",
              "      height: 32px;\n",
              "      padding: 0 0 0 0;\n",
              "      width: 32px;\n",
              "    }\n",
              "\n",
              "    .colab-df-convert:hover {\n",
              "      background-color: #E2EBFA;\n",
              "      box-shadow: 0px 1px 2px rgba(60, 64, 67, 0.3), 0px 1px 3px 1px rgba(60, 64, 67, 0.15);\n",
              "      fill: #174EA6;\n",
              "    }\n",
              "\n",
              "    .colab-df-buttons div {\n",
              "      margin-bottom: 4px;\n",
              "    }\n",
              "\n",
              "    [theme=dark] .colab-df-convert {\n",
              "      background-color: #3B4455;\n",
              "      fill: #D2E3FC;\n",
              "    }\n",
              "\n",
              "    [theme=dark] .colab-df-convert:hover {\n",
              "      background-color: #434B5C;\n",
              "      box-shadow: 0px 1px 3px 1px rgba(0, 0, 0, 0.15);\n",
              "      filter: drop-shadow(0px 1px 2px rgba(0, 0, 0, 0.3));\n",
              "      fill: #FFFFFF;\n",
              "    }\n",
              "  </style>\n",
              "\n",
              "    <script>\n",
              "      const buttonEl =\n",
              "        document.querySelector('#df-898f1338-a7bf-43cd-9075-fd0060951233 button.colab-df-convert');\n",
              "      buttonEl.style.display =\n",
              "        google.colab.kernel.accessAllowed ? 'block' : 'none';\n",
              "\n",
              "      async function convertToInteractive(key) {\n",
              "        const element = document.querySelector('#df-898f1338-a7bf-43cd-9075-fd0060951233');\n",
              "        const dataTable =\n",
              "          await google.colab.kernel.invokeFunction('convertToInteractive',\n",
              "                                                    [key], {});\n",
              "        if (!dataTable) return;\n",
              "\n",
              "        const docLinkHtml = 'Like what you see? Visit the ' +\n",
              "          '<a target=\"_blank\" href=https://colab.research.google.com/notebooks/data_table.ipynb>data table notebook</a>'\n",
              "          + ' to learn more about interactive tables.';\n",
              "        element.innerHTML = '';\n",
              "        dataTable['output_type'] = 'display_data';\n",
              "        await google.colab.output.renderOutput(dataTable, element);\n",
              "        const docLink = document.createElement('div');\n",
              "        docLink.innerHTML = docLinkHtml;\n",
              "        element.appendChild(docLink);\n",
              "      }\n",
              "    </script>\n",
              "  </div>\n",
              "\n",
              "\n",
              "<div id=\"df-6548cd52-b944-4f4f-b214-ff75286e3ac8\">\n",
              "  <button class=\"colab-df-quickchart\" onclick=\"quickchart('df-6548cd52-b944-4f4f-b214-ff75286e3ac8')\"\n",
              "            title=\"Suggest charts\"\n",
              "            style=\"display:none;\">\n",
              "\n",
              "<svg xmlns=\"http://www.w3.org/2000/svg\" height=\"24px\"viewBox=\"0 0 24 24\"\n",
              "     width=\"24px\">\n",
              "    <g>\n",
              "        <path d=\"M19 3H5c-1.1 0-2 .9-2 2v14c0 1.1.9 2 2 2h14c1.1 0 2-.9 2-2V5c0-1.1-.9-2-2-2zM9 17H7v-7h2v7zm4 0h-2V7h2v10zm4 0h-2v-4h2v4z\"/>\n",
              "    </g>\n",
              "</svg>\n",
              "  </button>\n",
              "\n",
              "<style>\n",
              "  .colab-df-quickchart {\n",
              "      --bg-color: #E8F0FE;\n",
              "      --fill-color: #1967D2;\n",
              "      --hover-bg-color: #E2EBFA;\n",
              "      --hover-fill-color: #174EA6;\n",
              "      --disabled-fill-color: #AAA;\n",
              "      --disabled-bg-color: #DDD;\n",
              "  }\n",
              "\n",
              "  [theme=dark] .colab-df-quickchart {\n",
              "      --bg-color: #3B4455;\n",
              "      --fill-color: #D2E3FC;\n",
              "      --hover-bg-color: #434B5C;\n",
              "      --hover-fill-color: #FFFFFF;\n",
              "      --disabled-bg-color: #3B4455;\n",
              "      --disabled-fill-color: #666;\n",
              "  }\n",
              "\n",
              "  .colab-df-quickchart {\n",
              "    background-color: var(--bg-color);\n",
              "    border: none;\n",
              "    border-radius: 50%;\n",
              "    cursor: pointer;\n",
              "    display: none;\n",
              "    fill: var(--fill-color);\n",
              "    height: 32px;\n",
              "    padding: 0;\n",
              "    width: 32px;\n",
              "  }\n",
              "\n",
              "  .colab-df-quickchart:hover {\n",
              "    background-color: var(--hover-bg-color);\n",
              "    box-shadow: 0 1px 2px rgba(60, 64, 67, 0.3), 0 1px 3px 1px rgba(60, 64, 67, 0.15);\n",
              "    fill: var(--button-hover-fill-color);\n",
              "  }\n",
              "\n",
              "  .colab-df-quickchart-complete:disabled,\n",
              "  .colab-df-quickchart-complete:disabled:hover {\n",
              "    background-color: var(--disabled-bg-color);\n",
              "    fill: var(--disabled-fill-color);\n",
              "    box-shadow: none;\n",
              "  }\n",
              "\n",
              "  .colab-df-spinner {\n",
              "    border: 2px solid var(--fill-color);\n",
              "    border-color: transparent;\n",
              "    border-bottom-color: var(--fill-color);\n",
              "    animation:\n",
              "      spin 1s steps(1) infinite;\n",
              "  }\n",
              "\n",
              "  @keyframes spin {\n",
              "    0% {\n",
              "      border-color: transparent;\n",
              "      border-bottom-color: var(--fill-color);\n",
              "      border-left-color: var(--fill-color);\n",
              "    }\n",
              "    20% {\n",
              "      border-color: transparent;\n",
              "      border-left-color: var(--fill-color);\n",
              "      border-top-color: var(--fill-color);\n",
              "    }\n",
              "    30% {\n",
              "      border-color: transparent;\n",
              "      border-left-color: var(--fill-color);\n",
              "      border-top-color: var(--fill-color);\n",
              "      border-right-color: var(--fill-color);\n",
              "    }\n",
              "    40% {\n",
              "      border-color: transparent;\n",
              "      border-right-color: var(--fill-color);\n",
              "      border-top-color: var(--fill-color);\n",
              "    }\n",
              "    60% {\n",
              "      border-color: transparent;\n",
              "      border-right-color: var(--fill-color);\n",
              "    }\n",
              "    80% {\n",
              "      border-color: transparent;\n",
              "      border-right-color: var(--fill-color);\n",
              "      border-bottom-color: var(--fill-color);\n",
              "    }\n",
              "    90% {\n",
              "      border-color: transparent;\n",
              "      border-bottom-color: var(--fill-color);\n",
              "    }\n",
              "  }\n",
              "</style>\n",
              "\n",
              "  <script>\n",
              "    async function quickchart(key) {\n",
              "      const quickchartButtonEl =\n",
              "        document.querySelector('#' + key + ' button');\n",
              "      quickchartButtonEl.disabled = true;  // To prevent multiple clicks.\n",
              "      quickchartButtonEl.classList.add('colab-df-spinner');\n",
              "      try {\n",
              "        const charts = await google.colab.kernel.invokeFunction(\n",
              "            'suggestCharts', [key], {});\n",
              "      } catch (error) {\n",
              "        console.error('Error during call to suggestCharts:', error);\n",
              "      }\n",
              "      quickchartButtonEl.classList.remove('colab-df-spinner');\n",
              "      quickchartButtonEl.classList.add('colab-df-quickchart-complete');\n",
              "    }\n",
              "    (() => {\n",
              "      let quickchartButtonEl =\n",
              "        document.querySelector('#df-6548cd52-b944-4f4f-b214-ff75286e3ac8 button');\n",
              "      quickchartButtonEl.style.display =\n",
              "        google.colab.kernel.accessAllowed ? 'block' : 'none';\n",
              "    })();\n",
              "  </script>\n",
              "</div>\n",
              "    </div>\n",
              "  </div>\n"
            ],
            "application/vnd.google.colaboratory.intrinsic+json": {
              "type": "dataframe",
              "repr_error": "0"
            }
          },
          "metadata": {},
          "execution_count": 4
        }
      ],
      "source": [
        "df = pd.read_csv('/content/tweets_coronavirus.csv', encoding='latin-1')\n",
        "df.sample(4)"
      ]
    },
    {
      "cell_type": "markdown",
      "metadata": {
        "id": "m2OiDog9ZBlS"
      },
      "source": [
        "Для каждого твитта указано:\n",
        "\n",
        "\n",
        "*   UserName - имя пользователя, заменено на целое число для анонимности\n",
        "*   ScreenName - отображающееся имя пользователя, заменено на целое число для анонимности\n",
        "*   Location - местоположение\n",
        "*   TweetAt - дата создания твитта\n",
        "*   OriginalTweet - текст твитта\n",
        "*   Sentiment - эмоциональная окраска твитта (целевая переменная)\n",
        "\n"
      ]
    },
    {
      "cell_type": "markdown",
      "metadata": {
        "id": "pZTMseDkhTC7"
      },
      "source": [
        "## Задание 1 Подготовка (0.5 балла)"
      ]
    },
    {
      "cell_type": "markdown",
      "metadata": {
        "id": "Xx2-odn9hdAW"
      },
      "source": [
        "Целевая переменная находится в колонке `Sentiment`.  Преобразуйте ее таким образом, чтобы она стала бинарной: 1 - если у твитта положительная эмоциональная окраска и 0 - если отрицательная."
      ]
    },
    {
      "cell_type": "code",
      "execution_count": 5,
      "metadata": {
        "id": "ZaQKQ1zEjP15",
        "colab": {
          "base_uri": "https://localhost:8080/",
          "height": 423
        },
        "outputId": "fd31d4e5-badc-43e3-bc76-cfec031ff898"
      },
      "outputs": [
        {
          "output_type": "execute_result",
          "data": {
            "text/plain": [
              "       UserName  ScreenName                      Location     TweetAt  \\\n",
              "0          3800       48752                            UK  16-03-2020   \n",
              "1          3801       48753                     Vagabonds  16-03-2020   \n",
              "2          3802       48754                           NaN  16-03-2020   \n",
              "3          3803       48755                           NaN  16-03-2020   \n",
              "4          3804       48756   ÃÂT: 36.319708,-82.363649  16-03-2020   \n",
              "...         ...         ...                           ...         ...   \n",
              "33439     44949       89901                          OHIO  14-04-2020   \n",
              "33440     44950       89902                           NaN  14-04-2020   \n",
              "33441     44952       89904                           NaN  14-04-2020   \n",
              "33442     44953       89905                           NaN  14-04-2020   \n",
              "33443     44955       89907  i love you so much || he/him  14-04-2020   \n",
              "\n",
              "                                           OriginalTweet  Sentiment  \n",
              "0      advice Talk to your neighbours family to excha...          1  \n",
              "1      Coronavirus Australia: Woolworths to give elde...          1  \n",
              "2      My food stock is not the only one which is emp...          1  \n",
              "3      Me, ready to go at supermarket during the #COV...          0  \n",
              "4      As news of the regionÃÂs first confirmed COV...          1  \n",
              "...                                                  ...        ...  \n",
              "33439  I never that weÃÂd be in a situation &amp; w...          1  \n",
              "33440  @MrSilverScott you are definitely my man. I fe...          1  \n",
              "33441  Response to complaint not provided citing COVI...          0  \n",
              "33442  You know itÃÂs getting tough when @KameronWi...          1  \n",
              "33443  @TartiiCat Well new/used Rift S are going for ...          0  \n",
              "\n",
              "[33444 rows x 6 columns]"
            ],
            "text/html": [
              "\n",
              "  <div id=\"df-2831b496-00b8-4b27-bba6-036a08606117\" class=\"colab-df-container\">\n",
              "    <div>\n",
              "<style scoped>\n",
              "    .dataframe tbody tr th:only-of-type {\n",
              "        vertical-align: middle;\n",
              "    }\n",
              "\n",
              "    .dataframe tbody tr th {\n",
              "        vertical-align: top;\n",
              "    }\n",
              "\n",
              "    .dataframe thead th {\n",
              "        text-align: right;\n",
              "    }\n",
              "</style>\n",
              "<table border=\"1\" class=\"dataframe\">\n",
              "  <thead>\n",
              "    <tr style=\"text-align: right;\">\n",
              "      <th></th>\n",
              "      <th>UserName</th>\n",
              "      <th>ScreenName</th>\n",
              "      <th>Location</th>\n",
              "      <th>TweetAt</th>\n",
              "      <th>OriginalTweet</th>\n",
              "      <th>Sentiment</th>\n",
              "    </tr>\n",
              "  </thead>\n",
              "  <tbody>\n",
              "    <tr>\n",
              "      <th>0</th>\n",
              "      <td>3800</td>\n",
              "      <td>48752</td>\n",
              "      <td>UK</td>\n",
              "      <td>16-03-2020</td>\n",
              "      <td>advice Talk to your neighbours family to excha...</td>\n",
              "      <td>1</td>\n",
              "    </tr>\n",
              "    <tr>\n",
              "      <th>1</th>\n",
              "      <td>3801</td>\n",
              "      <td>48753</td>\n",
              "      <td>Vagabonds</td>\n",
              "      <td>16-03-2020</td>\n",
              "      <td>Coronavirus Australia: Woolworths to give elde...</td>\n",
              "      <td>1</td>\n",
              "    </tr>\n",
              "    <tr>\n",
              "      <th>2</th>\n",
              "      <td>3802</td>\n",
              "      <td>48754</td>\n",
              "      <td>NaN</td>\n",
              "      <td>16-03-2020</td>\n",
              "      <td>My food stock is not the only one which is emp...</td>\n",
              "      <td>1</td>\n",
              "    </tr>\n",
              "    <tr>\n",
              "      <th>3</th>\n",
              "      <td>3803</td>\n",
              "      <td>48755</td>\n",
              "      <td>NaN</td>\n",
              "      <td>16-03-2020</td>\n",
              "      <td>Me, ready to go at supermarket during the #COV...</td>\n",
              "      <td>0</td>\n",
              "    </tr>\n",
              "    <tr>\n",
              "      <th>4</th>\n",
              "      <td>3804</td>\n",
              "      <td>48756</td>\n",
              "      <td>ÃÂT: 36.319708,-82.363649</td>\n",
              "      <td>16-03-2020</td>\n",
              "      <td>As news of the regionÃÂs first confirmed COV...</td>\n",
              "      <td>1</td>\n",
              "    </tr>\n",
              "    <tr>\n",
              "      <th>...</th>\n",
              "      <td>...</td>\n",
              "      <td>...</td>\n",
              "      <td>...</td>\n",
              "      <td>...</td>\n",
              "      <td>...</td>\n",
              "      <td>...</td>\n",
              "    </tr>\n",
              "    <tr>\n",
              "      <th>33439</th>\n",
              "      <td>44949</td>\n",
              "      <td>89901</td>\n",
              "      <td>OHIO</td>\n",
              "      <td>14-04-2020</td>\n",
              "      <td>I never that weÃÂd be in a situation &amp;amp; w...</td>\n",
              "      <td>1</td>\n",
              "    </tr>\n",
              "    <tr>\n",
              "      <th>33440</th>\n",
              "      <td>44950</td>\n",
              "      <td>89902</td>\n",
              "      <td>NaN</td>\n",
              "      <td>14-04-2020</td>\n",
              "      <td>@MrSilverScott you are definitely my man. I fe...</td>\n",
              "      <td>1</td>\n",
              "    </tr>\n",
              "    <tr>\n",
              "      <th>33441</th>\n",
              "      <td>44952</td>\n",
              "      <td>89904</td>\n",
              "      <td>NaN</td>\n",
              "      <td>14-04-2020</td>\n",
              "      <td>Response to complaint not provided citing COVI...</td>\n",
              "      <td>0</td>\n",
              "    </tr>\n",
              "    <tr>\n",
              "      <th>33442</th>\n",
              "      <td>44953</td>\n",
              "      <td>89905</td>\n",
              "      <td>NaN</td>\n",
              "      <td>14-04-2020</td>\n",
              "      <td>You know itÃÂs getting tough when @KameronWi...</td>\n",
              "      <td>1</td>\n",
              "    </tr>\n",
              "    <tr>\n",
              "      <th>33443</th>\n",
              "      <td>44955</td>\n",
              "      <td>89907</td>\n",
              "      <td>i love you so much || he/him</td>\n",
              "      <td>14-04-2020</td>\n",
              "      <td>@TartiiCat Well new/used Rift S are going for ...</td>\n",
              "      <td>0</td>\n",
              "    </tr>\n",
              "  </tbody>\n",
              "</table>\n",
              "<p>33444 rows × 6 columns</p>\n",
              "</div>\n",
              "    <div class=\"colab-df-buttons\">\n",
              "\n",
              "  <div class=\"colab-df-container\">\n",
              "    <button class=\"colab-df-convert\" onclick=\"convertToInteractive('df-2831b496-00b8-4b27-bba6-036a08606117')\"\n",
              "            title=\"Convert this dataframe to an interactive table.\"\n",
              "            style=\"display:none;\">\n",
              "\n",
              "  <svg xmlns=\"http://www.w3.org/2000/svg\" height=\"24px\" viewBox=\"0 -960 960 960\">\n",
              "    <path d=\"M120-120v-720h720v720H120Zm60-500h600v-160H180v160Zm220 220h160v-160H400v160Zm0 220h160v-160H400v160ZM180-400h160v-160H180v160Zm440 0h160v-160H620v160ZM180-180h160v-160H180v160Zm440 0h160v-160H620v160Z\"/>\n",
              "  </svg>\n",
              "    </button>\n",
              "\n",
              "  <style>\n",
              "    .colab-df-container {\n",
              "      display:flex;\n",
              "      gap: 12px;\n",
              "    }\n",
              "\n",
              "    .colab-df-convert {\n",
              "      background-color: #E8F0FE;\n",
              "      border: none;\n",
              "      border-radius: 50%;\n",
              "      cursor: pointer;\n",
              "      display: none;\n",
              "      fill: #1967D2;\n",
              "      height: 32px;\n",
              "      padding: 0 0 0 0;\n",
              "      width: 32px;\n",
              "    }\n",
              "\n",
              "    .colab-df-convert:hover {\n",
              "      background-color: #E2EBFA;\n",
              "      box-shadow: 0px 1px 2px rgba(60, 64, 67, 0.3), 0px 1px 3px 1px rgba(60, 64, 67, 0.15);\n",
              "      fill: #174EA6;\n",
              "    }\n",
              "\n",
              "    .colab-df-buttons div {\n",
              "      margin-bottom: 4px;\n",
              "    }\n",
              "\n",
              "    [theme=dark] .colab-df-convert {\n",
              "      background-color: #3B4455;\n",
              "      fill: #D2E3FC;\n",
              "    }\n",
              "\n",
              "    [theme=dark] .colab-df-convert:hover {\n",
              "      background-color: #434B5C;\n",
              "      box-shadow: 0px 1px 3px 1px rgba(0, 0, 0, 0.15);\n",
              "      filter: drop-shadow(0px 1px 2px rgba(0, 0, 0, 0.3));\n",
              "      fill: #FFFFFF;\n",
              "    }\n",
              "  </style>\n",
              "\n",
              "    <script>\n",
              "      const buttonEl =\n",
              "        document.querySelector('#df-2831b496-00b8-4b27-bba6-036a08606117 button.colab-df-convert');\n",
              "      buttonEl.style.display =\n",
              "        google.colab.kernel.accessAllowed ? 'block' : 'none';\n",
              "\n",
              "      async function convertToInteractive(key) {\n",
              "        const element = document.querySelector('#df-2831b496-00b8-4b27-bba6-036a08606117');\n",
              "        const dataTable =\n",
              "          await google.colab.kernel.invokeFunction('convertToInteractive',\n",
              "                                                    [key], {});\n",
              "        if (!dataTable) return;\n",
              "\n",
              "        const docLinkHtml = 'Like what you see? Visit the ' +\n",
              "          '<a target=\"_blank\" href=https://colab.research.google.com/notebooks/data_table.ipynb>data table notebook</a>'\n",
              "          + ' to learn more about interactive tables.';\n",
              "        element.innerHTML = '';\n",
              "        dataTable['output_type'] = 'display_data';\n",
              "        await google.colab.output.renderOutput(dataTable, element);\n",
              "        const docLink = document.createElement('div');\n",
              "        docLink.innerHTML = docLinkHtml;\n",
              "        element.appendChild(docLink);\n",
              "      }\n",
              "    </script>\n",
              "  </div>\n",
              "\n",
              "\n",
              "<div id=\"df-bfd570bb-6501-4358-919d-3d7d6f6a05a7\">\n",
              "  <button class=\"colab-df-quickchart\" onclick=\"quickchart('df-bfd570bb-6501-4358-919d-3d7d6f6a05a7')\"\n",
              "            title=\"Suggest charts\"\n",
              "            style=\"display:none;\">\n",
              "\n",
              "<svg xmlns=\"http://www.w3.org/2000/svg\" height=\"24px\"viewBox=\"0 0 24 24\"\n",
              "     width=\"24px\">\n",
              "    <g>\n",
              "        <path d=\"M19 3H5c-1.1 0-2 .9-2 2v14c0 1.1.9 2 2 2h14c1.1 0 2-.9 2-2V5c0-1.1-.9-2-2-2zM9 17H7v-7h2v7zm4 0h-2V7h2v10zm4 0h-2v-4h2v4z\"/>\n",
              "    </g>\n",
              "</svg>\n",
              "  </button>\n",
              "\n",
              "<style>\n",
              "  .colab-df-quickchart {\n",
              "      --bg-color: #E8F0FE;\n",
              "      --fill-color: #1967D2;\n",
              "      --hover-bg-color: #E2EBFA;\n",
              "      --hover-fill-color: #174EA6;\n",
              "      --disabled-fill-color: #AAA;\n",
              "      --disabled-bg-color: #DDD;\n",
              "  }\n",
              "\n",
              "  [theme=dark] .colab-df-quickchart {\n",
              "      --bg-color: #3B4455;\n",
              "      --fill-color: #D2E3FC;\n",
              "      --hover-bg-color: #434B5C;\n",
              "      --hover-fill-color: #FFFFFF;\n",
              "      --disabled-bg-color: #3B4455;\n",
              "      --disabled-fill-color: #666;\n",
              "  }\n",
              "\n",
              "  .colab-df-quickchart {\n",
              "    background-color: var(--bg-color);\n",
              "    border: none;\n",
              "    border-radius: 50%;\n",
              "    cursor: pointer;\n",
              "    display: none;\n",
              "    fill: var(--fill-color);\n",
              "    height: 32px;\n",
              "    padding: 0;\n",
              "    width: 32px;\n",
              "  }\n",
              "\n",
              "  .colab-df-quickchart:hover {\n",
              "    background-color: var(--hover-bg-color);\n",
              "    box-shadow: 0 1px 2px rgba(60, 64, 67, 0.3), 0 1px 3px 1px rgba(60, 64, 67, 0.15);\n",
              "    fill: var(--button-hover-fill-color);\n",
              "  }\n",
              "\n",
              "  .colab-df-quickchart-complete:disabled,\n",
              "  .colab-df-quickchart-complete:disabled:hover {\n",
              "    background-color: var(--disabled-bg-color);\n",
              "    fill: var(--disabled-fill-color);\n",
              "    box-shadow: none;\n",
              "  }\n",
              "\n",
              "  .colab-df-spinner {\n",
              "    border: 2px solid var(--fill-color);\n",
              "    border-color: transparent;\n",
              "    border-bottom-color: var(--fill-color);\n",
              "    animation:\n",
              "      spin 1s steps(1) infinite;\n",
              "  }\n",
              "\n",
              "  @keyframes spin {\n",
              "    0% {\n",
              "      border-color: transparent;\n",
              "      border-bottom-color: var(--fill-color);\n",
              "      border-left-color: var(--fill-color);\n",
              "    }\n",
              "    20% {\n",
              "      border-color: transparent;\n",
              "      border-left-color: var(--fill-color);\n",
              "      border-top-color: var(--fill-color);\n",
              "    }\n",
              "    30% {\n",
              "      border-color: transparent;\n",
              "      border-left-color: var(--fill-color);\n",
              "      border-top-color: var(--fill-color);\n",
              "      border-right-color: var(--fill-color);\n",
              "    }\n",
              "    40% {\n",
              "      border-color: transparent;\n",
              "      border-right-color: var(--fill-color);\n",
              "      border-top-color: var(--fill-color);\n",
              "    }\n",
              "    60% {\n",
              "      border-color: transparent;\n",
              "      border-right-color: var(--fill-color);\n",
              "    }\n",
              "    80% {\n",
              "      border-color: transparent;\n",
              "      border-right-color: var(--fill-color);\n",
              "      border-bottom-color: var(--fill-color);\n",
              "    }\n",
              "    90% {\n",
              "      border-color: transparent;\n",
              "      border-bottom-color: var(--fill-color);\n",
              "    }\n",
              "  }\n",
              "</style>\n",
              "\n",
              "  <script>\n",
              "    async function quickchart(key) {\n",
              "      const quickchartButtonEl =\n",
              "        document.querySelector('#' + key + ' button');\n",
              "      quickchartButtonEl.disabled = true;  // To prevent multiple clicks.\n",
              "      quickchartButtonEl.classList.add('colab-df-spinner');\n",
              "      try {\n",
              "        const charts = await google.colab.kernel.invokeFunction(\n",
              "            'suggestCharts', [key], {});\n",
              "      } catch (error) {\n",
              "        console.error('Error during call to suggestCharts:', error);\n",
              "      }\n",
              "      quickchartButtonEl.classList.remove('colab-df-spinner');\n",
              "      quickchartButtonEl.classList.add('colab-df-quickchart-complete');\n",
              "    }\n",
              "    (() => {\n",
              "      let quickchartButtonEl =\n",
              "        document.querySelector('#df-bfd570bb-6501-4358-919d-3d7d6f6a05a7 button');\n",
              "      quickchartButtonEl.style.display =\n",
              "        google.colab.kernel.accessAllowed ? 'block' : 'none';\n",
              "    })();\n",
              "  </script>\n",
              "</div>\n",
              "    </div>\n",
              "  </div>\n"
            ],
            "application/vnd.google.colaboratory.intrinsic+json": {
              "type": "dataframe",
              "variable_name": "df",
              "summary": "{\n  \"name\": \"df\",\n  \"rows\": 33444,\n  \"fields\": [\n    {\n      \"column\": \"UserName\",\n      \"properties\": {\n        \"dtype\": \"number\",\n        \"std\": 11875,\n        \"min\": 3800,\n        \"max\": 44955,\n        \"num_unique_values\": 33444,\n        \"samples\": [\n          33995,\n          17124,\n          18421\n        ],\n        \"semantic_type\": \"\",\n        \"description\": \"\"\n      }\n    },\n    {\n      \"column\": \"ScreenName\",\n      \"properties\": {\n        \"dtype\": \"number\",\n        \"std\": 11875,\n        \"min\": 48752,\n        \"max\": 89907,\n        \"num_unique_values\": 33444,\n        \"samples\": [\n          78947,\n          62076,\n          63373\n        ],\n        \"semantic_type\": \"\",\n        \"description\": \"\"\n      }\n    },\n    {\n      \"column\": \"Location\",\n      \"properties\": {\n        \"dtype\": \"category\",\n        \"num_unique_values\": 10465,\n        \"samples\": [\n          \"Kitchener | Ontario | Canada\",\n          \"Montr\\u00c3\\u0083\\u00c2\\u00a9al\",\n          \"England. Germany.\"\n        ],\n        \"semantic_type\": \"\",\n        \"description\": \"\"\n      }\n    },\n    {\n      \"column\": \"TweetAt\",\n      \"properties\": {\n        \"dtype\": \"object\",\n        \"num_unique_values\": 30,\n        \"samples\": [\n          \"12-04-2020\",\n          \"31-03-2020\",\n          \"08-04-2020\"\n        ],\n        \"semantic_type\": \"\",\n        \"description\": \"\"\n      }\n    },\n    {\n      \"column\": \"OriginalTweet\",\n      \"properties\": {\n        \"dtype\": \"string\",\n        \"num_unique_values\": 33444,\n        \"samples\": [\n          \"US death toll is way less than estimated. This I hope will bring back consumer confidence #coronavirus #Covid_19 #CoronavirusUSA\",\n          \"We will get through this by people helping people and not stock piling food and toiletries, selfish pricks #Covid_19\",\n          \"#rice prices soar to two-year high, traders blame it on #coronavirus panic buying, writes #YasirWardad https://t.co/hIXzS1DKdo #FE via @febdonline\"\n        ],\n        \"semantic_type\": \"\",\n        \"description\": \"\"\n      }\n    },\n    {\n      \"column\": \"Sentiment\",\n      \"properties\": {\n        \"dtype\": \"number\",\n        \"std\": 0,\n        \"min\": 0,\n        \"max\": 1,\n        \"num_unique_values\": 2,\n        \"samples\": [\n          0,\n          1\n        ],\n        \"semantic_type\": \"\",\n        \"description\": \"\"\n      }\n    }\n  ]\n}"
            }
          },
          "metadata": {},
          "execution_count": 5
        }
      ],
      "source": [
        "\n",
        "df['Sentiment']=np.where((df['Sentiment']=='Positive') | (df['Sentiment']=='Extremely Positive'),1,0)\n",
        "df"
      ]
    },
    {
      "cell_type": "markdown",
      "metadata": {
        "id": "pGq1FxJ-kBo5"
      },
      "source": [
        "Сбалансированы ли классы?"
      ]
    },
    {
      "cell_type": "code",
      "execution_count": 6,
      "metadata": {
        "id": "a7gdNtxckK5V",
        "colab": {
          "base_uri": "https://localhost:8080/"
        },
        "outputId": "741633ec-a31c-4298-b863-e111a7d35cf2"
      },
      "outputs": [
        {
          "output_type": "execute_result",
          "data": {
            "text/plain": [
              "Sentiment\n",
              "1    18046\n",
              "0    15398\n",
              "Name: count, dtype: int64"
            ]
          },
          "metadata": {},
          "execution_count": 6
        }
      ],
      "source": [
        "df['Sentiment'].value_counts()\n",
        "#сбалансированы"
      ]
    },
    {
      "cell_type": "code",
      "source": [
        "print(round(df['Sentiment'].value_counts()[1]/(df['Sentiment'].value_counts()[0]+df['Sentiment'].value_counts()[1])*100,2))"
      ],
      "metadata": {
        "id": "N7JV_d5oAYoI",
        "outputId": "e8d32d96-c6cb-4941-9c17-bc0f161324f4",
        "colab": {
          "base_uri": "https://localhost:8080/"
        }
      },
      "execution_count": 7,
      "outputs": [
        {
          "output_type": "stream",
          "name": "stdout",
          "text": [
            "53.96\n"
          ]
        }
      ]
    },
    {
      "cell_type": "code",
      "source": [
        "print(100-round(df['Sentiment'].value_counts()[1]/(df['Sentiment'].value_counts()[0]+df['Sentiment'].value_counts()[1])*100,2))"
      ],
      "metadata": {
        "id": "tV1cJ1SiBOQR",
        "outputId": "c4854b5a-9bd7-4b42-a023-34921e735668",
        "colab": {
          "base_uri": "https://localhost:8080/"
        }
      },
      "execution_count": 8,
      "outputs": [
        {
          "output_type": "stream",
          "name": "stdout",
          "text": [
            "46.04\n"
          ]
        }
      ]
    },
    {
      "cell_type": "code",
      "source": [
        "# Как мы видим классы сбалансированны, так как в процентном отношении они очень близки."
      ],
      "metadata": {
        "id": "QPrdFSoWBeV-"
      },
      "execution_count": 9,
      "outputs": []
    },
    {
      "cell_type": "markdown",
      "metadata": {
        "id": "Ng8BCelMkWb0"
      },
      "source": [
        "**Ответ:** # -- YOUR ANSWER HERE --"
      ]
    },
    {
      "cell_type": "markdown",
      "metadata": {
        "id": "qmSIBSsLk5Zz"
      },
      "source": [
        "Выведете на экран информацию о пропусках в данных. Если пропуски присутствуют заполните их строкой 'Unknown'."
      ]
    },
    {
      "cell_type": "code",
      "execution_count": 10,
      "metadata": {
        "id": "UhUVRkR5kxa7",
        "colab": {
          "base_uri": "https://localhost:8080/"
        },
        "outputId": "2f175e37-a9ba-410d-ef5a-ffdeb426aeb6"
      },
      "outputs": [
        {
          "output_type": "execute_result",
          "data": {
            "text/plain": [
              "UserName            0\n",
              "ScreenName          0\n",
              "Location         7049\n",
              "TweetAt             0\n",
              "OriginalTweet       0\n",
              "Sentiment           0\n",
              "dtype: int64"
            ]
          },
          "metadata": {},
          "execution_count": 10
        }
      ],
      "source": [
        "\n",
        "df.isna().sum()\n",
        "#  Как видно, пропуски присутствуют только в Location"
      ]
    },
    {
      "cell_type": "code",
      "source": [
        "df['Location'] = df['Location'].fillna('Unknown')"
      ],
      "metadata": {
        "id": "wwkP19S1FzT5"
      },
      "execution_count": 11,
      "outputs": []
    },
    {
      "cell_type": "markdown",
      "metadata": {
        "id": "1tzt27tfjUpq"
      },
      "source": [
        "Разделите данные на обучающие и тестовые в соотношении 7 : 3 и `random_state=0`"
      ]
    },
    {
      "cell_type": "code",
      "execution_count": 12,
      "metadata": {
        "id": "xSLOA9tIj9Z6"
      },
      "outputs": [],
      "source": [
        "from sklearn.model_selection import train_test_split\n",
        "\n",
        "train, test = train_test_split(df,test_size=0.3, random_state=0)\n"
      ]
    },
    {
      "cell_type": "code",
      "source": [
        "\n",
        "train_new=train.reset_index(drop=True, inplace=False)"
      ],
      "metadata": {
        "id": "kYbnLp-ktilW"
      },
      "execution_count": 13,
      "outputs": []
    },
    {
      "cell_type": "code",
      "source": [
        "train_new"
      ],
      "metadata": {
        "id": "V6wWiIezvQny",
        "outputId": "92bf87ab-095a-4e9b-8502-2bf92b0c0cdb",
        "colab": {
          "base_uri": "https://localhost:8080/",
          "height": 423
        }
      },
      "execution_count": 14,
      "outputs": [
        {
          "output_type": "execute_result",
          "data": {
            "text/plain": [
              "       UserName  ScreenName                        Location     TweetAt  \\\n",
              "0         35178       80130                         Unknown  06-04-2020   \n",
              "1         40819       85771                   Boston, MA HQ  10-04-2020   \n",
              "2         39249       84201                           India  09-04-2020   \n",
              "3         11068       56020             Mayfair, London, UK  19-03-2020   \n",
              "4          9109       54061                             WNC  18-03-2020   \n",
              "...         ...         ...                             ...         ...   \n",
              "23405     29120       74072                         Unknown  31-03-2020   \n",
              "23406     43291       88243  Waterville, Ireland Austin, TX  13-04-2020   \n",
              "23407     41159       86111            Mumbai , Delhi India  10-04-2020   \n",
              "23408     29702       74654                         Unknown  01-04-2020   \n",
              "23409      7104       52056                         Unknown  18-03-2020   \n",
              "\n",
              "                                           OriginalTweet  Sentiment  \n",
              "0      Why we still want to buy so much stuff during ...          1  \n",
              "1      With driving even more usage a strong strategy...          1  \n",
              "2      @Canon_India I am very happy.. Great job by @C...          1  \n",
              "3      The U.S national debt will likely exceed $30 T...          0  \n",
              "4      Finally got to the grocery store. Honestly, wh...          1  \n",
              "...                                                  ...        ...  \n",
              "23405  Football is in ruins right now.When it will re...          0  \n",
              "23406  Hand sanitizer made here on the Skellig Coast!...          1  \n",
              "23407  An initiative  taken by our  @GOLDENINITIATI1 ...          1  \n",
              "23408  Vile premiership players demanding full wages ...          0  \n",
              "23409  Just wondering why we arenÃÂt screening at t...          1  \n",
              "\n",
              "[23410 rows x 6 columns]"
            ],
            "text/html": [
              "\n",
              "  <div id=\"df-e0910bc2-eb31-4c67-bc66-4e39221c0d5b\" class=\"colab-df-container\">\n",
              "    <div>\n",
              "<style scoped>\n",
              "    .dataframe tbody tr th:only-of-type {\n",
              "        vertical-align: middle;\n",
              "    }\n",
              "\n",
              "    .dataframe tbody tr th {\n",
              "        vertical-align: top;\n",
              "    }\n",
              "\n",
              "    .dataframe thead th {\n",
              "        text-align: right;\n",
              "    }\n",
              "</style>\n",
              "<table border=\"1\" class=\"dataframe\">\n",
              "  <thead>\n",
              "    <tr style=\"text-align: right;\">\n",
              "      <th></th>\n",
              "      <th>UserName</th>\n",
              "      <th>ScreenName</th>\n",
              "      <th>Location</th>\n",
              "      <th>TweetAt</th>\n",
              "      <th>OriginalTweet</th>\n",
              "      <th>Sentiment</th>\n",
              "    </tr>\n",
              "  </thead>\n",
              "  <tbody>\n",
              "    <tr>\n",
              "      <th>0</th>\n",
              "      <td>35178</td>\n",
              "      <td>80130</td>\n",
              "      <td>Unknown</td>\n",
              "      <td>06-04-2020</td>\n",
              "      <td>Why we still want to buy so much stuff during ...</td>\n",
              "      <td>1</td>\n",
              "    </tr>\n",
              "    <tr>\n",
              "      <th>1</th>\n",
              "      <td>40819</td>\n",
              "      <td>85771</td>\n",
              "      <td>Boston, MA HQ</td>\n",
              "      <td>10-04-2020</td>\n",
              "      <td>With driving even more usage a strong strategy...</td>\n",
              "      <td>1</td>\n",
              "    </tr>\n",
              "    <tr>\n",
              "      <th>2</th>\n",
              "      <td>39249</td>\n",
              "      <td>84201</td>\n",
              "      <td>India</td>\n",
              "      <td>09-04-2020</td>\n",
              "      <td>@Canon_India I am very happy.. Great job by @C...</td>\n",
              "      <td>1</td>\n",
              "    </tr>\n",
              "    <tr>\n",
              "      <th>3</th>\n",
              "      <td>11068</td>\n",
              "      <td>56020</td>\n",
              "      <td>Mayfair, London, UK</td>\n",
              "      <td>19-03-2020</td>\n",
              "      <td>The U.S national debt will likely exceed $30 T...</td>\n",
              "      <td>0</td>\n",
              "    </tr>\n",
              "    <tr>\n",
              "      <th>4</th>\n",
              "      <td>9109</td>\n",
              "      <td>54061</td>\n",
              "      <td>WNC</td>\n",
              "      <td>18-03-2020</td>\n",
              "      <td>Finally got to the grocery store. Honestly, wh...</td>\n",
              "      <td>1</td>\n",
              "    </tr>\n",
              "    <tr>\n",
              "      <th>...</th>\n",
              "      <td>...</td>\n",
              "      <td>...</td>\n",
              "      <td>...</td>\n",
              "      <td>...</td>\n",
              "      <td>...</td>\n",
              "      <td>...</td>\n",
              "    </tr>\n",
              "    <tr>\n",
              "      <th>23405</th>\n",
              "      <td>29120</td>\n",
              "      <td>74072</td>\n",
              "      <td>Unknown</td>\n",
              "      <td>31-03-2020</td>\n",
              "      <td>Football is in ruins right now.When it will re...</td>\n",
              "      <td>0</td>\n",
              "    </tr>\n",
              "    <tr>\n",
              "      <th>23406</th>\n",
              "      <td>43291</td>\n",
              "      <td>88243</td>\n",
              "      <td>Waterville, Ireland Austin, TX</td>\n",
              "      <td>13-04-2020</td>\n",
              "      <td>Hand sanitizer made here on the Skellig Coast!...</td>\n",
              "      <td>1</td>\n",
              "    </tr>\n",
              "    <tr>\n",
              "      <th>23407</th>\n",
              "      <td>41159</td>\n",
              "      <td>86111</td>\n",
              "      <td>Mumbai , Delhi India</td>\n",
              "      <td>10-04-2020</td>\n",
              "      <td>An initiative  taken by our  @GOLDENINITIATI1 ...</td>\n",
              "      <td>1</td>\n",
              "    </tr>\n",
              "    <tr>\n",
              "      <th>23408</th>\n",
              "      <td>29702</td>\n",
              "      <td>74654</td>\n",
              "      <td>Unknown</td>\n",
              "      <td>01-04-2020</td>\n",
              "      <td>Vile premiership players demanding full wages ...</td>\n",
              "      <td>0</td>\n",
              "    </tr>\n",
              "    <tr>\n",
              "      <th>23409</th>\n",
              "      <td>7104</td>\n",
              "      <td>52056</td>\n",
              "      <td>Unknown</td>\n",
              "      <td>18-03-2020</td>\n",
              "      <td>Just wondering why we arenÃÂt screening at t...</td>\n",
              "      <td>1</td>\n",
              "    </tr>\n",
              "  </tbody>\n",
              "</table>\n",
              "<p>23410 rows × 6 columns</p>\n",
              "</div>\n",
              "    <div class=\"colab-df-buttons\">\n",
              "\n",
              "  <div class=\"colab-df-container\">\n",
              "    <button class=\"colab-df-convert\" onclick=\"convertToInteractive('df-e0910bc2-eb31-4c67-bc66-4e39221c0d5b')\"\n",
              "            title=\"Convert this dataframe to an interactive table.\"\n",
              "            style=\"display:none;\">\n",
              "\n",
              "  <svg xmlns=\"http://www.w3.org/2000/svg\" height=\"24px\" viewBox=\"0 -960 960 960\">\n",
              "    <path d=\"M120-120v-720h720v720H120Zm60-500h600v-160H180v160Zm220 220h160v-160H400v160Zm0 220h160v-160H400v160ZM180-400h160v-160H180v160Zm440 0h160v-160H620v160ZM180-180h160v-160H180v160Zm440 0h160v-160H620v160Z\"/>\n",
              "  </svg>\n",
              "    </button>\n",
              "\n",
              "  <style>\n",
              "    .colab-df-container {\n",
              "      display:flex;\n",
              "      gap: 12px;\n",
              "    }\n",
              "\n",
              "    .colab-df-convert {\n",
              "      background-color: #E8F0FE;\n",
              "      border: none;\n",
              "      border-radius: 50%;\n",
              "      cursor: pointer;\n",
              "      display: none;\n",
              "      fill: #1967D2;\n",
              "      height: 32px;\n",
              "      padding: 0 0 0 0;\n",
              "      width: 32px;\n",
              "    }\n",
              "\n",
              "    .colab-df-convert:hover {\n",
              "      background-color: #E2EBFA;\n",
              "      box-shadow: 0px 1px 2px rgba(60, 64, 67, 0.3), 0px 1px 3px 1px rgba(60, 64, 67, 0.15);\n",
              "      fill: #174EA6;\n",
              "    }\n",
              "\n",
              "    .colab-df-buttons div {\n",
              "      margin-bottom: 4px;\n",
              "    }\n",
              "\n",
              "    [theme=dark] .colab-df-convert {\n",
              "      background-color: #3B4455;\n",
              "      fill: #D2E3FC;\n",
              "    }\n",
              "\n",
              "    [theme=dark] .colab-df-convert:hover {\n",
              "      background-color: #434B5C;\n",
              "      box-shadow: 0px 1px 3px 1px rgba(0, 0, 0, 0.15);\n",
              "      filter: drop-shadow(0px 1px 2px rgba(0, 0, 0, 0.3));\n",
              "      fill: #FFFFFF;\n",
              "    }\n",
              "  </style>\n",
              "\n",
              "    <script>\n",
              "      const buttonEl =\n",
              "        document.querySelector('#df-e0910bc2-eb31-4c67-bc66-4e39221c0d5b button.colab-df-convert');\n",
              "      buttonEl.style.display =\n",
              "        google.colab.kernel.accessAllowed ? 'block' : 'none';\n",
              "\n",
              "      async function convertToInteractive(key) {\n",
              "        const element = document.querySelector('#df-e0910bc2-eb31-4c67-bc66-4e39221c0d5b');\n",
              "        const dataTable =\n",
              "          await google.colab.kernel.invokeFunction('convertToInteractive',\n",
              "                                                    [key], {});\n",
              "        if (!dataTable) return;\n",
              "\n",
              "        const docLinkHtml = 'Like what you see? Visit the ' +\n",
              "          '<a target=\"_blank\" href=https://colab.research.google.com/notebooks/data_table.ipynb>data table notebook</a>'\n",
              "          + ' to learn more about interactive tables.';\n",
              "        element.innerHTML = '';\n",
              "        dataTable['output_type'] = 'display_data';\n",
              "        await google.colab.output.renderOutput(dataTable, element);\n",
              "        const docLink = document.createElement('div');\n",
              "        docLink.innerHTML = docLinkHtml;\n",
              "        element.appendChild(docLink);\n",
              "      }\n",
              "    </script>\n",
              "  </div>\n",
              "\n",
              "\n",
              "<div id=\"df-a4e30da9-2ee2-4f51-a11e-a088c0a453aa\">\n",
              "  <button class=\"colab-df-quickchart\" onclick=\"quickchart('df-a4e30da9-2ee2-4f51-a11e-a088c0a453aa')\"\n",
              "            title=\"Suggest charts\"\n",
              "            style=\"display:none;\">\n",
              "\n",
              "<svg xmlns=\"http://www.w3.org/2000/svg\" height=\"24px\"viewBox=\"0 0 24 24\"\n",
              "     width=\"24px\">\n",
              "    <g>\n",
              "        <path d=\"M19 3H5c-1.1 0-2 .9-2 2v14c0 1.1.9 2 2 2h14c1.1 0 2-.9 2-2V5c0-1.1-.9-2-2-2zM9 17H7v-7h2v7zm4 0h-2V7h2v10zm4 0h-2v-4h2v4z\"/>\n",
              "    </g>\n",
              "</svg>\n",
              "  </button>\n",
              "\n",
              "<style>\n",
              "  .colab-df-quickchart {\n",
              "      --bg-color: #E8F0FE;\n",
              "      --fill-color: #1967D2;\n",
              "      --hover-bg-color: #E2EBFA;\n",
              "      --hover-fill-color: #174EA6;\n",
              "      --disabled-fill-color: #AAA;\n",
              "      --disabled-bg-color: #DDD;\n",
              "  }\n",
              "\n",
              "  [theme=dark] .colab-df-quickchart {\n",
              "      --bg-color: #3B4455;\n",
              "      --fill-color: #D2E3FC;\n",
              "      --hover-bg-color: #434B5C;\n",
              "      --hover-fill-color: #FFFFFF;\n",
              "      --disabled-bg-color: #3B4455;\n",
              "      --disabled-fill-color: #666;\n",
              "  }\n",
              "\n",
              "  .colab-df-quickchart {\n",
              "    background-color: var(--bg-color);\n",
              "    border: none;\n",
              "    border-radius: 50%;\n",
              "    cursor: pointer;\n",
              "    display: none;\n",
              "    fill: var(--fill-color);\n",
              "    height: 32px;\n",
              "    padding: 0;\n",
              "    width: 32px;\n",
              "  }\n",
              "\n",
              "  .colab-df-quickchart:hover {\n",
              "    background-color: var(--hover-bg-color);\n",
              "    box-shadow: 0 1px 2px rgba(60, 64, 67, 0.3), 0 1px 3px 1px rgba(60, 64, 67, 0.15);\n",
              "    fill: var(--button-hover-fill-color);\n",
              "  }\n",
              "\n",
              "  .colab-df-quickchart-complete:disabled,\n",
              "  .colab-df-quickchart-complete:disabled:hover {\n",
              "    background-color: var(--disabled-bg-color);\n",
              "    fill: var(--disabled-fill-color);\n",
              "    box-shadow: none;\n",
              "  }\n",
              "\n",
              "  .colab-df-spinner {\n",
              "    border: 2px solid var(--fill-color);\n",
              "    border-color: transparent;\n",
              "    border-bottom-color: var(--fill-color);\n",
              "    animation:\n",
              "      spin 1s steps(1) infinite;\n",
              "  }\n",
              "\n",
              "  @keyframes spin {\n",
              "    0% {\n",
              "      border-color: transparent;\n",
              "      border-bottom-color: var(--fill-color);\n",
              "      border-left-color: var(--fill-color);\n",
              "    }\n",
              "    20% {\n",
              "      border-color: transparent;\n",
              "      border-left-color: var(--fill-color);\n",
              "      border-top-color: var(--fill-color);\n",
              "    }\n",
              "    30% {\n",
              "      border-color: transparent;\n",
              "      border-left-color: var(--fill-color);\n",
              "      border-top-color: var(--fill-color);\n",
              "      border-right-color: var(--fill-color);\n",
              "    }\n",
              "    40% {\n",
              "      border-color: transparent;\n",
              "      border-right-color: var(--fill-color);\n",
              "      border-top-color: var(--fill-color);\n",
              "    }\n",
              "    60% {\n",
              "      border-color: transparent;\n",
              "      border-right-color: var(--fill-color);\n",
              "    }\n",
              "    80% {\n",
              "      border-color: transparent;\n",
              "      border-right-color: var(--fill-color);\n",
              "      border-bottom-color: var(--fill-color);\n",
              "    }\n",
              "    90% {\n",
              "      border-color: transparent;\n",
              "      border-bottom-color: var(--fill-color);\n",
              "    }\n",
              "  }\n",
              "</style>\n",
              "\n",
              "  <script>\n",
              "    async function quickchart(key) {\n",
              "      const quickchartButtonEl =\n",
              "        document.querySelector('#' + key + ' button');\n",
              "      quickchartButtonEl.disabled = true;  // To prevent multiple clicks.\n",
              "      quickchartButtonEl.classList.add('colab-df-spinner');\n",
              "      try {\n",
              "        const charts = await google.colab.kernel.invokeFunction(\n",
              "            'suggestCharts', [key], {});\n",
              "      } catch (error) {\n",
              "        console.error('Error during call to suggestCharts:', error);\n",
              "      }\n",
              "      quickchartButtonEl.classList.remove('colab-df-spinner');\n",
              "      quickchartButtonEl.classList.add('colab-df-quickchart-complete');\n",
              "    }\n",
              "    (() => {\n",
              "      let quickchartButtonEl =\n",
              "        document.querySelector('#df-a4e30da9-2ee2-4f51-a11e-a088c0a453aa button');\n",
              "      quickchartButtonEl.style.display =\n",
              "        google.colab.kernel.accessAllowed ? 'block' : 'none';\n",
              "    })();\n",
              "  </script>\n",
              "</div>\n",
              "    </div>\n",
              "  </div>\n"
            ],
            "application/vnd.google.colaboratory.intrinsic+json": {
              "type": "dataframe",
              "variable_name": "train_new",
              "summary": "{\n  \"name\": \"train_new\",\n  \"rows\": 23410,\n  \"fields\": [\n    {\n      \"column\": \"UserName\",\n      \"properties\": {\n        \"dtype\": \"number\",\n        \"std\": 11880,\n        \"min\": 3800,\n        \"max\": 44953,\n        \"num_unique_values\": 23410,\n        \"samples\": [\n          22348,\n          35556,\n          33042\n        ],\n        \"semantic_type\": \"\",\n        \"description\": \"\"\n      }\n    },\n    {\n      \"column\": \"ScreenName\",\n      \"properties\": {\n        \"dtype\": \"number\",\n        \"std\": 11880,\n        \"min\": 48752,\n        \"max\": 89905,\n        \"num_unique_values\": 23410,\n        \"samples\": [\n          67300,\n          80508,\n          77994\n        ],\n        \"semantic_type\": \"\",\n        \"description\": \"\"\n      }\n    },\n    {\n      \"column\": \"Location\",\n      \"properties\": {\n        \"dtype\": \"category\",\n        \"num_unique_values\": 7949,\n        \"samples\": [\n          \"Brussels, Belgium\",\n          \"Morioh cho\",\n          \"San Jacinto, CA\"\n        ],\n        \"semantic_type\": \"\",\n        \"description\": \"\"\n      }\n    },\n    {\n      \"column\": \"TweetAt\",\n      \"properties\": {\n        \"dtype\": \"category\",\n        \"num_unique_values\": 30,\n        \"samples\": [\n          \"31-03-2020\",\n          \"16-03-2020\",\n          \"24-03-2020\"\n        ],\n        \"semantic_type\": \"\",\n        \"description\": \"\"\n      }\n    },\n    {\n      \"column\": \"OriginalTweet\",\n      \"properties\": {\n        \"dtype\": \"string\",\n        \"num_unique_values\": 23410,\n        \"samples\": [\n          \"#POTUS \\r\\r\\n#FishTankTreatment uses same chemical in  drug you said \\\"game changer\\\" for #coronavirus It's a DIFFERENT form from \\\"hydroxychoronquine\\\", a #Malaria drug Now prices soared to $500+ on bidding sites #BannerHealth says  one DIED in AZ\\r\\r\\nYou are NOT a doctor! #WordsMatter\",\n          \"@dangerfield35 @HabgoodAaron @ReelAdventures_ @1116sen Unless you are fishing from a jetty its quite easy to find a spot with nobody near you. People are less likely to pass on the Covid 19 when fishing than they are going to the Supermarket ( which is es\",\n          \"A Supermarket Chain Was One Of The First To Anticipate Coronavirus. Then It Made A Truly Thoughtful Gesture To Help Local Restaurants | https://t.co/XifCsvX4rb #restaurants #supermarket #coronavirus  https://t.co/oroZoxtSXp\"\n        ],\n        \"semantic_type\": \"\",\n        \"description\": \"\"\n      }\n    },\n    {\n      \"column\": \"Sentiment\",\n      \"properties\": {\n        \"dtype\": \"number\",\n        \"std\": 0,\n        \"min\": 0,\n        \"max\": 1,\n        \"num_unique_values\": 2,\n        \"samples\": [\n          0,\n          1\n        ],\n        \"semantic_type\": \"\",\n        \"description\": \"\"\n      }\n    }\n  ]\n}"
            }
          },
          "metadata": {},
          "execution_count": 14
        }
      ]
    },
    {
      "cell_type": "markdown",
      "metadata": {
        "id": "J9RrPUsJlL60"
      },
      "source": [
        "## Задание 2 Токенизация (3 балла)"
      ]
    },
    {
      "cell_type": "markdown",
      "metadata": {
        "id": "2Dz_b7Xopc_R"
      },
      "source": [
        "Постройте словарь на основе обучающей выборки и посчитайте количество встреч каждого токена с использованием самой простой токенизации - деления текстов по пробельным символам и приведение токенов в нижний регистр"
      ]
    },
    {
      "cell_type": "code",
      "execution_count": 15,
      "metadata": {
        "id": "SFr67WOJphny"
      },
      "outputs": [],
      "source": [
        "# # -- YOUR CODE HERE --\n",
        "a=''\n",
        "for i in range (train_new.shape[0]):\n",
        "  a+=train_new['OriginalTweet'][i]\n",
        "\n",
        "a = a.lower().split()\n",
        "\n"
      ]
    },
    {
      "cell_type": "code",
      "source": [
        "dictionary={}\n",
        "for word in a:\n",
        "  if word in dictionary:\n",
        "    dictionary[word] += 1\n",
        "  else:\n",
        "    dictionary[word] = 1\n",
        "dictionary\n"
      ],
      "metadata": {
        "colab": {
          "base_uri": "https://localhost:8080/"
        },
        "id": "On_fDK7_SmEM",
        "outputId": "7818ac52-da95-42fc-def8-5ed1c618aa84"
      },
      "execution_count": 16,
      "outputs": [
        {
          "output_type": "execute_result",
          "data": {
            "text/plain": [
              "{'why': 543,\n",
              " 'we': 3441,\n",
              " 'still': 747,\n",
              " 'want': 463,\n",
              " 'to': 23217,\n",
              " 'buy': 741,\n",
              " 'so': 1660,\n",
              " 'much': 478,\n",
              " 'stuff': 105,\n",
              " 'during': 1831,\n",
              " 'quarantine': 141,\n",
              " 'https://t.co/1m881cwfuv': 1,\n",
              " '#shopping': 115,\n",
              " '#covid_19': 1313,\n",
              " '#onlinewith': 1,\n",
              " 'driving': 74,\n",
              " 'even': 650,\n",
              " 'more': 1905,\n",
              " 'usage': 22,\n",
              " 'a': 11406,\n",
              " 'strong': 90,\n",
              " 'strategy': 31,\n",
              " 'is': 7280,\n",
              " 'critical': 154,\n",
              " 'now': 1260,\n",
              " 'then': 434,\n",
              " 'ever': 172,\n",
              " 'luckily': 8,\n",
              " 'and': 14626,\n",
              " 'april': 158,\n",
              " '16': 34,\n",
              " 'webinar': 63,\n",
              " 'will': 2691,\n",
              " 'dive': 10,\n",
              " 'into': 666,\n",
              " 'growing': 81,\n",
              " 'app': 50,\n",
              " 'awareness': 30,\n",
              " 'targeting': 9,\n",
              " 'high': 402,\n",
              " 'lifetime': 4,\n",
              " 'value': 78,\n",
              " 'users@canon_india': 1,\n",
              " 'i': 4580,\n",
              " 'am': 412,\n",
              " 'very': 398,\n",
              " 'happy..': 1,\n",
              " 'great': 361,\n",
              " 'job': 240,\n",
              " 'by': 2207,\n",
              " '@canon_india': 8,\n",
              " '#canonforcommunity': 5,\n",
              " 'https://t.co/z0intks34xthe': 1,\n",
              " 'u.s': 7,\n",
              " 'national': 116,\n",
              " 'debt': 67,\n",
              " 'likely': 170,\n",
              " 'exceed': 14,\n",
              " '$30': 7,\n",
              " 'trillion': 21,\n",
              " 'after': 826,\n",
              " 'the': 25775,\n",
              " 'unprecedented': 89,\n",
              " 'borrowing': 5,\n",
              " 'trump': 191,\n",
              " 'administration': 38,\n",
              " 'mnuchinã\\x82â\\x92s': 1,\n",
              " 'treasury': 3,\n",
              " '#coronavirus': 6761,\n",
              " 'crisis.': 157,\n",
              " 'federal': 97,\n",
              " 'reserve': 16,\n",
              " 'could': 628,\n",
              " 'be': 3524,\n",
              " 'doing': 501,\n",
              " 'cushion': 9,\n",
              " 'blow.': 4,\n",
              " 'consumer': 2134,\n",
              " 'led': 67,\n",
              " 'economy': 238,\n",
              " 'on': 5379,\n",
              " 'brink.finally': 1,\n",
              " 'got': 390,\n",
              " 'grocery': 3350,\n",
              " 'store.': 338,\n",
              " 'honestly,': 5,\n",
              " 'what': 1390,\n",
              " 'are': 6980,\n",
              " 'you': 5305,\n",
              " 'people': 3033,\n",
              " 'with': 3871,\n",
              " 'all': 2718,\n",
              " 'toilet': 808,\n",
              " 'paper?': 24,\n",
              " 'https://t.co/jmobv8z0u0friends:': 1,\n",
              " 'catholic': 7,\n",
              " \"university's\": 1,\n",
              " 'food': 3677,\n",
              " 'service': 300,\n",
              " 'workers': 1212,\n",
              " 'have': 3727,\n",
              " 'been': 1068,\n",
              " 'laid': 50,\n",
              " 'off': 463,\n",
              " 'without': 297,\n",
              " 'pay.': 13,\n",
              " '(by': 4,\n",
              " 'contrast,': 2,\n",
              " 'georgetown': 2,\n",
              " 'has': 2273,\n",
              " 'set': 146,\n",
              " 'an': 1369,\n",
              " 'example': 46,\n",
              " 'consistent': 7,\n",
              " 'social': 593,\n",
              " 'teaching.)': 1,\n",
              " 'please': 921,\n",
              " 'sign': 97,\n",
              " 'rt.': 2,\n",
              " '@catholicpres': 1,\n",
              " '@catholicuniv': 1,\n",
              " \"https://t.co/evqby035wfit's\": 1,\n",
              " 'times': 348,\n",
              " 'like': 1523,\n",
              " 'these': 879,\n",
              " 'understand': 150,\n",
              " 'of': 12973,\n",
              " 'bidet.': 2,\n",
              " '#europe': 14,\n",
              " '#bidet': 6,\n",
              " '#toiletpaperregulatory': 1,\n",
              " 'litigation': 3,\n",
              " 'risks': 35,\n",
              " 'financial': 229,\n",
              " 'services': 255,\n",
              " 'providers': 37,\n",
              " 'highlighted': 9,\n",
              " 'in': 10898,\n",
              " 'ballard': 2,\n",
              " 'spahr': 2,\n",
              " 'covid-19': 2984,\n",
              " 'crisis': 649,\n",
              " 'fallout': 21,\n",
              " 'https://t.co/riqrhxxeim': 1,\n",
              " 'via': 601,\n",
              " '@@ballardspahrll': 1,\n",
              " '#training': 2,\n",
              " '#acaplease': 1,\n",
              " \"don't\": 523,\n",
              " 'panic': 1426,\n",
              " 'buying.': 76,\n",
              " \"i've\": 133,\n",
              " 'struggled': 10,\n",
              " 'get': 1741,\n",
              " 'basics': 19,\n",
              " 'as': 3432,\n",
              " 'emptying': 29,\n",
              " 'shelves.': 75,\n",
              " 'sensible': 19,\n",
              " \"aren't\": 61,\n",
              " 'shortage,': 13,\n",
              " 'just': 1341,\n",
              " 'shop': 459,\n",
              " 'time': 1103,\n",
              " 'restock': 42,\n",
              " 'if': 1788,\n",
              " \"we're\": 145,\n",
              " 'sensible,': 2,\n",
              " 'life': 233,\n",
              " 'slightly': 9,\n",
              " 'easier...take': 1,\n",
              " 'care': 394,\n",
              " '#coronacrisisat': 2,\n",
              " 'least': 222,\n",
              " 'essential': 483,\n",
              " 'allowed,': 2,\n",
              " 'can': 2129,\n",
              " 'go': 1236,\n",
              " 'store': 3123,\n",
              " 'bank.': 8,\n",
              " 'itã\\x82â\\x92s': 405,\n",
              " 'ridiculous': 55,\n",
              " 'that': 3725,\n",
              " 'actually': 146,\n",
              " 'act': 98,\n",
              " 'going': 1103,\n",
              " 'those': 774,\n",
              " 'types': 25,\n",
              " 'places': 81,\n",
              " 'ã\\x82â\\x93necessaryã\\x82â\\x94': 1,\n",
              " 'stopped': 48,\n",
              " 'police.': 3,\n",
              " '?': 1133,\n",
              " '#covid19': 2214,\n",
              " '#quarantinelifequeues': 1,\n",
              " 'outside': 149,\n",
              " 'supermarket': 3181,\n",
              " 'reserved': 10,\n",
              " 'for': 8436,\n",
              " 'elderly.': 7,\n",
              " 'britain,': 5,\n",
              " 'were': 565,\n",
              " 'better': 261,\n",
              " 'than': 890,\n",
              " 'this.': 86,\n",
              " 'https://t.co/0fmsmlgepmlt.': 1,\n",
              " 'gov.': 16,\n",
              " 'husted:': 1,\n",
              " '\"come': 4,\n",
              " 'people.': 109,\n",
              " 'that.\"': 4,\n",
              " 'hearing': 39,\n",
              " 'fight': 326,\n",
              " 'over': 772,\n",
              " 'paper': 584,\n",
              " '#covid_19from': 1,\n",
              " 'one': 1001,\n",
              " 'american': 88,\n",
              " 'irishman': 1,\n",
              " 'others': 288,\n",
              " 'out': 2005,\n",
              " 'there,': 13,\n",
              " '#happystpatricksday!': 1,\n",
              " 'at': 4550,\n",
              " 'bought': 159,\n",
              " 'some': 1260,\n",
              " 'guiness': 1,\n",
              " 'corned': 2,\n",
              " 'beef': 32,\n",
              " 'cabbage': 2,\n",
              " 'other': 887,\n",
              " 'day': 465,\n",
              " 'since': 335,\n",
              " 'sadly': 16,\n",
              " 'cannot': 147,\n",
              " 'irish': 5,\n",
              " 'pub': 21,\n",
              " 'per': 245,\n",
              " 'tradition,': 2,\n",
              " 'thanks': 225,\n",
              " 'governor': 35,\n",
              " 'pritzker': 2,\n",
              " 'damn': 66,\n",
              " '#coronavirus@ufcw': 1,\n",
              " 'says': 359,\n",
              " '30': 77,\n",
              " 'died': 115,\n",
              " 'from': 2975,\n",
              " '#coronavirus.': 218,\n",
              " 'union': 34,\n",
              " 'reps': 6,\n",
              " 'consumers': 292,\n",
              " 'help': 1240,\n",
              " 'protect': 328,\n",
              " 'workers/the': 1,\n",
              " 'public.': 19,\n",
              " '-': 1418,\n",
              " 'wear': 182,\n",
              " 'mask': 324,\n",
              " 'when': 1197,\n",
              " 'shopping': 1581,\n",
              " 'touch': 73,\n",
              " 'few': 314,\n",
              " 'products': 417,\n",
              " 'possible': 138,\n",
              " 'throw': 27,\n",
              " 'used': 175,\n",
              " 'mask/gloves': 2,\n",
              " 'theã\\x82â\\x93major': 1,\n",
              " 'chains': 143,\n",
              " 'beginning': 83,\n",
              " 'report': 258,\n",
              " 'their': 1970,\n",
              " 'first': 454,\n",
              " 'coronavirus-related': 14,\n",
              " 'employee': 114,\n",
              " 'deaths,': 7,\n",
              " 'leading': 57,\n",
              " 'closures': 71,\n",
              " 'increasing': 121,\n",
              " 'anxiety': 88,\n",
              " 'among': 89,\n",
              " 'pandemic': 928,\n",
              " 'intensifies': 8,\n",
              " 'across': 315,\n",
              " 'countryã\\x82â\\x94': 1,\n",
              " 'https://t.co/18v0pyhwb7my': 1,\n",
              " 'story': 109,\n",
              " 'another': 216,\n",
              " 'aspect': 3,\n",
              " 'covid-19:': 75,\n",
              " 'banks': 234,\n",
              " 'face': 398,\n",
              " 'virus': 464,\n",
              " 'dilemma:': 3,\n",
              " 'demand,': 67,\n",
              " 'fewer': 27,\n",
              " 'volunteers': 65,\n",
              " 'https://t.co/ls0g86i8pu': 1,\n",
              " 'https://t.co/ofvkejff23walking': 1,\n",
              " 'around': 386,\n",
              " 'store,': 196,\n",
              " 'wearing': 186,\n",
              " 'was': 1364,\n",
              " 'weird.': 4,\n",
              " 'seeing': 202,\n",
              " 'mask,': 41,\n",
              " 'normal.': 28,\n",
              " 'sanitizing': 35,\n",
              " 'everything': 274,\n",
              " 'before': 422,\n",
              " 'putting': 163,\n",
              " 'it': 2999,\n",
              " 'away.': 25,\n",
              " 'weird': 37,\n",
              " 'time.': 147,\n",
              " '#quarantinelife': 90,\n",
              " '#azliving': 2,\n",
              " 'https://t.co/xoodgd2ulxone': 1,\n",
              " 'point': 117,\n",
              " 're': 322,\n",
              " 'stock': 1047,\n",
              " 'piling': 36,\n",
              " 'live': 223,\n",
              " 'lifestyles': 1,\n",
              " 'eat': 122,\n",
              " 'lot': 259,\n",
              " 'don': 229,\n",
              " 't': 621,\n",
              " 'carry': 55,\n",
              " 'but': 2150,\n",
              " 'my': 2217,\n",
              " '70': 28,\n",
              " 'mother': 41,\n",
              " 'inherited': 1,\n",
              " 'wartime': 3,\n",
              " 'mentality': 2,\n",
              " 'doesn': 37,\n",
              " 'everyone': 560,\n",
              " '14': 48,\n",
              " 'days': 308,\n",
              " 'worth': 104,\n",
              " 'larder': 1,\n",
              " '1': 303,\n",
              " '2bay': 1,\n",
              " 'view': 42,\n",
              " 'distillery': 28,\n",
              " 'bottling': 1,\n",
              " 'hand': 1339,\n",
              " 'sanitizer': 1041,\n",
              " 'area': 120,\n",
              " 'nonprofits': 7,\n",
              " 'https://t.co/ogxu5ojpxh': 1,\n",
              " 'https://t.co/8cs3skukmn#inspiration&gt;&gt;': 1,\n",
              " '#regram': 1,\n",
              " '#showcasing&gt;&gt;': 1,\n",
              " '#artwork': 1,\n",
              " '@karencantuq:': 1,\n",
              " 'title:': 2,\n",
              " '\"ready': 1,\n",
              " 'wipe': 58,\n",
              " 'coronavirus\"': 3,\n",
              " 'caption:': 2,\n",
              " '\"ps': 1,\n",
              " 'donã\\x82â\\x92t': 398,\n",
              " 'people\"': 2,\n",
              " '#toiletpaper': 636,\n",
              " '#stayinsideyourhouse': 1,\n",
              " 'follow&gt;&gt;': 1,\n",
              " '@authorship.me': 1,\n",
              " 'instagram:': 4,\n",
              " 'authorzine&gt;&gt;': 1,\n",
              " 'https://t.co/qo7tzfr0ih': 1,\n",
              " 'https://t.co/yu6kokta74i': 1,\n",
              " 'spent': 40,\n",
              " 'trying': 293,\n",
              " 'book': 54,\n",
              " 'delivery': 676,\n",
              " 'any': 607,\n",
              " 'supermarket.': 194,\n",
              " 'there': 1092,\n",
              " 'no': 1816,\n",
              " 'availability': 30,\n",
              " '.': 435,\n",
              " 'self': 205,\n",
              " 'isolate': 51,\n",
              " '12': 77,\n",
              " 'weeks': 308,\n",
              " 'due': 1013,\n",
              " 'being': 816,\n",
              " 'immune': 58,\n",
              " 'supressed.': 1,\n",
              " 'how': 1647,\n",
              " 'supposed': 55,\n",
              " 'food?': 23,\n",
              " 'wonder': 63,\n",
              " 'stockpiled.': 3,\n",
              " 'help!': 14,\n",
              " '#coronacrisisuk': 44,\n",
              " '#stockpilinguk': 13,\n",
              " '#foodcomplete': 1,\n",
              " 'madness': 20,\n",
              " '@borisjohnson': 50,\n",
              " '@susannareid100': 2,\n",
              " '@hollywills': 2,\n",
              " '@piersmorgan': 25,\n",
              " '@eamonnholmes': 1,\n",
              " '@ruthieel': 1,\n",
              " '@gmb': 10,\n",
              " '@bbcnews': 13,\n",
              " '@dailymailuk': 6,\n",
              " '#londonlockdown': 7,\n",
              " '#uklockdown': 19,\n",
              " '#covid-19': 166,\n",
              " 'https://t.co/dexxnx7ox3\"forcing': 1,\n",
              " '50': 81,\n",
              " 'governors': 14,\n",
              " 'compete': 12,\n",
              " 'lifesaving': 5,\n",
              " 'equipment': 85,\n",
              " 'ã\\x82â\\x97': 141,\n",
              " 'hospitals': 79,\n",
              " 'pay': 322,\n",
              " 'exorbitant': 34,\n",
              " 'prices': 3767,\n",
              " 'only': 833,\n",
              " 'makes': 112,\n",
              " 'matters': 9,\n",
              " 'worse.\"': 1,\n",
              " 'bill': 65,\n",
              " 'gates:': 2,\n",
              " 'hereã\\x82â\\x92s': 49,\n",
              " 'make': 793,\n",
              " 'up': 1967,\n",
              " 'lost': 139,\n",
              " 'https://t.co/yh3rytrevk': 1,\n",
              " '#mondaymotivationat': 1,\n",
              " 'iã\\x82â\\x92m': 343,\n",
              " 'privileged': 6,\n",
              " 'enough': 332,\n",
              " 'drive': 147,\n",
              " 'places.': 8,\n",
              " 'canã\\x82â\\x92t': 236,\n",
              " 'stop': 689,\n",
              " 'thinking': 89,\n",
              " 'about': 1712,\n",
              " 'easy': 72,\n",
              " 'access': 195,\n",
              " 'transport': 60,\n",
              " 'or': 2231,\n",
              " 'who': 1635,\n",
              " 'less': 207,\n",
              " 'able': 249,\n",
              " 'travel': 130,\n",
              " 'multiple': 42,\n",
              " 'shops.': 28,\n",
              " 'start': 200,\n",
              " '#stoppanicbuying': 101,\n",
              " '2/22/2': 1,\n",
              " 'especially': 161,\n",
              " 'whilst': 49,\n",
              " 'tesco': 47,\n",
              " 'own': 230,\n",
              " 'stores': 637,\n",
              " 'such': 264,\n",
              " 'leyton': 1,\n",
              " 'leytonstone': 2,\n",
              " 'frontline,': 4,\n",
              " 'dealing': 64,\n",
              " 'covid-19,': 303,\n",
              " 'restricted': 21,\n",
              " 'getting': 406,\n",
              " 'vulnerable': 268,\n",
              " 'difficult': 139,\n",
              " 'circumstances.': 8,\n",
              " 'every': 473,\n",
              " 'little': 203,\n",
              " 'helps!': 3,\n",
              " 'indeed!now': 1,\n",
              " 'longer': 104,\n",
              " 'having': 247,\n",
              " 'cocktail': 3,\n",
              " 'parties,': 2,\n",
              " 'us': 1198,\n",
              " 'prefer': 15,\n",
              " 'stay': 851,\n",
              " 'sober': 2,\n",
              " 'finally': 79,\n",
              " 'find': 428,\n",
              " 'club': 23,\n",
              " 'soda': 4,\n",
              " 'local': 797,\n",
              " '#coronavirussupermarket': 3,\n",
              " 'fourth': 6,\n",
              " 'emergency': 255,\n",
              " 'servicescammers': 1,\n",
              " 'using': 266,\n",
              " 'messages': 27,\n",
              " 'scam': 67,\n",
              " 'https://t.co/nzsthpcxre': 1,\n",
              " 'heaven': 3,\n",
              " 'hades': 1,\n",
              " 'scammers': 78,\n",
              " 'judgement': 3,\n",
              " 'eternal': 2,\n",
              " 'hey': 23,\n",
              " 'wednesday': 40,\n",
              " '3': 344,\n",
              " 'helping': 204,\n",
              " 'free': 451,\n",
              " 'add': 66,\n",
              " 'link': 84,\n",
              " 'tell': 137,\n",
              " 'me': 887,\n",
              " 'which': 495,\n",
              " 'poll': 7,\n",
              " 'll': 75,\n",
              " 'feature': 9,\n",
              " 'blog': 57,\n",
              " '226k': 1,\n",
              " 'views': 11,\n",
              " 'tweet': 26,\n",
              " '54k': 1,\n",
              " 'followersmy': 1,\n",
              " 'mom': 47,\n",
              " 'found': 159,\n",
              " '#vintagetoiletpaper': 1,\n",
              " 'her': 376,\n",
              " 'basement.': 1,\n",
              " 'circa': 2,\n",
              " '1987.': 1,\n",
              " 'blue': 17,\n",
              " 'peach.': 1,\n",
              " 'told': 213,\n",
              " 'list': 168,\n",
              " '@ebay': 16,\n",
              " 'easy?': 1,\n",
              " '???': 154,\n",
              " 'https://t.co/2tvpmsaxox@realdonaldtrump': 1,\n",
              " 'hear': 104,\n",
              " 'out,': 49,\n",
              " 'instead': 140,\n",
              " 'bailing': 5,\n",
              " 'corporations': 22,\n",
              " 'bailed': 2,\n",
              " 'everyoneã\\x82â\\x92s': 14,\n",
              " 'under': 236,\n",
              " '200k?': 1,\n",
              " 'bet': 30,\n",
              " 'would': 720,\n",
              " 'billions': 15,\n",
              " 'aaannnddd': 1,\n",
              " 'rebuy': 1,\n",
              " 'more!': 17,\n",
              " 'plus!': 1,\n",
              " 'our': 2349,\n",
              " 'tax': 63,\n",
              " 'monprotect': 1,\n",
              " 'yourself': 144,\n",
              " 'washing': 84,\n",
              " 'your': 2768,\n",
              " 'hands': 299,\n",
              " 'often': 59,\n",
              " 'soap': 159,\n",
              " 'water': 192,\n",
              " 'use': 558,\n",
              " '#wolverhampton': 1,\n",
              " 'https://t.co/e7ifbsqaxxthese': 1,\n",
              " 'two': 310,\n",
              " 'stories': 35,\n",
              " 'should': 860,\n",
              " 'mutually': 1,\n",
              " 'exclusive.': 1,\n",
              " \"couldn't\": 36,\n",
              " 'alleviate': 10,\n",
              " 'vice': 5,\n",
              " 'versa?': 1,\n",
              " 'https://t.co/01oc3pig5b': 1,\n",
              " \"https://t.co/omjr2atzhphere's\": 1,\n",
              " 'idea,': 5,\n",
              " 'become': 138,\n",
              " 'historian.': 1,\n",
              " 'write': 20,\n",
              " 'daily': 182,\n",
              " 'weekly': 58,\n",
              " 'diary': 7,\n",
              " 'grand': 11,\n",
              " 'children': 67,\n",
              " 'experiences.': 3,\n",
              " 'sacrifices,': 2,\n",
              " 'anecdotes,': 1,\n",
              " 'funny': 29,\n",
              " 'sad': 46,\n",
              " 'stories,': 1,\n",
              " 'recipes,': 3,\n",
              " 'photos': 35,\n",
              " 'newspaper': 3,\n",
              " 'clippings.': 1,\n",
              " 'imagine': 64,\n",
              " 'musings': 1,\n",
              " '1.need': 1,\n",
              " 'media': 148,\n",
              " '#coronavirus...': 5,\n",
              " 'not': 2648,\n",
              " 'because': 889,\n",
              " 'news': 285,\n",
              " 'pictures': 25,\n",
              " 'take': 687,\n",
              " 'advantage': 174,\n",
              " 'of.': 9,\n",
              " '#instafood': 1,\n",
              " 'making': 401,\n",
              " 'restaurant': 87,\n",
              " '?animal': 1,\n",
              " 'shelters': 9,\n",
              " 'left': 207,\n",
              " 'starving': 10,\n",
              " 'buying': 878,\n",
              " 'consider': 121,\n",
              " 'donating': 82,\n",
              " 'through': 421,\n",
              " 'facebook': 44,\n",
              " '@theprojecttv': 1,\n",
              " '@mrbenjaminlaw': 1,\n",
              " \"it's\": 496,\n",
              " 'okay': 19,\n",
              " 'empty': 390,\n",
              " 'shelves': 694,\n",
              " 'goods': 237,\n",
              " '&amp;': 2313,\n",
              " 'send': 111,\n",
              " 'them': 772,\n",
              " 'china!': 2,\n",
              " 'deprive': 3,\n",
              " 'medical': 300,\n",
              " 'supplies': 376,\n",
              " 'faulty': 3,\n",
              " 'covidamericans': 1,\n",
              " 'alarmed': 3,\n",
              " 'shelves,': 55,\n",
              " 'while': 574,\n",
              " 'suppliers': 53,\n",
              " 'retailers': 191,\n",
              " 'say': 344,\n",
              " 'they': 2281,\n",
              " 'struggling': 143,\n",
              " 'surging': 37,\n",
              " 'insist': 7,\n",
              " 'supply': 654,\n",
              " 'chain': 270,\n",
              " 'remains': 38,\n",
              " '@nytimes': 21,\n",
              " '#supplychain': 48,\n",
              " 'https://t.co/qro7avqbz5please': 1,\n",
              " 'this': 4244,\n",
              " 'video': 140,\n",
              " 'seen': 253,\n",
              " 'many': 775,\n",
              " 'possible.': 25,\n",
              " 'nhs': 159,\n",
              " 'staff': 513,\n",
              " 'brave': 25,\n",
              " 'woman': 125,\n",
              " 'need,': 21,\n",
              " 'something': 194,\n",
              " 'needs': 274,\n",
              " 'done': 185,\n",
              " 'urgently.': 5,\n",
              " 'https://t.co/kh3kdyqd8tdiageo': 1,\n",
              " 'hasnã\\x82â\\x92t': 13,\n",
              " 'clue.': 1,\n",
              " 'clear': 96,\n",
              " 'demonstraion': 1,\n",
              " 'remote': 31,\n",
              " 'consumer.#covid-19': 1,\n",
              " 'https://t.co/tfrsci5yspi': 1,\n",
              " 'picked': 17,\n",
              " 'hell': 54,\n",
              " 'back': 423,\n",
              " 'working': 570,\n",
              " 'rational,': 1,\n",
              " 'educated,': 2,\n",
              " 'respected': 11,\n",
              " 'members': 103,\n",
              " 'community': 228,\n",
              " 'non-perishable': 11,\n",
              " 'items': 436,\n",
              " 'bulk': 70,\n",
              " 'terrified': 11,\n",
              " 'facial': 4,\n",
              " 'expressions,': 1,\n",
              " 'eerie': 3,\n",
              " 'sense': 69,\n",
              " 'doomsday': 6,\n",
              " 'scenario': 11,\n",
              " \"isn't\": 86,\n",
              " 'far': 144,\n",
              " 'off.': 23,\n",
              " '#coronavirusnew': 3,\n",
              " 'study': 37,\n",
              " 'finds': 27,\n",
              " 'may': 518,\n",
              " 'surfaces': 32,\n",
              " 'previously': 23,\n",
              " 'thought.': 12,\n",
              " 'down': 605,\n",
              " 'cleanser,': 1,\n",
              " 'wash': 205,\n",
              " 'frequently': 19,\n",
              " 'sanitizer.': 96,\n",
              " 'safe!': 19,\n",
              " '#coronavirusupdate': 132,\n",
              " '#flatteningthecurve': 2,\n",
              " 'https://t.co/ghbayd7t0gplease': 1,\n",
              " 'claim': 43,\n",
              " 'support': 460,\n",
              " 'doctors,': 58,\n",
              " 'nurses,': 70,\n",
              " 'responders': 64,\n",
              " 'guard,': 1,\n",
              " 'staff,': 101,\n",
              " 'truck': 104,\n",
              " 'drivers,': 86,\n",
              " 'else': 187,\n",
              " 'continue': 260,\n",
              " 'ignore': 22,\n",
              " 'pleas': 3,\n",
              " 'home!': 18,\n",
              " '#stayhome': 190,\n",
              " '#flattenthecurveshops': 1,\n",
              " 'markets': 203,\n",
              " 'malls': 22,\n",
              " 'restaurants': 128,\n",
              " 'remain': 150,\n",
              " 'closed': 199,\n",
              " 'different': 121,\n",
              " 'cities': 34,\n",
              " 'pakistan': 16,\n",
              " 'country': 308,\n",
              " 'imposed': 22,\n",
              " 'ban': 45,\n",
              " 'movement': 41,\n",
              " 'spread': 511,\n",
              " 'following': 136,\n",
              " 'show': 133,\n",
              " 'roads': 15,\n",
              " 'karachi': 1,\n",
              " 'islamabad': 1,\n",
              " 'bannu': 1,\n",
              " 'onlinecovid': 1,\n",
              " '19': 1658,\n",
              " 'lockdown': 299,\n",
              " 'paddy': 1,\n",
              " 'drop': 231,\n",
              " 'closure': 30,\n",
              " 'inter': 2,\n",
              " 'state': 241,\n",
              " 'borders': 15,\n",
              " 'andhra': 1,\n",
              " 'pradesh': 2,\n",
              " '#trumppressconference': 6,\n",
              " 'never': 275,\n",
              " 'maga': 2,\n",
              " 'rally': 14,\n",
              " 'amp': 852,\n",
              " 'stand': 71,\n",
              " 'talking': 69,\n",
              " 'russia': 83,\n",
              " 'mbs': 9,\n",
              " 'oil': 843,\n",
              " 'gas': 334,\n",
              " 'cuts': 64,\n",
              " 'wtf': 23,\n",
              " 'notice': 44,\n",
              " 'sayspress': 1,\n",
              " 'release': 21,\n",
              " 'covid': 1667,\n",
              " 'induced': 13,\n",
              " '2020': 198,\n",
              " 'recession': 74,\n",
              " 'disrupt': 9,\n",
              " 'automotive': 6,\n",
              " 'electronics': 14,\n",
              " 'semiconductor': 2,\n",
              " 'infrastructure': 19,\n",
              " 'businessescovid': 1,\n",
              " 'lockdown:': 8,\n",
              " 'know': 633,\n",
              " 'online': 1578,\n",
              " 'options==&gt;': 1,\n",
              " 'https://t.co/qky8zps5oz': 1,\n",
              " '#21dayslockdown': 10,\n",
              " '#21daylockdown': 11,\n",
              " '#21dayslockdownindia': 1,\n",
              " '#coronavirusindia': 28,\n",
              " '#coronaviruslockdownidiots': 1,\n",
              " 'likethe': 1,\n",
              " 'president': 91,\n",
              " 'also': 626,\n",
              " 'needed': 146,\n",
              " 'direct': 75,\n",
              " 'business': 432,\n",
              " '2': 549,\n",
              " 'situation,': 20,\n",
              " 'hike': 57,\n",
              " 'required': 50,\n",
              " 'safeguarding': 3,\n",
              " 'transmission': 28,\n",
              " 'packet': 8,\n",
              " 'facemasks': 7,\n",
              " '@': 106,\n",
              " '150k,': 1,\n",
              " 'chloroquine': 19,\n",
              " '100kright,': 1,\n",
              " 'see': 744,\n",
              " 'greedy': 58,\n",
              " '*duckers*': 1,\n",
              " 'stockpiled': 10,\n",
              " 'all!': 11,\n",
              " '#convid19uk': 20,\n",
              " '#coronacrisis': 281,\n",
              " '#stopstockpiling': 35,\n",
              " '#stoppanicbuyingi': 3,\n",
              " 'call': 268,\n",
              " 'bollocks': 4,\n",
              " 'one.': 29,\n",
              " 'fair': 53,\n",
              " 'amount': 97,\n",
              " 'ppl': 114,\n",
              " 'buyin': 1,\n",
              " 'immediately': 50,\n",
              " 'years': 142,\n",
              " 'brexit': 18,\n",
              " 'n': 84,\n",
              " 'general': 92,\n",
              " 'skintness.': 1,\n",
              " 'its': 663,\n",
              " 'fucking': 127,\n",
              " 'buyers.': 7,\n",
              " \"'accidental\": 2,\n",
              " \"hoarders'\": 2,\n",
              " 'causing': 76,\n",
              " 'shortages': 139,\n",
              " 'https://t.co/q2nslsf6ke': 1,\n",
              " 'sent': 65,\n",
              " \"@updayuktoday's\": 1,\n",
              " 'news:': 24,\n",
              " 'pressured': 3,\n",
              " 'close': 247,\n",
              " 'affects': 19,\n",
              " 'beauty': 20,\n",
              " 'industry': 228,\n",
              " 'retail': 590,\n",
              " 'age': 60,\n",
              " 'coronavirus': 861,\n",
              " 'j.c.': 1,\n",
              " 'penney': 1,\n",
              " 'brings': 23,\n",
              " 'interactive': 6,\n",
              " 'style': 15,\n",
              " 'fitting': 6,\n",
              " 'rooms': 10,\n",
              " '#coronapocalypse': 21,\n",
              " '#ecommerce': 74,\n",
              " '#retail': 161,\n",
              " '#dtc': 2,\n",
              " 'https://t.co/rafj2l2ceq': 2,\n",
              " 'https://t.co/tgoar4fhl1love': 1,\n",
              " 'this!': 22,\n",
              " 'victoria': 3,\n",
              " 'helps': 47,\n",
              " 'production': 213,\n",
              " '1st': 62,\n",
              " 'wwii,': 7,\n",
              " 'demand': 1300,\n",
              " '|': 279,\n",
              " 'cbc': 15,\n",
              " 'https://t.co/75vb12pbap': 1,\n",
              " '@cityoftoronto': 1,\n",
              " '@johntoryfood': 1,\n",
              " 'bank': 209,\n",
              " 'grateful': 62,\n",
              " 'donations': 79,\n",
              " 'sees': 43,\n",
              " 'spike': 45,\n",
              " 'closures#covid2019': 1,\n",
              " \"doesn't\": 94,\n",
              " 'discriminate.': 1,\n",
              " 'society': 73,\n",
              " 'healthcare': 205,\n",
              " 'system': 125,\n",
              " 'does.': 1,\n",
              " 'minimum': 64,\n",
              " 'wage': 50,\n",
              " 'grocery-store/warehouse': 1,\n",
              " 'workers,': 280,\n",
              " 'migrant': 9,\n",
              " 'transported': 1,\n",
              " 'fields': 15,\n",
              " 'crowded': 51,\n",
              " 'trucks,': 2,\n",
              " 'living': 99,\n",
              " 'public': 384,\n",
              " 'housing': 64,\n",
              " 'w/mold': 1,\n",
              " 'causes': 48,\n",
              " 'asthma': 18,\n",
              " 'disproportionately': 6,\n",
              " 'riskwhen': 1,\n",
              " 'waiting': 111,\n",
              " 'line': 287,\n",
              " 'order': 329,\n",
              " 'practice': 79,\n",
              " 'safe': 463,\n",
              " '#socialdistancing': 354,\n",
              " ',': 187,\n",
              " 'sure': 283,\n",
              " 'youre': 4,\n",
              " 'fit': 17,\n",
              " 'corpse': 3,\n",
              " 'between': 148,\n",
              " 'person': 199,\n",
              " 'front': 230,\n",
              " 'you.': 108,\n",
              " 'added': 38,\n",
              " 'accuracy,': 1,\n",
              " 'bring': 137,\n",
              " 'body': 26,\n",
              " 'you.i': 1,\n",
              " 'went': 315,\n",
              " 'usual': 59,\n",
              " 'had': 637,\n",
              " 'door': 56,\n",
              " '(100': 1,\n",
              " 'store)': 14,\n",
              " 'right': 446,\n",
              " 'needed.': 18,\n",
              " 'prevent': 152,\n",
              " 'it,': 87,\n",
              " 'venezuelan.': 1,\n",
              " '#coronavirusarticle:': 1,\n",
              " 'animal': 41,\n",
              " 'health': 525,\n",
              " 'share': 242,\n",
              " 'begin': 31,\n",
              " 'recovery': 50,\n",
              " 'https://t.co/auxib44pomyesterday': 1,\n",
              " 'took': 89,\n",
              " 'n95': 46,\n",
              " 'masks,': 86,\n",
              " 'gloves': 214,\n",
              " 'revera': 1,\n",
              " 'mckenzie': 1,\n",
              " 'towne': 2,\n",
              " 'retirement': 8,\n",
              " 'brenda': 1,\n",
              " 'strafford': 1,\n",
              " 'foundation.': 2,\n",
              " '#2019ncov': 4,\n",
              " '#sarscov2': 19,\n",
              " '#albertafireflood': 1,\n",
              " '#restoration': 1,\n",
              " '#cleaning': 6,\n",
              " '#sanatizing': 1,\n",
              " '#heretohelp': 1,\n",
              " '#supportlocal': 8,\n",
              " '#calgary': 3,\n",
              " '#yyc': 5,\n",
              " '#supportlocalbusinessafter': 1,\n",
              " 'loads': 25,\n",
              " 'emails': 36,\n",
              " 'companies': 377,\n",
              " 'last': 437,\n",
              " 'saying': 153,\n",
              " 'customers': 435,\n",
              " '#sky': 2,\n",
              " 'true': 67,\n",
              " 'colours': 4,\n",
              " 'increase': 343,\n",
              " '#noshame': 1,\n",
              " '#nosense': 1,\n",
              " '#cancelsky': 1,\n",
              " 'https://t.co/8mrz0kdmezto': 1,\n",
              " 'marketers': 13,\n",
              " 'friends,': 10,\n",
              " 'good': 514,\n",
              " 'article': 110,\n",
              " '@mckinsey': 11,\n",
              " 'regarding': 86,\n",
              " 'customer': 127,\n",
              " 'sentiment': 69,\n",
              " 'ready': 102,\n",
              " 'change': 173,\n",
              " 'whole': 137,\n",
              " 'marketing': 71,\n",
              " 'strategy?': 4,\n",
              " '#marketingstrategy': 2,\n",
              " 'https://t.co/pln1h6qylwfile': 1,\n",
              " 'under...are': 1,\n",
              " \"[bleepin']\": 1,\n",
              " ...}"
            ]
          },
          "metadata": {},
          "execution_count": 16
        }
      ]
    },
    {
      "cell_type": "markdown",
      "metadata": {
        "id": "Pe0h2Jqkpnao"
      },
      "source": [
        "Какой размер словаря получился?"
      ]
    },
    {
      "cell_type": "code",
      "execution_count": 17,
      "metadata": {
        "id": "umyENA7EpokD",
        "colab": {
          "base_uri": "https://localhost:8080/"
        },
        "outputId": "d62543ac-37bc-4b47-84d7-d1c56deae1c7"
      },
      "outputs": [
        {
          "output_type": "execute_result",
          "data": {
            "text/plain": [
              "86999"
            ]
          },
          "metadata": {},
          "execution_count": 17
        }
      ],
      "source": [
        "# -- YOUR CODE HERE --\n",
        "len(dictionary)"
      ]
    },
    {
      "cell_type": "markdown",
      "metadata": {
        "id": "0d2G1Z-Qpqkd"
      },
      "source": [
        "Выведите 10 самых популярных токенов с количеством встреч каждого из них. Объясните, почему именно эти токены в топе"
      ]
    },
    {
      "cell_type": "code",
      "execution_count": 18,
      "metadata": {
        "id": "Impi32a_pssg",
        "colab": {
          "base_uri": "https://localhost:8080/"
        },
        "outputId": "b54afb17-c73f-4c03-a757-912b27bde2db"
      },
      "outputs": [
        {
          "output_type": "stream",
          "name": "stdout",
          "text": [
            "the 25775\n",
            "to 23217\n",
            "and 14626\n",
            "of 12973\n",
            "a 11406\n",
            "in 10898\n",
            "for 8436\n",
            "is 7280\n",
            "are 6980\n",
            "#coronavirus 6761\n"
          ]
        }
      ],
      "source": [
        "# -- YOUR CODE HERE --\n",
        "a=0\n",
        "for i in sorted(dictionary, key=dictionary.get, reverse=True):\n",
        "  a+=1\n",
        "  if a>10:\n",
        "    break\n",
        "  else:\n",
        "    print(i, dictionary[i])\n",
        "\n",
        "#  Токены являются стоп словами, которые встречаются практически всегда в английском языке, также #coronavirus, что было актуально в то время из-за пандемии."
      ]
    },
    {
      "cell_type": "markdown",
      "metadata": {
        "id": "ZtuJCD0ApuFd"
      },
      "source": [
        "**Ответ:** # -- YOUR ANSWER HERE --"
      ]
    },
    {
      "cell_type": "markdown",
      "metadata": {
        "id": "T7DTQDkWsVYp"
      },
      "source": [
        "Удалите стоп-слова из словаря и выведите новый топ-10 токенов (и количество встреч) по популярности.  Что можно сказать  о нем?"
      ]
    },
    {
      "cell_type": "code",
      "execution_count": 19,
      "metadata": {
        "id": "8csSAdgTsnFx",
        "colab": {
          "base_uri": "https://localhost:8080/"
        },
        "outputId": "3d63a69b-47d8-415e-9964-39dbfda5a3bd"
      },
      "outputs": [
        {
          "output_type": "stream",
          "name": "stdout",
          "text": [
            "#coronavirus 6761\n",
            "prices 3767\n",
            "food 3677\n",
            "grocery 3350\n",
            "supermarket 3181\n",
            "store 3123\n",
            "people 3033\n",
            "covid-19 2984\n",
            "&amp; 2313\n",
            "#covid19 2214\n"
          ]
        }
      ],
      "source": [
        "import nltk\n",
        "from nltk.corpus import stopwords\n",
        "nltk.download(\"stopwords\", quiet=True)\n",
        "stopwords=(stopwords.words(\"english\"))\n",
        "\n",
        "a=0\n",
        "for i in sorted(dictionary, key=dictionary.get, reverse=True):\n",
        "  if i in set(stopwords):\n",
        "    continue\n",
        "  if a>9:\n",
        "    break\n",
        "  else:\n",
        "    a+=1\n",
        "    print(i, dictionary[i])\n",
        "\n",
        "# как мы видим, слова макисмально актуальны для пандемии: #coronavirus, цены, еда , магазины."
      ]
    },
    {
      "cell_type": "markdown",
      "metadata": {
        "id": "LZH0x2Lzs-Dh"
      },
      "source": [
        "**Ответ:**  # -- YOUR ANSWER HERE --"
      ]
    },
    {
      "cell_type": "markdown",
      "metadata": {
        "id": "TKSGRyI-uor0"
      },
      "source": [
        "Также выведите 20 самых непопулярных слов (если самых непопулярных слов больше выведите любые 20 из них) Почему эти токены непопулярны, требуется ли как-то дополнительно работать с ними?"
      ]
    },
    {
      "cell_type": "code",
      "execution_count": 20,
      "metadata": {
        "id": "moArbwfvun9t",
        "colab": {
          "base_uri": "https://localhost:8080/"
        },
        "outputId": "91e74b78-6298-464e-90ff-7c87bb68b39b"
      },
      "outputs": [
        {
          "output_type": "stream",
          "name": "stdout",
          "text": [
            "https://t.co/1m881cwfuv 1\n",
            "#onlinewith 1\n",
            "users@canon_india 1\n",
            "happy.. 1\n",
            "https://t.co/z0intks34xthe 1\n",
            "mnuchinãâs 1\n",
            "brink.finally 1\n",
            "https://t.co/jmobv8z0u0friends: 1\n",
            "university's 1\n",
            "teaching.) 1\n",
            "@catholicpres 1\n",
            "@catholicuniv 1\n",
            "https://t.co/evqby035wfit's 1\n",
            "#toiletpaperregulatory 1\n",
            "https://t.co/riqrhxxeim 1\n",
            "@@ballardspahrll 1\n",
            "#acaplease 1\n",
            "easier...take 1\n",
            "ãânecessaryãâ 1\n",
            "#quarantinelifequeues 1\n"
          ]
        }
      ],
      "source": [
        "# -- YOUR CODE HERE --\n",
        "a=0\n",
        "for i in sorted(dictionary, key=dictionary.get, reverse=False):\n",
        "  a+=1\n",
        "  if a>20:\n",
        "    break\n",
        "  else:\n",
        "    print(i, dictionary[i])\n",
        "\n",
        "# как мы видим непопулярны токены-хэштеги(рандомные), странные написания слов и ссылки на аккаунты (очевидно, что по этой причине они непопулярны).\n",
        "# Их можно удалить из словаря и не использовать в анализе."
      ]
    },
    {
      "cell_type": "markdown",
      "metadata": {
        "id": "uRp3J1gQunlR"
      },
      "source": [
        "**Ответ:** # -- YOUR ANSWER HERE --\n",
        "\n"
      ]
    },
    {
      "cell_type": "markdown",
      "metadata": {
        "id": "wx9LQOSPzvjV"
      },
      "source": [
        "Теперь воспользуемся токенайзером получше - TweetTokenizer из библиотеки nltk. Примените его и посмотрите на топ-10 популярных слов. Чем он отличается от топа, который получался раньше? Почему?"
      ]
    },
    {
      "cell_type": "code",
      "execution_count": 21,
      "metadata": {
        "id": "2G1UkyVxzvFY"
      },
      "outputs": [],
      "source": [
        "from nltk.tokenize import TweetTokenizer\n",
        "\n",
        "tw = TweetTokenizer()\n",
        "\n",
        "a=''\n",
        "for i in range (train.shape[0]+1):\n",
        "  a+=df['OriginalTweet'][i]\n",
        "tokens=tw.tokenize(a)"
      ]
    },
    {
      "cell_type": "code",
      "source": [
        "\n",
        "dictionary1={}\n",
        "for word in tokens:\n",
        "  if word in dictionary1:\n",
        "    dictionary1[word] += 1\n",
        "  else:\n",
        "    dictionary1[word] = 1\n",
        "dictionary1"
      ],
      "metadata": {
        "id": "5EOCDYBrbjkk",
        "outputId": "1f03886c-9a9e-4a3a-85b7-414882572378",
        "colab": {
          "base_uri": "https://localhost:8080/"
        }
      },
      "execution_count": 22,
      "outputs": [
        {
          "output_type": "execute_result",
          "data": {
            "text/plain": [
              "{'advice': 140,\n",
              " 'Talk': 8,\n",
              " 'to': 23165,\n",
              " 'your': 2661,\n",
              " 'neighbours': 30,\n",
              " 'family': 318,\n",
              " 'exchange': 14,\n",
              " 'phone': 90,\n",
              " 'numbers': 63,\n",
              " 'create': 72,\n",
              " 'contact': 165,\n",
              " 'list': 173,\n",
              " 'with': 3661,\n",
              " 'of': 13045,\n",
              " 'schools': 60,\n",
              " 'employer': 14,\n",
              " 'chemist': 14,\n",
              " 'GP': 6,\n",
              " 'set': 155,\n",
              " 'up': 2230,\n",
              " 'online': 1615,\n",
              " 'shopping': 1757,\n",
              " 'accounts': 28,\n",
              " 'if': 1267,\n",
              " 'poss': 1,\n",
              " 'adequate': 20,\n",
              " 'supplies': 543,\n",
              " 'regular': 69,\n",
              " 'meds': 23,\n",
              " 'but': 1902,\n",
              " 'not': 2496,\n",
              " 'over': 819,\n",
              " 'orderCoronavirus': 1,\n",
              " 'Australia': 71,\n",
              " ':': 3423,\n",
              " 'Woolworths': 13,\n",
              " 'give': 250,\n",
              " 'elderly': 343,\n",
              " ',': 18018,\n",
              " 'disabled': 57,\n",
              " 'dedicated': 44,\n",
              " 'hours': 364,\n",
              " 'amid': 488,\n",
              " 'COVID': 3439,\n",
              " '-': 6081,\n",
              " '19': 5821,\n",
              " 'outbreak': 621,\n",
              " 'https://t.co/bInCA9Vp8PMy': 1,\n",
              " 'food': 4234,\n",
              " 'stock': 1245,\n",
              " 'is': 7358,\n",
              " 'the': 24430,\n",
              " 'only': 821,\n",
              " 'one': 979,\n",
              " 'which': 477,\n",
              " 'empty': 532,\n",
              " '...': 1867,\n",
              " 'PLEASE': 69,\n",
              " \"don't\": 473,\n",
              " 'panic': 1871,\n",
              " 'THERE': 15,\n",
              " 'WILL': 40,\n",
              " 'BE': 32,\n",
              " 'ENOUGH': 3,\n",
              " 'FOOD': 57,\n",
              " 'FOR': 68,\n",
              " 'EVERYONE': 17,\n",
              " 'you': 5124,\n",
              " 'do': 1287,\n",
              " 'take': 637,\n",
              " 'more': 1865,\n",
              " 'than': 863,\n",
              " 'need': 1744,\n",
              " '.': 23918,\n",
              " 'Stay': 269,\n",
              " 'calm': 106,\n",
              " 'stay': 589,\n",
              " 'safe': 544,\n",
              " '#COVID19france': 3,\n",
              " '#COVID_19': 72,\n",
              " '#COVID19': 1689,\n",
              " '#coronavirus': 6816,\n",
              " '#confinement': 6,\n",
              " '#Confinementotal': 2,\n",
              " '#ConfinementGeneral': 1,\n",
              " 'https://t.co/zrlG0Z520jMe': 1,\n",
              " 'ready': 109,\n",
              " 'go': 1300,\n",
              " 'at': 4513,\n",
              " 'supermarket': 3641,\n",
              " 'during': 1677,\n",
              " 'Not': 190,\n",
              " 'because': 908,\n",
              " \"I'm\": 392,\n",
              " 'paranoid': 14,\n",
              " 'my': 2141,\n",
              " 'litteraly': 1,\n",
              " 'The': 1485,\n",
              " 'a': 10894,\n",
              " 'serious': 104,\n",
              " 'thing': 285,\n",
              " 'please': 538,\n",
              " 'It': 473,\n",
              " 'causes': 39,\n",
              " 'shortage': 204,\n",
              " '#CoronavirusFrance': 1,\n",
              " '#restezchezvous': 2,\n",
              " '#StayAtHome': 139,\n",
              " 'https://t.co/usmuaLq72nAs': 1,\n",
              " 'news': 234,\n",
              " 'regionÃ': 2,\n",
              " '\\x82': 7359,\n",
              " 'Â': 7454,\n",
              " '\\x92': 4522,\n",
              " 's': 2651,\n",
              " 'first': 401,\n",
              " 'confirmed': 73,\n",
              " 'case': 139,\n",
              " 'came': 104,\n",
              " 'out': 2320,\n",
              " 'Sullivan': 2,\n",
              " 'County': 49,\n",
              " 'last': 432,\n",
              " 'week': 522,\n",
              " 'people': 3285,\n",
              " 'flocked': 2,\n",
              " 'area': 111,\n",
              " 'stores': 769,\n",
              " 'purchase': 122,\n",
              " 'cleaning': 124,\n",
              " 'hand': 991,\n",
              " 'sanitizer': 877,\n",
              " 'toilet': 835,\n",
              " 'paper': 813,\n",
              " 'and': 14597,\n",
              " 'other': 901,\n",
              " 'goods': 283,\n",
              " '@Tim_Dodson': 1,\n",
              " 'reports': 114,\n",
              " 'https://t.co/cfXch7a2lUCashier': 1,\n",
              " 'grocery': 3120,\n",
              " 'store': 3808,\n",
              " 'was': 1420,\n",
              " 'sharing': 58,\n",
              " 'his': 366,\n",
              " 'insights': 39,\n",
              " 'on': 5374,\n",
              " '#Covid_19': 1308,\n",
              " 'To': 306,\n",
              " 'prove': 18,\n",
              " 'credibility': 3,\n",
              " 'he': 383,\n",
              " 'commented': 2,\n",
              " '\"': 1992,\n",
              " 'in': 10451,\n",
              " 'Civics': 1,\n",
              " 'class': 41,\n",
              " 'so': 1542,\n",
              " 'I': 4890,\n",
              " 'know': 729,\n",
              " 'what': 1110,\n",
              " 'talking': 75,\n",
              " 'about': 1677,\n",
              " 'https://t.co/ieFDNeHgDODue': 1,\n",
              " 'our': 2184,\n",
              " 'retail': 563,\n",
              " 'classroom': 2,\n",
              " 'Atlanta': 10,\n",
              " 'will': 2566,\n",
              " 'be': 3491,\n",
              " 'open': 418,\n",
              " 'for': 8330,\n",
              " 'walk-in': 2,\n",
              " 'business': 445,\n",
              " 'or': 2221,\n",
              " 'classes': 21,\n",
              " 'next': 318,\n",
              " 'two': 286,\n",
              " 'weeks': 414,\n",
              " 'beginning': 60,\n",
              " 'Monday': 80,\n",
              " 'March': 286,\n",
              " '16': 40,\n",
              " 'We': 1101,\n",
              " 'continue': 255,\n",
              " 'process': 46,\n",
              " 'orders': 150,\n",
              " 'as': 3178,\n",
              " 'normal': 197,\n",
              " '!': 4926,\n",
              " 'Thank': 261,\n",
              " 'understanding': 20,\n",
              " 'https://t.co/kw91zJ5O5iFor': 1,\n",
              " 'corona': 82,\n",
              " 'prevention': 17,\n",
              " 'we': 2574,\n",
              " 'should': 847,\n",
              " 'stop': 620,\n",
              " 'buy': 882,\n",
              " 'things': 377,\n",
              " 'cash': 135,\n",
              " 'use': 481,\n",
              " 'payment': 59,\n",
              " 'methods': 12,\n",
              " 'can': 2104,\n",
              " 'spread': 553,\n",
              " 'through': 438,\n",
              " 'notes': 18,\n",
              " 'Also': 105,\n",
              " 'prefer': 15,\n",
              " 'from': 2912,\n",
              " 'home': 1229,\n",
              " \"It's\": 193,\n",
              " 'time': 1339,\n",
              " 'fight': 295,\n",
              " 'against': 293,\n",
              " '?': 9862,\n",
              " '#govindia': 1,\n",
              " '#IndiaFightsCoronaDue': 1,\n",
              " 'Covid': 1167,\n",
              " 'situation': 279,\n",
              " 'have': 3702,\n",
              " 'increased': 312,\n",
              " 'demand': 1246,\n",
              " 'all': 2902,\n",
              " 'products': 500,\n",
              " 'wait': 119,\n",
              " 'may': 429,\n",
              " 'longer': 96,\n",
              " 'particularly': 34,\n",
              " 'beef': 31,\n",
              " 'share': 211,\n",
              " 'freezer': 29,\n",
              " 'packs': 36,\n",
              " 'thank': 243,\n",
              " 'patience': 15,\n",
              " 'this': 4021,\n",
              " '#horningsea': 1,\n",
              " 'caring': 20,\n",
              " 'community': 261,\n",
              " 'LetÃ': 45,\n",
              " 'ALL': 99,\n",
              " 'look': 287,\n",
              " 'after': 745,\n",
              " 'less': 216,\n",
              " 'capable': 8,\n",
              " 'village': 14,\n",
              " 'ensure': 174,\n",
              " 'they': 1977,\n",
              " 'healthy': 164,\n",
              " 'Bringing': 2,\n",
              " 'their': 1977,\n",
              " 'doors': 61,\n",
              " 'help': 1259,\n",
              " 'self': 240,\n",
              " 'isolation': 149,\n",
              " 'symptoms': 83,\n",
              " 'been': 1065,\n",
              " 'exposed': 81,\n",
              " 'somebody': 14,\n",
              " 'who': 1687,\n",
              " 'has': 2212,\n",
              " 'https://t.co/lsGrXXhjhhMe': 1,\n",
              " \"I'll\": 54,\n",
              " 'just': 1226,\n",
              " 'Amazon': 151,\n",
              " 'deliver': 118,\n",
              " 'whatever': 43,\n",
              " '#CoronaVirus': 359,\n",
              " 'https://t.co/8YWaKFjExCADARA': 1,\n",
              " 'Releases': 2,\n",
              " 'Resource': 11,\n",
              " 'Center': 28,\n",
              " 'Travel': 20,\n",
              " 'Brands': 17,\n",
              " 'Insights': 15,\n",
              " 'Help': 64,\n",
              " 'Up-To-Date': 1,\n",
              " 'Consumer': 495,\n",
              " 'Behavior': 9,\n",
              " 'Trends': 15,\n",
              " 'https://t.co/PnA797jDKV': 1,\n",
              " 'https://t.co/dQox6uSihzLines': 1,\n",
              " 'unpredictable': 2,\n",
              " 'eating': 75,\n",
              " 'alternative': 29,\n",
              " 'Find': 75,\n",
              " 'whether': 52,\n",
              " 'avoiding': 39,\n",
              " 'restaurants': 158,\n",
              " 'right': 504,\n",
              " 'now': 1547,\n",
              " 'https://t.co/9idZSis5oQ': 1,\n",
              " '#covid19': 459,\n",
              " 'https://t.co/ZHbh898lf6Amazon': 1,\n",
              " 'Glitch': 1,\n",
              " 'Stymies': 1,\n",
              " 'Whole': 12,\n",
              " 'Foods': 27,\n",
              " 'Fresh': 14,\n",
              " 'Grocery': 242,\n",
              " 'Deliveries': 4,\n",
              " 'Ã': 1861,\n",
              " '\\x93': 643,\n",
              " 'As': 280,\n",
              " 'weÃ': 127,\n",
              " 've': 372,\n",
              " 'seen': 242,\n",
              " 'significant': 62,\n",
              " 'increase': 308,\n",
              " 'groceries': 260,\n",
              " '\\x94': 638,\n",
              " 'spokeswoman': 2,\n",
              " 'said': 447,\n",
              " 'statement': 35,\n",
              " 'Today': 73,\n",
              " 'resulted': 15,\n",
              " 'systems': 49,\n",
              " 'impact': 359,\n",
              " 'affecting': 52,\n",
              " 'https://t.co/TbzZ2MC3b3For': 1,\n",
              " 'those': 780,\n",
              " \"aren't\": 74,\n",
              " 'struggling': 134,\n",
              " 'consider': 119,\n",
              " 'donating': 74,\n",
              " 'bank': 165,\n",
              " 'nonprofit': 9,\n",
              " 'these': 806,\n",
              " 'services': 303,\n",
              " 'impacts': 46,\n",
              " 'jobs': 208,\n",
              " \"people's\": 31,\n",
              " 'way': 492,\n",
              " 'life.with': 1,\n",
              " '100': 192,\n",
              " 'nations': 16,\n",
              " 'inficted': 1,\n",
              " 'covid': 532,\n",
              " 'world': 463,\n",
              " 'must': 271,\n",
              " 'play': 69,\n",
              " 'fair': 66,\n",
              " 'china': 13,\n",
              " 'goverments': 1,\n",
              " 'adopts': 3,\n",
              " 'new': 583,\n",
              " 'guilde': 1,\n",
              " 'lines': 165,\n",
              " 'safty': 1,\n",
              " 'chinese': 5,\n",
              " 'goverment': 2,\n",
              " 'guilty': 13,\n",
              " 'being': 825,\n",
              " 'irosponcible': 1,\n",
              " 'life': 243,\n",
              " 'global': 303,\n",
              " 'scaleWe': 1,\n",
              " 'AMAZING': 10,\n",
              " 'CHEAP': 6,\n",
              " 'DEALS': 6,\n",
              " 'THE': 136,\n",
              " '#COVID2019': 831,\n",
              " 'going': 1145,\n",
              " '#Trials': 3,\n",
              " '#Monthly': 3,\n",
              " '#Yearly': 3,\n",
              " 'And': 378,\n",
              " 'Resonable': 3,\n",
              " '#Prices': 5,\n",
              " '/': 1217,\n",
              " '#Subscriptions': 3,\n",
              " 'Just': 222,\n",
              " 'DM': 42,\n",
              " 'US': 349,\n",
              " '#bestiptv': 3,\n",
              " '#iptv': 3,\n",
              " '#Service': 3,\n",
              " '#Iptv': 3,\n",
              " '#iptvdeals': 3,\n",
              " '#Cheap': 4,\n",
              " '#ipTV': 3,\n",
              " '#Football': 4,\n",
              " '#HD': 3,\n",
              " '#Movies': 4,\n",
              " '#Adult': 3,\n",
              " '#Cinema': 3,\n",
              " '#hotmovies': 3,\n",
              " '#iptvnew': 1,\n",
              " '#iptv2020': 1,\n",
              " '#AdultWe': 1,\n",
              " '#ipTv': 1,\n",
              " 'IPTVLinks': 1,\n",
              " '#18Movies': 1,\n",
              " '@10DowningStreet': 23,\n",
              " '@grantshapps': 1,\n",
              " 'done': 210,\n",
              " 'essential': 512,\n",
              " 'are': 6945,\n",
              " 're-stocked': 1,\n",
              " 'supermarkets': 371,\n",
              " 'buying': 1262,\n",
              " 'actively': 20,\n",
              " 'discouraged': 2,\n",
              " 'cannot': 133,\n",
              " 'left': 254,\n",
              " 'checkout': 74,\n",
              " 'staff': 741,\n",
              " 'police': 128,\n",
              " 'actions': 41,\n",
              " 'selfish': 211,\n",
              " 'profiteerUK': 1,\n",
              " '#consumer': 65,\n",
              " 'poll': 8,\n",
              " 'indicates': 3,\n",
              " 'majority': 36,\n",
              " 'expect': 93,\n",
              " \"#covid19's\": 1,\n",
              " '4-12': 1,\n",
              " 'months': 182,\n",
              " '(': 1452,\n",
              " '12': 100,\n",
              " ')': 1534,\n",
              " '#tracker': 1,\n",
              " 'See': 72,\n",
              " 'full': 299,\n",
              " 'results': 34,\n",
              " '@RetailX': 2,\n",
              " 'Coronavirus': 333,\n",
              " 'Confidence': 17,\n",
              " 'Tracker': 1,\n",
              " 'here': 656,\n",
              " 'https://t.co/K3uJlcjqDB': 1,\n",
              " 'https://t.co/9G3kgqIXJ8In': 1,\n",
              " 'preparation': 15,\n",
              " 'higher': 149,\n",
              " 'potential': 90,\n",
              " 'Hunger': 17,\n",
              " 'Coalition': 2,\n",
              " 'purchased': 20,\n",
              " '10': 290,\n",
              " 'percent': 34,\n",
              " 'implemented': 20,\n",
              " 'protocols': 6,\n",
              " 'due': 925,\n",
              " 'coronavirus': 655,\n",
              " 'https://t.co/5CecYtLnYnThis': 1,\n",
              " 'morning': 243,\n",
              " 'tested': 128,\n",
              " 'positive': 201,\n",
              " 'feel': 216,\n",
              " 'ok': 50,\n",
              " 'no': 1568,\n",
              " 'far': 166,\n",
              " 'isolated': 36,\n",
              " 'since': 305,\n",
              " 'found': 147,\n",
              " 'possible': 173,\n",
              " 'exposure': 51,\n",
              " 'virus': 528,\n",
              " 'pragmatic': 2,\n",
              " 'keep': 799,\n",
              " 'updated': 38,\n",
              " 'how': 1298,\n",
              " 'IÃ': 602,\n",
              " 'm': 606,\n",
              " 'doing': 527,\n",
              " 'No': 485,\n",
              " 'https://t.co/Lg7HVMZglZDo': 1,\n",
              " 'see': 694,\n",
              " 'malicious': 2,\n",
              " 'price': 572,\n",
              " 'increases': 54,\n",
              " 'NYC': 29,\n",
              " 'Department': 35,\n",
              " 'Worker': 14,\n",
              " 'Protection': 90,\n",
              " 'DCWP': 1,\n",
              " 'page': 43,\n",
              " 'digitally': 3,\n",
              " 'file': 35,\n",
              " 'complaint': 34,\n",
              " 'Click': 35,\n",
              " 'https://t.co/oEx6Y8mm2K': 1,\n",
              " 'word': 50,\n",
              " 'Overcharge': 1,\n",
              " 'https://t.co/MdMmoBttOP': 1,\n",
              " '#CovidNYC': 1,\n",
              " '@7SealsOfTheEnd': 1,\n",
              " 'Soon': 6,\n",
              " 'dwindling': 8,\n",
              " 'unlawful': 2,\n",
              " 'Panicky': 1,\n",
              " 'breaking': 19,\n",
              " 'into': 658,\n",
              " 'Closed': 5,\n",
              " 'Stores': 48,\n",
              " '&': 2417,\n",
              " 'Supermarkets': 48,\n",
              " 'Raid': 1,\n",
              " 'them': 1045,\n",
              " 'normally': 51,\n",
              " 'Crisis': 58,\n",
              " 'massive': 83,\n",
              " '#Coronavirus': 1206,\n",
              " '#StockUp': 3,\n",
              " 'LockUpThere': 1,\n",
              " 'Is': 177,\n",
              " 'Country': 25,\n",
              " 'shelves': 1022,\n",
              " 'ensues': 1,\n",
              " \"stock'Hole\": 1,\n",
              " \"'\": 765,\n",
              " '...\\r\\r\\n\\r\\r\\n...': 5,\n",
              " 'images': 13,\n",
              " 'nicest': 1,\n",
              " 'richest': 8,\n",
              " 'neighborhoods': 4,\n",
              " 'United': 69,\n",
              " 'States': 54,\n",
              " 'https://t.co/WnQSoMtkVI': 1,\n",
              " '#BreakingNews': 10,\n",
              " '#Breaking': 6,\n",
              " '#CoronavirusOutbreak': 237,\n",
              " '#COVID': 549,\n",
              " '#CollapseCoronavirus': 1,\n",
              " 'fun': 50,\n",
              " 'fact': 78,\n",
              " 'cough': 36,\n",
              " 'get': 1728,\n",
              " 'whole': 135,\n",
              " 'aisle': 73,\n",
              " 'yourself': 167,\n",
              " 'pretty': 88,\n",
              " 'quickly': 70,\n",
              " \"#COVID2019We're\": 2,\n",
              " 'sorry': 44,\n",
              " 'say': 393,\n",
              " 'that': 3812,\n",
              " '@FinFabUK': 2,\n",
              " 'event': 47,\n",
              " 'cancelled': 73,\n",
              " 'health': 511,\n",
              " 'wellbeing': 13,\n",
              " 'attendees': 2,\n",
              " 'speakers': 2,\n",
              " 'top': 121,\n",
              " 'priority': 85,\n",
              " 'Apologies': 1,\n",
              " 'any': 633,\n",
              " 'disappointment': 7,\n",
              " 'cause': 128,\n",
              " 'All': 201,\n",
              " 'FAQs': 5,\n",
              " 'answered': 18,\n",
              " 'link': 83,\n",
              " 'below': 137,\n",
              " 'https://t.co/GDDPTudCvjYes': 1,\n",
              " 'But': 383,\n",
              " \"what's\": 53,\n",
              " 'point': 142,\n",
              " 'posting': 35,\n",
              " 'photos': 34,\n",
              " 'load': 26,\n",
              " 'stuff': 171,\n",
              " 'They': 530,\n",
              " 'could': 606,\n",
              " 'parents': 96,\n",
              " 'kids': 160,\n",
              " 'siblings': 6,\n",
              " 'etc': 337,\n",
              " \"can't\": 300,\n",
              " 'themselves': 157,\n",
              " 'everything': 299,\n",
              " 'needs': 297,\n",
              " 'viral': 16,\n",
              " 'alr': 1,\n",
              " 'isWorried': 1,\n",
              " 'current': 203,\n",
              " 'pandemic': 1206,\n",
              " 'finances': 25,\n",
              " 'WeÃ': 61,\n",
              " 'published': 17,\n",
              " 'some': 1172,\n",
              " 'tips': 155,\n",
              " 'manage': 54,\n",
              " 'money': 403,\n",
              " 'challenging': 43,\n",
              " 'times': 479,\n",
              " 'https://t.co/3jKK3CqXfQ': 1,\n",
              " 'https://t.co/EbEnURmmJSmy': 1,\n",
              " 'wife': 65,\n",
              " 'works': 152,\n",
              " 'customer': 135,\n",
              " 'yesterday': 131,\n",
              " 'coughing': 81,\n",
              " 'everywhere': 64,\n",
              " 'saying': 152,\n",
              " 'CoVid': 11,\n",
              " 'requested': 9,\n",
              " 'deep': 43,\n",
              " 'clean': 118,\n",
              " 'her': 366,\n",
              " 'company': 176,\n",
              " 'objected': 1,\n",
              " 'cost': 120,\n",
              " 'recommending': 4,\n",
              " 'team': 95,\n",
              " 'spray': 23,\n",
              " 'disinfectant': 34,\n",
              " \"we're\": 102,\n",
              " 'gonna': 118,\n",
              " 'die': 115,\n",
              " 'sick': 212,\n",
              " 'capitalismNow': 1,\n",
              " 'like': 1572,\n",
              " 'without': 292,\n",
              " 'judged': 5,\n",
              " \"https://t.co/krTCGiUHQSWe're\": 1,\n",
              " 'provide': 179,\n",
              " 'experience': 84,\n",
              " 'customers': 539,\n",
              " 'environment': 28,\n",
              " 'associates': 22,\n",
              " 'Online': 161,\n",
              " 'placed': 31,\n",
              " 'https://t.co/dCSXHUj3U0': 1,\n",
              " '#jlmco': 1,\n",
              " '#jlmcobrand': 1,\n",
              " '#coronapocolypse': 36,\n",
              " '#shoponline': 2,\n",
              " 'https://t.co/riNKwskeRSCurious': 1,\n",
              " 'think': 537,\n",
              " 'shoppers': 192,\n",
              " 'lot': 257,\n",
              " 'bc': 59,\n",
              " \"they're\": 94,\n",
              " 'unable': 76,\n",
              " 'everyone': 631,\n",
              " 'too': 409,\n",
              " 'spooked': 1,\n",
              " 'extra': 152,\n",
              " 'pair': 8,\n",
              " 'shoes': 19,\n",
              " '#economy': 61,\n",
              " '#onlineshopping': 45,\n",
              " '#stayhomeCHECK': 1,\n",
              " 'VIDEO': 13,\n",
              " 'https://t.co/1ksn9Brl02': 1,\n",
              " 'USA': 45,\n",
              " 'market': 425,\n",
              " 'starvation': 23,\n",
              " '#houston': 1,\n",
              " '#nofood': 28,\n",
              " '#Notoiletpaper': 1,\n",
              " '#NoHandShakes': 1,\n",
              " '#nohandsanitizer': 1,\n",
              " '#pandemic': 190,\n",
              " '#totallockdown': 3,\n",
              " '#COVID2019usa': 1,\n",
              " '#walmart': 7,\n",
              " 'https://t.co/ztN3iMkgpDSouth': 1,\n",
              " 'Africans': 4,\n",
              " 'basic': 134,\n",
              " 'hits': 42,\n",
              " 'https://t.co/6nGNFJmy89': 1,\n",
              " '#CoronaVirusSA': 8,\n",
              " 'https://t.co/pzirO10avf': 1,\n",
              " 'Please': 515,\n",
              " 'Share': 31,\n",
              " 'Know': 15,\n",
              " 'someone': 232,\n",
              " '65': 25,\n",
              " 'Living': 7,\n",
              " 'own': 230,\n",
              " '2': 749,\n",
              " 'local': 846,\n",
              " 'issues': 116,\n",
              " 'around': 420,\n",
              " 're': 702,\n",
              " 'offering': 175,\n",
              " 'FREE': 42,\n",
              " 'deliveries': 120,\n",
              " 'soups': 4,\n",
              " 'NATIONWIDE': 1,\n",
              " 'anyone': 269,\n",
              " 'Plus': 19,\n",
              " 'freezablePeople': 1,\n",
              " 'half': 88,\n",
              " 'completely': 70,\n",
              " 'calling': 84,\n",
              " 'dumb': 19,\n",
              " 'idiots': 58,\n",
              " 'while': 491,\n",
              " 'lol': 40,\n",
              " '#COVID19Never': 2,\n",
              " 'thought': 208,\n",
              " \"I'd\": 48,\n",
              " '2019': 50,\n",
              " 'Will': 95,\n",
              " 'come': 294,\n",
              " 'back': 469,\n",
              " '#peoplearelosingtheirminds': 1,\n",
              " '#StopTheMadness': 2,\n",
              " '#stoppanicbuying': 17,\n",
              " 'Everything': 22,\n",
              " 'seeing': 181,\n",
              " 'before': 448,\n",
              " 'previous': 20,\n",
              " 'epidemics': 2,\n",
              " 'pandemics': 9,\n",
              " ';': 323,\n",
              " 'rise': 146,\n",
              " 'fear': 149,\n",
              " 'racism': 14,\n",
              " 'medicines': 42,\n",
              " 'conspiracy': 8,\n",
              " 'theories': 4,\n",
              " 'proliferation': 1,\n",
              " 'quack': 3,\n",
              " 'cures': 25,\n",
              " 'https://t.co/Pr8NpKX41AWhy': 1,\n",
              " 'water': 236,\n",
              " 'utility': 30,\n",
              " 'companies': 350,\n",
              " 'shut': 140,\n",
              " 'off': 516,\n",
              " 'middle': 51,\n",
              " 'close': 268,\n",
              " 'thier': 5,\n",
              " 'lose': 68,\n",
              " 'work': 1028,\n",
              " 'kid': 23,\n",
              " 'where': 385,\n",
              " 'canÃ': 255,\n",
              " 't': 1963,\n",
              " 'afford': 135,\n",
              " 'worth': 117,\n",
              " '@SenatorRomney': 2,\n",
              " 'https://t.co/0CV0793olSDear': 1,\n",
              " \"I've\": 151,\n",
              " 'following': 131,\n",
              " 'social': 541,\n",
              " 'distancing': 363,\n",
              " 'rules': 65,\n",
              " 'staying': 133,\n",
              " 'prevent': 165,\n",
              " 'However': 55,\n",
              " 'spent': 40,\n",
              " 'an': 1309,\n",
              " 'alarming': 8,\n",
              " 'amount': 95,\n",
              " 'Where': 44,\n",
              " 'submit': 6,\n",
              " 'expenses': 10,\n",
              " 'reimbursement': 4,\n",
              " 'Let': 71,\n",
              " 'me': 1137,\n",
              " '#coronavirusGlobal': 2,\n",
              " 'prices': 4015,\n",
              " 'intensified': 4,\n",
              " 'across': 261,\n",
              " 'several': 63,\n",
              " 'geographies': 2,\n",
              " 'further': 117,\n",
              " 'downward': 14,\n",
              " 'pressures': 7,\n",
              " 'coming': 228,\n",
              " 'continued': 34,\n",
              " 'well': 378,\n",
              " 'supplied': 15,\n",
              " 'markets': 228,\n",
              " 'negative': 52,\n",
              " 'resulting': 22,\n",
              " 'virusMorning': 1,\n",
              " 'great': 302,\n",
              " 'day': 568,\n",
              " '#StopPanicBuying': 138,\n",
              " '#BeKind': 25,\n",
              " '#mufc': 1,\n",
              " '#MUFC_FamilyOf': 1,\n",
              " 'emergency': 276,\n",
              " 'why': 392,\n",
              " 'important': 236,\n",
              " 'If': 672,\n",
              " \"you're\": 169,\n",
              " 'afraid': 32,\n",
              " 'worst': 82,\n",
              " 'scenario': 18,\n",
              " 'wash': 132,\n",
              " 'tub': 2,\n",
              " \"Y'all\": 7,\n",
              " 'crazy': 136,\n",
              " '#coronavirusTHANK': 1,\n",
              " 'YOUR': 52,\n",
              " 'GROCERY': 31,\n",
              " 'CLERK': 1,\n",
              " 'Went': 32,\n",
              " 'today': 653,\n",
              " 'looked': 51,\n",
              " 'weary': 1,\n",
              " 'eyes': 35,\n",
              " 'clerk': 27,\n",
              " 'thanked': 14,\n",
              " 'realized': 16,\n",
              " 'she': 281,\n",
              " 'thrust': 2,\n",
              " 'front': 209,\n",
              " 'line': 290,\n",
              " 'panick': 6,\n",
              " 'A': 491,\n",
              " 'breed': 3,\n",
              " 'responders': 93,\n",
              " 'working': 654,\n",
              " 'hard': 273,\n",
              " 'serve': 51,\n",
              " 'communities': 90,\n",
              " '#coronavirusWith': 10,\n",
              " 'entire': 63,\n",
              " 'shops': 404,\n",
              " 'Malaysia': 17,\n",
              " 'facing': 121,\n",
              " 'challenges': 72,\n",
              " 'In': 388,\n",
              " 'near': 98,\n",
              " 'future': 95,\n",
              " 'surprise': 20,\n",
              " 'many': 712,\n",
              " 'lost': 127,\n",
              " '#Malaysia2020': 1,\n",
              " '#Malaysia': 6,\n",
              " '19Consumer': 2,\n",
              " 'Corner': 4,\n",
              " '#Scammers': 11,\n",
              " 'Taking': 9,\n",
              " 'Advantage': 2,\n",
              " 'Of': 58,\n",
              " '#COVID-19': 128,\n",
              " 'Fears': 10,\n",
              " '#cdc': 5,\n",
              " '#flu': 6,\n",
              " '#trends': 10,\n",
              " '#alert': 2,\n",
              " 'https://t.co/sk9qCJsnYl': 1,\n",
              " 'https://t.co/T7qejP3hysMy': 1,\n",
              " 'capitalizing': 3,\n",
              " 'packaged': 19,\n",
              " 'making': 385,\n",
              " 'us': 1041,\n",
              " 'opposed': 5,\n",
              " 'closing': 137,\n",
              " 'safety': 202,\n",
              " '#LockdownCanada': 3,\n",
              " '#coronavirusSo': 13,\n",
              " 'feeling': 71,\n",
              " \"it's\": 333,\n",
              " 'ethical': 10,\n",
              " 'still': 742,\n",
              " 'order': 334,\n",
              " 'ship': 27,\n",
              " 'care': 397,\n",
              " 'packages': 45,\n",
              " 'loved': 43,\n",
              " 'ones': 117,\n",
              " '#COVID2019Bought': 1,\n",
              " 'house': 245,\n",
              " 'DidnÃ': 6,\n",
              " 'Tragic.Seen': 1,\n",
              " 'Facebook': 44,\n",
              " 'group': 99,\n",
              " 'businesses': 348,\n",
              " 'increasing': 126,\n",
              " 'essentials': 213,\n",
              " 'itÃ': 301,\n",
              " 'frankly': 5,\n",
              " 'despicable': 11,\n",
              " 'totally': 41,\n",
              " 'void': 4,\n",
              " 'spirit': 22,\n",
              " '#nameandshame': 2,\n",
              " '#covid': 66,\n",
              " '19uk': 17,\n",
              " '#Liverpool': 2,\n",
              " 'https://t.co/StTAkyqQiZ@BobJLowe': 1,\n",
              " 'Sadly': 15,\n",
              " 'misinformed': 1,\n",
              " 'thinking': 99,\n",
              " 'gives': 44,\n",
              " 'diarrhoea': 3,\n",
              " 'therefore': 16,\n",
              " 'had': 629,\n",
              " 'stock-pile': 1,\n",
              " 'papers': 23,\n",
              " 'ATM': 10,\n",
              " 'hygiene': 98,\n",
              " '@TinaMcCauley70': 1,\n",
              " 'Yeah': 24,\n",
              " 'risky': 8,\n",
              " 'thatÃ': 67,\n",
              " 'when': 1069,\n",
              " 'really': 426,\n",
              " 'necessary': 105,\n",
              " '..': 472,\n",
              " 'CN': 1,\n",
              " 'Mum': 11,\n",
              " 'live': 210,\n",
              " 'shielded': 2,\n",
              " '3': 468,\n",
              " 'This': 709,\n",
              " 'mean': 121,\n",
              " 'hope': 247,\n",
              " 'need.Hi': 1,\n",
              " 'Thanks': 123,\n",
              " '@balajis': 2,\n",
              " 'On': 87,\n",
              " 'consumer': 1448,\n",
              " 'side': 84,\n",
              " 'tech': 37,\n",
              " 'there': 1049,\n",
              " 'Chinese': 92,\n",
              " 'already': 276,\n",
              " 'demostrated': 1,\n",
              " 'ELISA': 1,\n",
              " 'test': 131,\n",
              " 'strips': 5,\n",
              " 'though': 96,\n",
              " 'details': 62,\n",
              " 'were': 554,\n",
              " 'lacking': 8,\n",
              " 'For': 206,\n",
              " '@US_FDA': 11,\n",
              " 'would': 671,\n",
              " 'deem': 4,\n",
              " 'it': 2937,\n",
              " 'waived': 11,\n",
              " 'doesnÃ': 77,\n",
              " 'easilyLost': 1,\n",
              " 'wages': 44,\n",
              " 'either': 82,\n",
              " 'illness': 22,\n",
              " 'economic': 204,\n",
              " 'urge': 37,\n",
              " 'support': 463,\n",
              " 'bill': 52,\n",
              " 'includes': 40,\n",
              " 'banks': 220,\n",
              " 'flexibility': 6,\n",
              " 'school': 105,\n",
              " 'meals': 73,\n",
              " 'increasedThe': 1,\n",
              " 'CEO': 90,\n",
              " '7-9': 1,\n",
              " 'am': 423,\n",
              " 'shop': 541,\n",
              " 'show': 138,\n",
              " 'ID': 9,\n",
              " 'saw': 130,\n",
              " 'young': 46,\n",
              " 'couple': 95,\n",
              " '300': 23,\n",
              " 'rolls': 150,\n",
              " 'tp': 18,\n",
              " 'crap': 22,\n",
              " 'Well': 72,\n",
              " 'maybe': 75,\n",
              " 'https://t.co/Hrbzmh95VQCoronavirus': 1,\n",
              " 'poses': 8,\n",
              " 'complex': 14,\n",
              " 'puzzle': 3,\n",
              " 'food-delivery': 3,\n",
              " 'delivery': 731,\n",
              " 'capacity': 49,\n",
              " 'buckle': 2,\n",
              " 'under': 219,\n",
              " 'surging': 31,\n",
              " 'https://t.co/1C1cMLmQii': 1,\n",
              " 'via': 542,\n",
              " '@WSJ': 9,\n",
              " '#services': 3,\n",
              " '#food': 137,\n",
              " '#delivery': 24,\n",
              " '@TheJoshuaTurner': 1,\n",
              " '@Loreign83': 1,\n",
              " '@peanut_astro': 1,\n",
              " '@my_amigouk': 1,\n",
              " '@afneil': 1,\n",
              " '@BorisJohnson': 104,\n",
              " '@patel4witham': 3,\n",
              " 'both': 112,\n",
              " 'disgusting': 47,\n",
              " 'disgraceful': 11,\n",
              " 'charging': 56,\n",
              " 'inflated': 108,\n",
              " 'items': 566,\n",
              " 'stopping': 23,\n",
              " 'government': 423,\n",
              " 'something': 205,\n",
              " 'abouAs': 1,\n",
              " 'retailers': 183,\n",
              " 'physical': 39,\n",
              " ...}"
            ]
          },
          "metadata": {},
          "execution_count": 22
        }
      ]
    },
    {
      "cell_type": "code",
      "source": [
        "a=0\n",
        "for i in sorted(dictionary1, key=dictionary1.get, reverse=True):\n",
        "  a+=1\n",
        "  if a>10:\n",
        "    break\n",
        "  else:\n",
        "    print(i, dictionary1[i])\n",
        "\n",
        "# как мы видим появились знаки препинания, а также стоп слова"
      ],
      "metadata": {
        "id": "dd1lAvSOdVrK",
        "outputId": "0dc7e515-53cb-4afa-cf8d-e40d1cfdec2c",
        "colab": {
          "base_uri": "https://localhost:8080/"
        }
      },
      "execution_count": 23,
      "outputs": [
        {
          "output_type": "stream",
          "name": "stdout",
          "text": [
            "the 24430\n",
            ". 23918\n",
            "to 23165\n",
            ", 18018\n",
            "and 14597\n",
            "of 13045\n",
            "a 10894\n",
            "in 10451\n",
            "? 9862\n",
            "for 8330\n"
          ]
        }
      ]
    },
    {
      "cell_type": "markdown",
      "metadata": {
        "id": "50eVUnJN1Zxl"
      },
      "source": [
        "**Ответ:** # -- YOUR ANSWER HERE --"
      ]
    },
    {
      "cell_type": "markdown",
      "metadata": {
        "id": "1gqQgiMs11bs"
      },
      "source": [
        "Удалите из словаря стоп-слова и пунктуацию, посмотрите на новый топ-10 слов с количеством встреч, есть ли теперь в нем что-то не похожее на слова?"
      ]
    },
    {
      "cell_type": "code",
      "execution_count": 24,
      "metadata": {
        "id": "0yHWdFrp0Mup",
        "colab": {
          "base_uri": "https://localhost:8080/"
        },
        "outputId": "92514f23-a06c-4c1c-a270-61c5d117f811"
      },
      "outputs": [
        {
          "output_type": "stream",
          "name": "stdout",
          "text": [
            "Â 7454\n",
            " 7359\n",
            "#coronavirus 6816\n",
            "19 5821\n",
            "I 4890\n",
            " 4522\n",
            "food 4234\n",
            "prices 4015\n",
            "store 3808\n",
            "supermarket 3641\n"
          ]
        }
      ],
      "source": [
        "from string import punctuation\n",
        "\n",
        "import nltk\n",
        "from nltk.corpus import stopwords\n",
        "nltk.download(\"stopwords\", quiet=True)\n",
        "stopwords=(stopwords.words(\"english\"))\n",
        "\n",
        "a=0\n",
        "for i in sorted(dictionary1, key=dictionary1.get, reverse=True):\n",
        "  if i in set(stopwords) or i in punctuation :\n",
        "    continue\n",
        "  if a>9:\n",
        "    break\n",
        "  else:\n",
        "    a+=1\n",
        "    print(i, dictionary1[i])\n",
        "\n",
        "# Да, появились числа, знак(минус), а также буквы в кодеровке и хэштеги"
      ]
    },
    {
      "cell_type": "markdown",
      "metadata": {
        "id": "8ZJqXELP_Yxy"
      },
      "source": [
        "**Ответ:** # -- YOUR ANSWER HERE --"
      ]
    },
    {
      "cell_type": "markdown",
      "metadata": {
        "id": "rzXjMsSB_kXB"
      },
      "source": [
        "Удалите из словаря токены из одного символа, с позицией в таблице Unicode 128 и более (`ord(x) >= 128`)\n",
        "\n",
        "Выведите топ-10 самых популярных и топ-20 непопулярных слов. Чем полученные топы отличаются от итоговых топов, полученных при использовании токенизации по пробелам? Что теперь лучше, а что хуже?"
      ]
    },
    {
      "cell_type": "code",
      "execution_count": 25,
      "metadata": {
        "id": "1695hlkS_1-J",
        "colab": {
          "base_uri": "https://localhost:8080/"
        },
        "outputId": "ed1a2219-7f53-4e0b-cc03-333be6b86f46"
      },
      "outputs": [
        {
          "output_type": "stream",
          "name": "stdout",
          "text": [
            "#coronavirus 6816\n",
            "19 5821\n",
            "I 4890\n",
            "food 4234\n",
            "prices 4015\n",
            "store 3808\n",
            "supermarket 3641\n",
            "COVID 3439\n",
            "people 3285\n",
            "grocery 3120\n"
          ]
        }
      ],
      "source": [
        "# -- YOUR CODE HERE --\n",
        "from string import punctuation\n",
        "\n",
        "import nltk\n",
        "from nltk.corpus import stopwords\n",
        "nltk.download(\"stopwords\", quiet=True)\n",
        "stopwords=(stopwords.words(\"english\"))\n",
        "\n",
        "a=0\n",
        "for i in sorted(dictionary1, key=dictionary1.get, reverse=True):\n",
        "  if i in set(stopwords) or i in set(punctuation) :\n",
        "    continue\n",
        "  if len(i)==1 and ord(i)>=128:\n",
        "    continue\n",
        "  if a>9:\n",
        "    break\n",
        "  else:\n",
        "    a+=1\n",
        "    print(i, dictionary1[i])\n",
        "\n",
        "# отличаются тем, что появились цифры, а также слова с большой буквы, в целом сходство большее"
      ]
    },
    {
      "cell_type": "code",
      "source": [
        "from string import punctuation\n",
        "\n",
        "import nltk\n",
        "from nltk.corpus import stopwords\n",
        "nltk.download(\"stopwords\", quiet=True)\n",
        "stopwords=(stopwords.words(\"english\"))\n",
        "\n",
        "a=0\n",
        "for i in sorted(dictionary1, key=dictionary1.get, reverse=False):\n",
        "  if i in set(stopwords) or i in set(punctuation) :\n",
        "    continue\n",
        "  if len(i)==1 and ord(i)>=128:\n",
        "    continue\n",
        "  if a>19:\n",
        "    break\n",
        "  else:\n",
        "    a+=1\n",
        "    print(i, dictionary1[i])\n",
        "\n",
        "# тут также много ссылок на страницы людей, столько же хэштегов(с большой буквы), а также странно написанных слов\n",
        "# по токенам сложно судить, но так как TweetTokenizer выделяет смайлики, а в социальных сетях это важно."
      ],
      "metadata": {
        "id": "QDXGxwf9o8ll",
        "outputId": "1e73c844-3bb5-4f37-a2c7-fce3f04a6c65",
        "colab": {
          "base_uri": "https://localhost:8080/"
        }
      },
      "execution_count": 26,
      "outputs": [
        {
          "output_type": "stream",
          "name": "stdout",
          "text": [
            "poss 1\n",
            "orderCoronavirus 1\n",
            "https://t.co/bInCA9Vp8PMy 1\n",
            "#ConfinementGeneral 1\n",
            "https://t.co/zrlG0Z520jMe 1\n",
            "litteraly 1\n",
            "#CoronavirusFrance 1\n",
            "https://t.co/usmuaLq72nAs 1\n",
            "@Tim_Dodson 1\n",
            "https://t.co/cfXch7a2lUCashier 1\n",
            "Civics 1\n",
            "https://t.co/ieFDNeHgDODue 1\n",
            "https://t.co/kw91zJ5O5iFor 1\n",
            "#govindia 1\n",
            "#IndiaFightsCoronaDue 1\n",
            "#horningsea 1\n",
            "https://t.co/lsGrXXhjhhMe 1\n",
            "https://t.co/8YWaKFjExCADARA 1\n",
            "Up-To-Date 1\n",
            "https://t.co/PnA797jDKV 1\n"
          ]
        }
      ]
    },
    {
      "cell_type": "markdown",
      "metadata": {
        "id": "KzjHAKIlDvc6"
      },
      "source": [
        "**Ответ:** # -- YOUR ANSWER HERE --"
      ]
    },
    {
      "cell_type": "markdown",
      "metadata": {
        "id": "EcDf9_6HB2zm"
      },
      "source": [
        "Выведите топ-10 популярных хештегов с количеством встреч. Что можно сказать о них?"
      ]
    },
    {
      "cell_type": "code",
      "execution_count": 27,
      "metadata": {
        "id": "zk4fygCUBw3l",
        "colab": {
          "base_uri": "https://localhost:8080/"
        },
        "outputId": "410aa642-ca79-422d-9ab7-3ba4d7e4038f"
      },
      "outputs": [
        {
          "output_type": "stream",
          "name": "stdout",
          "text": [
            "#coronavirus 6816\n",
            "#COVID19 1689\n",
            "#Covid_19 1308\n",
            "#Coronavirus 1206\n",
            "#COVID2019 831\n",
            "#toiletpaper 662\n",
            "#COVID 549\n",
            "#covid19 459\n",
            "#CoronaCrisis 448\n",
            "#CoronaVirus 359\n"
          ]
        }
      ],
      "source": [
        "# -- YOUR CODE HERE --\n",
        "a=0\n",
        "for i in sorted(dictionary1, key=dictionary1.get, reverse=True):\n",
        "  if i[0]=='#' :\n",
        "    print(i, dictionary1[i])\n",
        "    a+=1\n",
        "  if a>9:\n",
        "    break\n",
        "\n",
        "# все они связаны с короновирусом, что неудивительно"
      ]
    },
    {
      "cell_type": "markdown",
      "metadata": {
        "id": "-6NeNWBkDxM7"
      },
      "source": [
        "**Ответ:** # -- YOUR ANSWER HERE --"
      ]
    },
    {
      "cell_type": "markdown",
      "metadata": {
        "id": "LLYBg7caD5GA"
      },
      "source": [
        "То же самое проделайте для ссылок на сайт https://t.co Сравнима ли популярность ссылок с популярностью хештегов? Будет ли информация о ссылке на конкретную страницу полезна?"
      ]
    },
    {
      "cell_type": "code",
      "execution_count": 28,
      "metadata": {
        "id": "MXbm1oeaCK9S",
        "colab": {
          "base_uri": "https://localhost:8080/"
        },
        "outputId": "2c005512-f836-4acb-ed10-6383f8d8db9a"
      },
      "outputs": [
        {
          "output_type": "stream",
          "name": "stdout",
          "text": [
            "https://t.co/WrLHYzIzAA 4\n",
            "https://t.co/ymsEmlVTTd 4\n",
            "https://t.co/3kFUIOJXEp 4\n",
            "https://t.co/JpGMR5HcSc 3\n",
            "https://t.co/kuwIpF1KQW 3\n",
            "https://t.co/WuiEEfSNOj 3\n",
            "https://t.co/bTXzPMqLPb 3\n",
            "https://t.co/Hpo7UWkakl 3\n",
            "https://t.co/CATKegAyOY 3\n",
            "https://t.co/zjNRx6dKKN 3\n"
          ]
        }
      ],
      "source": [
        "# -- YOUR CODE HERE --\n",
        "a=0\n",
        "for i in sorted(dictionary1, key=dictionary1.get, reverse=True):\n",
        "  if i.startswith('https://t.co'):\n",
        "    print(i, dictionary1[i])\n",
        "    a+=1\n",
        "  if a>9:\n",
        "    break\n",
        "\n",
        "# популярность несравнима, так как она в сотни раз меньше, информация о ссылке не будет полезной, так как их мало и она не несет информацию(только при переходе по ней)"
      ]
    },
    {
      "cell_type": "markdown",
      "metadata": {
        "id": "at6lRYZ8A07N"
      },
      "source": [
        "**Ответ:** # -- YOUR ANSWER HERE --"
      ]
    },
    {
      "cell_type": "markdown",
      "metadata": {
        "id": "IOGdUU1kBU1D"
      },
      "source": [
        "Используем опыт предыдущих экспериментов и напишем собственный токенайзер, улучшив TweetTokenizer. Функция tokenize должна:\n",
        "\n",
        "\n",
        "\n",
        "*   Привести текст в нижний регистр\n",
        "*   Применить TweetTokenizer для изначального выделения токенов\n",
        "*   Удалить стоп-слова, пунктуацию, токены из одного символа, с позицией в таблице Unicode 128 и более и ссылки на t.co\n",
        "\n"
      ]
    },
    {
      "cell_type": "code",
      "execution_count": 1,
      "metadata": {
        "id": "ctEsB6xkFrrK"
      },
      "outputs": [],
      "source": [
        "def custom_tokenizer(text):\n",
        "  import nltk\n",
        "  from nltk.tokenize import TweetTokenizer\n",
        "  tw = TweetTokenizer()\n",
        "  from string import punctuation\n",
        "\n",
        "\n",
        "  from nltk.corpus import stopwords\n",
        "  nltk.download(\"stopwords\", quiet=True)\n",
        "  stopwords=(stopwords.words(\"english\"))\n",
        "  text=text.lower()\n",
        "  tokens=tw.tokenize(text)\n",
        "  new_tokens = []\n",
        "  for i in tokens:\n",
        "      if i not in punctuation and i not in stopwords and (len(i) != 1 or ord(i) < 128) and not i.startswith('https://t.co') :\n",
        "          new_tokens.append(i)\n",
        "\n",
        "  return new_tokens\n"
      ]
    },
    {
      "cell_type": "code",
      "execution_count": 29,
      "metadata": {
        "colab": {
          "base_uri": "https://localhost:8080/"
        },
        "id": "XwbgtYkJGYym",
        "outputId": "99b1de2b-2fed-41be-a917-1da9c4bc15b3"
      },
      "outputs": [
        {
          "output_type": "execute_result",
          "data": {
            "text/plain": [
              "['sample', 'text', '@sample_text', '#sampletext']"
            ]
          },
          "metadata": {},
          "execution_count": 29
        }
      ],
      "source": [
        "custom_tokenizer('This is sample text!!!! @Sample_text I, \\x92\\x92 https://t.co/sample  #sampletext')"
      ]
    },
    {
      "cell_type": "markdown",
      "metadata": {
        "id": "wURVABmXHk97"
      },
      "source": [
        "## Задание 3 Векторизация текстов (2 балла)"
      ]
    },
    {
      "cell_type": "markdown",
      "metadata": {
        "id": "H44iXkoHIQfN"
      },
      "source": [
        "Обучите CountVectorizer с использованием custom_tokenizer в качестве токенайзера. Как размер полученного словаря соотносится с размером изначального словаря из начала задания 2?"
      ]
    },
    {
      "cell_type": "code",
      "source": [
        "from sklearn.feature_extraction.text import CountVectorizer\n",
        "\n",
        "cv = CountVectorizer(tokenizer=custom_tokenizer)\n",
        "cv.fit(train['OriginalTweet'])\n",
        "print(len(cv.vocabulary_))\n",
        "\n",
        "# размер уменьшился практически в 2 раза(было 86999)"
      ],
      "metadata": {
        "colab": {
          "base_uri": "https://localhost:8080/"
        },
        "id": "gHn_limQl3BI",
        "outputId": "f6813973-8bef-4444-ff50-b43143ca51cd"
      },
      "execution_count": 30,
      "outputs": [
        {
          "output_type": "stream",
          "name": "stderr",
          "text": [
            "/usr/local/lib/python3.10/dist-packages/sklearn/feature_extraction/text.py:528: UserWarning: The parameter 'token_pattern' will not be used since 'tokenizer' is not None'\n",
            "  warnings.warn(\n"
          ]
        },
        {
          "output_type": "stream",
          "name": "stdout",
          "text": [
            "45308\n"
          ]
        }
      ]
    },
    {
      "cell_type": "markdown",
      "metadata": {
        "id": "gsfmaSGoItUm"
      },
      "source": [
        "**Ответ:** # -- YOUR ANSWER HERE --"
      ]
    },
    {
      "cell_type": "markdown",
      "metadata": {
        "id": "lm6UHNmqKZT0"
      },
      "source": [
        "Посмотрим на какой-нибудь конкретный твитт:"
      ]
    },
    {
      "cell_type": "code",
      "execution_count": 31,
      "metadata": {
        "id": "aJVjjfqOJh8m",
        "colab": {
          "base_uri": "https://localhost:8080/"
        },
        "outputId": "f118bb57-831c-4899-d8ab-3f109f71855d"
      },
      "outputs": [
        {
          "output_type": "execute_result",
          "data": {
            "text/plain": [
              "('Nice one @SkyNews lets not panic but show ppl in france queueing for food!!! #CoronavirusOutbreak #COVID2019 brainless!! Ffs',\n",
              " 0)"
            ]
          },
          "metadata": {},
          "execution_count": 31
        }
      ],
      "source": [
        "ind = 9023\n",
        "train.iloc[ind]['OriginalTweet'], train.iloc[ind]['Sentiment']"
      ]
    },
    {
      "cell_type": "markdown",
      "metadata": {
        "id": "PBMIHBI5KdaS"
      },
      "source": [
        "Автор твитта не доволен ситуацией с едой во Франции и текст имеет резко негативную окраску.\n",
        "\n",
        "Примените обученный CountVectorizer для векторизации данного текста, и попытайтесь определить самый важный токен и самый неважный токен (токен, компонента которого в векторе максимальна/минимальна, без учета 0). Хорошо ли они определились, почему?"
      ]
    },
    {
      "cell_type": "code",
      "execution_count": 32,
      "metadata": {
        "id": "7NcAllaEKsJj",
        "colab": {
          "base_uri": "https://localhost:8080/"
        },
        "outputId": "b9018a79-6be5-402e-9383-80e38e80a990"
      },
      "outputs": [
        {
          "output_type": "stream",
          "name": "stdout",
          "text": [
            "  (0, 1833)\t1\n",
            "  (0, 2046)\t1\n",
            "  (0, 16658)\t1\n",
            "  (0, 20553)\t1\n",
            "  (0, 26665)\t1\n",
            "  (0, 27042)\t1\n",
            "  (0, 27233)\t1\n",
            "  (0, 31579)\t1\n",
            "  (0, 34079)\t1\n",
            "  (0, 34688)\t1\n",
            "  (0, 35257)\t1\n",
            "  (0, 36413)\t1\n",
            "  (0, 37229)\t1\n",
            "  (0, 39919)\t1\n"
          ]
        }
      ],
      "source": [
        "# -- YOUR CODE HERE --\n",
        "vectorized_text = cv.transform([train.iloc[9023]['OriginalTweet']])\n",
        "\n",
        "\n",
        "print(vectorized_text)\n",
        "\n",
        "# так как каждое слово встречается ровно 1 раз, то определить самый важный и неважный токен нельзя."
      ]
    },
    {
      "cell_type": "markdown",
      "metadata": {
        "id": "TpEsl1k_NF4T"
      },
      "source": [
        "**Ответ:** # -- YOUR ANSWER HERE --"
      ]
    },
    {
      "cell_type": "markdown",
      "metadata": {
        "id": "w4DsEQpLO3J6"
      },
      "source": [
        "Теперь примените TfidfVectorizer и  определите самый важный/неважный токены. Хорошо ли определились, почему?"
      ]
    },
    {
      "cell_type": "code",
      "execution_count": 33,
      "metadata": {
        "id": "uSNzdK3ENGB3",
        "colab": {
          "base_uri": "https://localhost:8080/"
        },
        "outputId": "b0086887-6fc6-44ed-fb5a-36987d7f1138"
      },
      "outputs": [
        {
          "output_type": "stream",
          "name": "stdout",
          "text": [
            "  (0, 39919)\t0.24406492401820118\n",
            "  (0, 37229)\t0.35434556333216544\n",
            "  (0, 36413)\t0.2550064610386691\n",
            "  (0, 35257)\t0.14759470306326164\n",
            "  (0, 34688)\t0.16306722855395073\n",
            "  (0, 34079)\t0.2542729176022132\n",
            "  (0, 31579)\t0.30121070136861045\n",
            "  (0, 27233)\t0.32047314046539654\n",
            "  (0, 27042)\t0.11328893069250721\n",
            "  (0, 26665)\t0.3244741764513268\n",
            "  (0, 20553)\t0.3867641170466375\n",
            "  (0, 16658)\t0.31042634466284263\n",
            "  (0, 2046)\t0.16825192939361902\n",
            "  (0, 1833)\t0.22584265007428544\n"
          ]
        }
      ],
      "source": [
        "# -- YOUR CODE HERE --\n",
        "from sklearn.feature_extraction.text import TfidfVectorizer\n",
        "\n",
        "tfidf_vec = TfidfVectorizer(tokenizer=custom_tokenizer)\n",
        "tfidf_vec.fit(train['OriginalTweet'])\n",
        "vectorized_text_1 = tfidf_vec.transform([train.iloc[9023]['OriginalTweet']])\n",
        "print(vectorized_text_1)\n",
        "\n",
        "# тут токены определилсь намного лучше, так как в Tfidf важность(коэффицент) зависит от всех слов во всех твитах."
      ]
    },
    {
      "cell_type": "code",
      "source": [
        "feature_names = tfidf_vec.get_feature_names_out()"
      ],
      "metadata": {
        "id": "ujqX0lP68n8a"
      },
      "execution_count": 34,
      "outputs": []
    },
    {
      "cell_type": "code",
      "source": [
        "feature_names[20553]\n",
        "# самый важный токен, так как слово достаточно редкое"
      ],
      "metadata": {
        "colab": {
          "base_uri": "https://localhost:8080/",
          "height": 35
        },
        "id": "Idy_pwYJ8pnB",
        "outputId": "27fe29ff-2428-4a2b-a41c-978c94449d5c"
      },
      "execution_count": 35,
      "outputs": [
        {
          "output_type": "execute_result",
          "data": {
            "text/plain": [
              "'brainless'"
            ],
            "application/vnd.google.colaboratory.intrinsic+json": {
              "type": "string"
            }
          },
          "metadata": {},
          "execution_count": 35
        }
      ]
    },
    {
      "cell_type": "code",
      "source": [
        "feature_names[27042]\n",
        "#  самый неважный токен, так как слово часто встречается во всех твиттах."
      ],
      "metadata": {
        "id": "rhDgIXydOG_D",
        "outputId": "be5aaec9-f21c-46e7-a2a6-5397c65d08dd",
        "colab": {
          "base_uri": "https://localhost:8080/",
          "height": 35
        }
      },
      "execution_count": 36,
      "outputs": [
        {
          "output_type": "execute_result",
          "data": {
            "text/plain": [
              "'food'"
            ],
            "application/vnd.google.colaboratory.intrinsic+json": {
              "type": "string"
            }
          },
          "metadata": {},
          "execution_count": 36
        }
      ]
    },
    {
      "cell_type": "markdown",
      "metadata": {
        "id": "NYao_UhqQADm"
      },
      "source": [
        "**Ответ:** # -- YOUR ANSWER HERE --"
      ]
    },
    {
      "cell_type": "markdown",
      "metadata": {
        "id": "LGRJPqfWSesQ"
      },
      "source": [
        "Найдите какой-нибудь положительно окрашенный твитт, где TfidfVectorizer хорошо (полезно для определения окраски) выделяет важный токен, поясните пример.\n",
        "\n",
        "*Подсказка:* явно положительные твитты можно искать при помощи положительных слов (good, great, amazing и т. д.)"
      ]
    },
    {
      "cell_type": "code",
      "execution_count": 63,
      "metadata": {
        "id": "bRbQ2CHiSuJI",
        "colab": {
          "base_uri": "https://localhost:8080/",
          "height": 457
        },
        "outputId": "0c5e604a-63ef-4ac5-f0b1-efd413aeacad"
      },
      "outputs": [
        {
          "output_type": "execute_result",
          "data": {
            "text/plain": [
              "       UserName  ScreenName                        Location     TweetAt  \\\n",
              "24158     33331       78283                         Unknown  05-04-2020   \n",
              "14195     21040       65992  Melbourne, Victoria, Australia  23-03-2020   \n",
              "28277     38476       83428             Manchester, England  08-04-2020   \n",
              "10465     16496       61448                Kathmandu, Nepal  21-03-2020   \n",
              "28734     39063       84015                    South Africa  09-04-2020   \n",
              "18817     26704       71656                         Unknown  25-03-2020   \n",
              "1327       5405       50357        Yorkshire and The Humber  17-03-2020   \n",
              "2567       6906       51858                         Unknown  18-03-2020   \n",
              "5956      11029       55981            DELHI-DUBAI-NEW YORK  19-03-2020   \n",
              "18068     25786       70738                         Unknown  25-03-2020   \n",
              "7334      12705       57657         England, United Kingdom  20-03-2020   \n",
              "4930       9790       54742                          London  19-03-2020   \n",
              "23905     33018       77970                         Unknown  05-04-2020   \n",
              "\n",
              "                                           OriginalTweet  Sentiment  \n",
              "24158  Supermarket staff are doing brilliant. But my ...          1  \n",
              "14195  At least I can praise COVID-19 for this. I had...          1  \n",
              "28277  Click here https://t.co/jAeaNRDjT3 for a brill...          1  \n",
              "10465  Supermarket In Denmark Uses Price Trick To Sto...          1  \n",
              "28734  Redshift recently built an online store connec...          1  \n",
              "18817  The #coronavirus has renewed the potential for...          1  \n",
              "1327   Love it when artists see the funny side. Don't...          1  \n",
              "2567   Hand sanitizer was invented by a Latina!??\\r\\r...          1  \n",
              "5956   \"I don't think you need to stock your pantry b...          1  \n",
              "18068                        The explained brilliantly            1  \n",
              "7334   I have a friend who creates photos using lego ...          1  \n",
              "4930   My brilliant friend #johnclive sent me this #c...          1  \n",
              "23905  Absolutely brilliant idea amp a great use of a...          1  "
            ],
            "text/html": [
              "\n",
              "  <div id=\"df-6ccc7f39-698a-4608-b6e1-8f9536892331\" class=\"colab-df-container\">\n",
              "    <div>\n",
              "<style scoped>\n",
              "    .dataframe tbody tr th:only-of-type {\n",
              "        vertical-align: middle;\n",
              "    }\n",
              "\n",
              "    .dataframe tbody tr th {\n",
              "        vertical-align: top;\n",
              "    }\n",
              "\n",
              "    .dataframe thead th {\n",
              "        text-align: right;\n",
              "    }\n",
              "</style>\n",
              "<table border=\"1\" class=\"dataframe\">\n",
              "  <thead>\n",
              "    <tr style=\"text-align: right;\">\n",
              "      <th></th>\n",
              "      <th>UserName</th>\n",
              "      <th>ScreenName</th>\n",
              "      <th>Location</th>\n",
              "      <th>TweetAt</th>\n",
              "      <th>OriginalTweet</th>\n",
              "      <th>Sentiment</th>\n",
              "    </tr>\n",
              "  </thead>\n",
              "  <tbody>\n",
              "    <tr>\n",
              "      <th>24158</th>\n",
              "      <td>33331</td>\n",
              "      <td>78283</td>\n",
              "      <td>Unknown</td>\n",
              "      <td>05-04-2020</td>\n",
              "      <td>Supermarket staff are doing brilliant. But my ...</td>\n",
              "      <td>1</td>\n",
              "    </tr>\n",
              "    <tr>\n",
              "      <th>14195</th>\n",
              "      <td>21040</td>\n",
              "      <td>65992</td>\n",
              "      <td>Melbourne, Victoria, Australia</td>\n",
              "      <td>23-03-2020</td>\n",
              "      <td>At least I can praise COVID-19 for this. I had...</td>\n",
              "      <td>1</td>\n",
              "    </tr>\n",
              "    <tr>\n",
              "      <th>28277</th>\n",
              "      <td>38476</td>\n",
              "      <td>83428</td>\n",
              "      <td>Manchester, England</td>\n",
              "      <td>08-04-2020</td>\n",
              "      <td>Click here https://t.co/jAeaNRDjT3 for a brill...</td>\n",
              "      <td>1</td>\n",
              "    </tr>\n",
              "    <tr>\n",
              "      <th>10465</th>\n",
              "      <td>16496</td>\n",
              "      <td>61448</td>\n",
              "      <td>Kathmandu, Nepal</td>\n",
              "      <td>21-03-2020</td>\n",
              "      <td>Supermarket In Denmark Uses Price Trick To Sto...</td>\n",
              "      <td>1</td>\n",
              "    </tr>\n",
              "    <tr>\n",
              "      <th>28734</th>\n",
              "      <td>39063</td>\n",
              "      <td>84015</td>\n",
              "      <td>South Africa</td>\n",
              "      <td>09-04-2020</td>\n",
              "      <td>Redshift recently built an online store connec...</td>\n",
              "      <td>1</td>\n",
              "    </tr>\n",
              "    <tr>\n",
              "      <th>18817</th>\n",
              "      <td>26704</td>\n",
              "      <td>71656</td>\n",
              "      <td>Unknown</td>\n",
              "      <td>25-03-2020</td>\n",
              "      <td>The #coronavirus has renewed the potential for...</td>\n",
              "      <td>1</td>\n",
              "    </tr>\n",
              "    <tr>\n",
              "      <th>1327</th>\n",
              "      <td>5405</td>\n",
              "      <td>50357</td>\n",
              "      <td>Yorkshire and The Humber</td>\n",
              "      <td>17-03-2020</td>\n",
              "      <td>Love it when artists see the funny side. Don't...</td>\n",
              "      <td>1</td>\n",
              "    </tr>\n",
              "    <tr>\n",
              "      <th>2567</th>\n",
              "      <td>6906</td>\n",
              "      <td>51858</td>\n",
              "      <td>Unknown</td>\n",
              "      <td>18-03-2020</td>\n",
              "      <td>Hand sanitizer was invented by a Latina!??\\r\\r...</td>\n",
              "      <td>1</td>\n",
              "    </tr>\n",
              "    <tr>\n",
              "      <th>5956</th>\n",
              "      <td>11029</td>\n",
              "      <td>55981</td>\n",
              "      <td>DELHI-DUBAI-NEW YORK</td>\n",
              "      <td>19-03-2020</td>\n",
              "      <td>\"I don't think you need to stock your pantry b...</td>\n",
              "      <td>1</td>\n",
              "    </tr>\n",
              "    <tr>\n",
              "      <th>18068</th>\n",
              "      <td>25786</td>\n",
              "      <td>70738</td>\n",
              "      <td>Unknown</td>\n",
              "      <td>25-03-2020</td>\n",
              "      <td>The explained brilliantly</td>\n",
              "      <td>1</td>\n",
              "    </tr>\n",
              "    <tr>\n",
              "      <th>7334</th>\n",
              "      <td>12705</td>\n",
              "      <td>57657</td>\n",
              "      <td>England, United Kingdom</td>\n",
              "      <td>20-03-2020</td>\n",
              "      <td>I have a friend who creates photos using lego ...</td>\n",
              "      <td>1</td>\n",
              "    </tr>\n",
              "    <tr>\n",
              "      <th>4930</th>\n",
              "      <td>9790</td>\n",
              "      <td>54742</td>\n",
              "      <td>London</td>\n",
              "      <td>19-03-2020</td>\n",
              "      <td>My brilliant friend #johnclive sent me this #c...</td>\n",
              "      <td>1</td>\n",
              "    </tr>\n",
              "    <tr>\n",
              "      <th>23905</th>\n",
              "      <td>33018</td>\n",
              "      <td>77970</td>\n",
              "      <td>Unknown</td>\n",
              "      <td>05-04-2020</td>\n",
              "      <td>Absolutely brilliant idea amp a great use of a...</td>\n",
              "      <td>1</td>\n",
              "    </tr>\n",
              "  </tbody>\n",
              "</table>\n",
              "</div>\n",
              "    <div class=\"colab-df-buttons\">\n",
              "\n",
              "  <div class=\"colab-df-container\">\n",
              "    <button class=\"colab-df-convert\" onclick=\"convertToInteractive('df-6ccc7f39-698a-4608-b6e1-8f9536892331')\"\n",
              "            title=\"Convert this dataframe to an interactive table.\"\n",
              "            style=\"display:none;\">\n",
              "\n",
              "  <svg xmlns=\"http://www.w3.org/2000/svg\" height=\"24px\" viewBox=\"0 -960 960 960\">\n",
              "    <path d=\"M120-120v-720h720v720H120Zm60-500h600v-160H180v160Zm220 220h160v-160H400v160Zm0 220h160v-160H400v160ZM180-400h160v-160H180v160Zm440 0h160v-160H620v160ZM180-180h160v-160H180v160Zm440 0h160v-160H620v160Z\"/>\n",
              "  </svg>\n",
              "    </button>\n",
              "\n",
              "  <style>\n",
              "    .colab-df-container {\n",
              "      display:flex;\n",
              "      gap: 12px;\n",
              "    }\n",
              "\n",
              "    .colab-df-convert {\n",
              "      background-color: #E8F0FE;\n",
              "      border: none;\n",
              "      border-radius: 50%;\n",
              "      cursor: pointer;\n",
              "      display: none;\n",
              "      fill: #1967D2;\n",
              "      height: 32px;\n",
              "      padding: 0 0 0 0;\n",
              "      width: 32px;\n",
              "    }\n",
              "\n",
              "    .colab-df-convert:hover {\n",
              "      background-color: #E2EBFA;\n",
              "      box-shadow: 0px 1px 2px rgba(60, 64, 67, 0.3), 0px 1px 3px 1px rgba(60, 64, 67, 0.15);\n",
              "      fill: #174EA6;\n",
              "    }\n",
              "\n",
              "    .colab-df-buttons div {\n",
              "      margin-bottom: 4px;\n",
              "    }\n",
              "\n",
              "    [theme=dark] .colab-df-convert {\n",
              "      background-color: #3B4455;\n",
              "      fill: #D2E3FC;\n",
              "    }\n",
              "\n",
              "    [theme=dark] .colab-df-convert:hover {\n",
              "      background-color: #434B5C;\n",
              "      box-shadow: 0px 1px 3px 1px rgba(0, 0, 0, 0.15);\n",
              "      filter: drop-shadow(0px 1px 2px rgba(0, 0, 0, 0.3));\n",
              "      fill: #FFFFFF;\n",
              "    }\n",
              "  </style>\n",
              "\n",
              "    <script>\n",
              "      const buttonEl =\n",
              "        document.querySelector('#df-6ccc7f39-698a-4608-b6e1-8f9536892331 button.colab-df-convert');\n",
              "      buttonEl.style.display =\n",
              "        google.colab.kernel.accessAllowed ? 'block' : 'none';\n",
              "\n",
              "      async function convertToInteractive(key) {\n",
              "        const element = document.querySelector('#df-6ccc7f39-698a-4608-b6e1-8f9536892331');\n",
              "        const dataTable =\n",
              "          await google.colab.kernel.invokeFunction('convertToInteractive',\n",
              "                                                    [key], {});\n",
              "        if (!dataTable) return;\n",
              "\n",
              "        const docLinkHtml = 'Like what you see? Visit the ' +\n",
              "          '<a target=\"_blank\" href=https://colab.research.google.com/notebooks/data_table.ipynb>data table notebook</a>'\n",
              "          + ' to learn more about interactive tables.';\n",
              "        element.innerHTML = '';\n",
              "        dataTable['output_type'] = 'display_data';\n",
              "        await google.colab.output.renderOutput(dataTable, element);\n",
              "        const docLink = document.createElement('div');\n",
              "        docLink.innerHTML = docLinkHtml;\n",
              "        element.appendChild(docLink);\n",
              "      }\n",
              "    </script>\n",
              "  </div>\n",
              "\n",
              "\n",
              "<div id=\"df-257df121-5450-40e0-a967-db33a2822377\">\n",
              "  <button class=\"colab-df-quickchart\" onclick=\"quickchart('df-257df121-5450-40e0-a967-db33a2822377')\"\n",
              "            title=\"Suggest charts\"\n",
              "            style=\"display:none;\">\n",
              "\n",
              "<svg xmlns=\"http://www.w3.org/2000/svg\" height=\"24px\"viewBox=\"0 0 24 24\"\n",
              "     width=\"24px\">\n",
              "    <g>\n",
              "        <path d=\"M19 3H5c-1.1 0-2 .9-2 2v14c0 1.1.9 2 2 2h14c1.1 0 2-.9 2-2V5c0-1.1-.9-2-2-2zM9 17H7v-7h2v7zm4 0h-2V7h2v10zm4 0h-2v-4h2v4z\"/>\n",
              "    </g>\n",
              "</svg>\n",
              "  </button>\n",
              "\n",
              "<style>\n",
              "  .colab-df-quickchart {\n",
              "      --bg-color: #E8F0FE;\n",
              "      --fill-color: #1967D2;\n",
              "      --hover-bg-color: #E2EBFA;\n",
              "      --hover-fill-color: #174EA6;\n",
              "      --disabled-fill-color: #AAA;\n",
              "      --disabled-bg-color: #DDD;\n",
              "  }\n",
              "\n",
              "  [theme=dark] .colab-df-quickchart {\n",
              "      --bg-color: #3B4455;\n",
              "      --fill-color: #D2E3FC;\n",
              "      --hover-bg-color: #434B5C;\n",
              "      --hover-fill-color: #FFFFFF;\n",
              "      --disabled-bg-color: #3B4455;\n",
              "      --disabled-fill-color: #666;\n",
              "  }\n",
              "\n",
              "  .colab-df-quickchart {\n",
              "    background-color: var(--bg-color);\n",
              "    border: none;\n",
              "    border-radius: 50%;\n",
              "    cursor: pointer;\n",
              "    display: none;\n",
              "    fill: var(--fill-color);\n",
              "    height: 32px;\n",
              "    padding: 0;\n",
              "    width: 32px;\n",
              "  }\n",
              "\n",
              "  .colab-df-quickchart:hover {\n",
              "    background-color: var(--hover-bg-color);\n",
              "    box-shadow: 0 1px 2px rgba(60, 64, 67, 0.3), 0 1px 3px 1px rgba(60, 64, 67, 0.15);\n",
              "    fill: var(--button-hover-fill-color);\n",
              "  }\n",
              "\n",
              "  .colab-df-quickchart-complete:disabled,\n",
              "  .colab-df-quickchart-complete:disabled:hover {\n",
              "    background-color: var(--disabled-bg-color);\n",
              "    fill: var(--disabled-fill-color);\n",
              "    box-shadow: none;\n",
              "  }\n",
              "\n",
              "  .colab-df-spinner {\n",
              "    border: 2px solid var(--fill-color);\n",
              "    border-color: transparent;\n",
              "    border-bottom-color: var(--fill-color);\n",
              "    animation:\n",
              "      spin 1s steps(1) infinite;\n",
              "  }\n",
              "\n",
              "  @keyframes spin {\n",
              "    0% {\n",
              "      border-color: transparent;\n",
              "      border-bottom-color: var(--fill-color);\n",
              "      border-left-color: var(--fill-color);\n",
              "    }\n",
              "    20% {\n",
              "      border-color: transparent;\n",
              "      border-left-color: var(--fill-color);\n",
              "      border-top-color: var(--fill-color);\n",
              "    }\n",
              "    30% {\n",
              "      border-color: transparent;\n",
              "      border-left-color: var(--fill-color);\n",
              "      border-top-color: var(--fill-color);\n",
              "      border-right-color: var(--fill-color);\n",
              "    }\n",
              "    40% {\n",
              "      border-color: transparent;\n",
              "      border-right-color: var(--fill-color);\n",
              "      border-top-color: var(--fill-color);\n",
              "    }\n",
              "    60% {\n",
              "      border-color: transparent;\n",
              "      border-right-color: var(--fill-color);\n",
              "    }\n",
              "    80% {\n",
              "      border-color: transparent;\n",
              "      border-right-color: var(--fill-color);\n",
              "      border-bottom-color: var(--fill-color);\n",
              "    }\n",
              "    90% {\n",
              "      border-color: transparent;\n",
              "      border-bottom-color: var(--fill-color);\n",
              "    }\n",
              "  }\n",
              "</style>\n",
              "\n",
              "  <script>\n",
              "    async function quickchart(key) {\n",
              "      const quickchartButtonEl =\n",
              "        document.querySelector('#' + key + ' button');\n",
              "      quickchartButtonEl.disabled = true;  // To prevent multiple clicks.\n",
              "      quickchartButtonEl.classList.add('colab-df-spinner');\n",
              "      try {\n",
              "        const charts = await google.colab.kernel.invokeFunction(\n",
              "            'suggestCharts', [key], {});\n",
              "      } catch (error) {\n",
              "        console.error('Error during call to suggestCharts:', error);\n",
              "      }\n",
              "      quickchartButtonEl.classList.remove('colab-df-spinner');\n",
              "      quickchartButtonEl.classList.add('colab-df-quickchart-complete');\n",
              "    }\n",
              "    (() => {\n",
              "      let quickchartButtonEl =\n",
              "        document.querySelector('#df-257df121-5450-40e0-a967-db33a2822377 button');\n",
              "      quickchartButtonEl.style.display =\n",
              "        google.colab.kernel.accessAllowed ? 'block' : 'none';\n",
              "    })();\n",
              "  </script>\n",
              "</div>\n",
              "    </div>\n",
              "  </div>\n"
            ],
            "application/vnd.google.colaboratory.intrinsic+json": {
              "type": "dataframe",
              "summary": "{\n  \"name\": \"(train[train['OriginalTweet']\",\n  \"rows\": 13,\n  \"fields\": [\n    {\n      \"column\": \"UserName\",\n      \"properties\": {\n        \"dtype\": \"number\",\n        \"std\": 12028,\n        \"min\": 5405,\n        \"max\": 39063,\n        \"num_unique_values\": 13,\n        \"samples\": [\n          9790,\n          25786,\n          33331\n        ],\n        \"semantic_type\": \"\",\n        \"description\": \"\"\n      }\n    },\n    {\n      \"column\": \"ScreenName\",\n      \"properties\": {\n        \"dtype\": \"number\",\n        \"std\": 12028,\n        \"min\": 50357,\n        \"max\": 84015,\n        \"num_unique_values\": 13,\n        \"samples\": [\n          54742,\n          70738,\n          78283\n        ],\n        \"semantic_type\": \"\",\n        \"description\": \"\"\n      }\n    },\n    {\n      \"column\": \"Location\",\n      \"properties\": {\n        \"dtype\": \"string\",\n        \"num_unique_values\": 9,\n        \"samples\": [\n          \"England, United Kingdom\",\n          \"Melbourne, Victoria, Australia\",\n          \"Yorkshire and The Humber\"\n        ],\n        \"semantic_type\": \"\",\n        \"description\": \"\"\n      }\n    },\n    {\n      \"column\": \"TweetAt\",\n      \"properties\": {\n        \"dtype\": \"string\",\n        \"num_unique_values\": 10,\n        \"samples\": [\n          \"19-03-2020\",\n          \"23-03-2020\",\n          \"25-03-2020\"\n        ],\n        \"semantic_type\": \"\",\n        \"description\": \"\"\n      }\n    },\n    {\n      \"column\": \"OriginalTweet\",\n      \"properties\": {\n        \"dtype\": \"string\",\n        \"num_unique_values\": 13,\n        \"samples\": [\n          \"My brilliant friend #johnclive sent me this #coronavirus #panicbuying #hoarding #supermarket https://t.co/9gXcoaGibk\",\n          \"The explained brilliantly  \",\n          \"Supermarket staff are doing brilliant. But my experience is staff need training on social distancing. Face to face talking is like sneezing at some one. Too often they came too close to each other,and to me #COVID2019\\r\\r\\n@sainsburys @tesco @asda @waitrose @AldiUK @LidlGB @Morrisons\"\n        ],\n        \"semantic_type\": \"\",\n        \"description\": \"\"\n      }\n    },\n    {\n      \"column\": \"Sentiment\",\n      \"properties\": {\n        \"dtype\": \"number\",\n        \"std\": 0,\n        \"min\": 1,\n        \"max\": 1,\n        \"num_unique_values\": 1,\n        \"samples\": [\n          1\n        ],\n        \"semantic_type\": \"\",\n        \"description\": \"\"\n      }\n    }\n  ]\n}"
            }
          },
          "metadata": {},
          "execution_count": 63
        }
      ],
      "source": [
        "(train[train['OriginalTweet'].apply(lambda x: 'brilliant' in x) & (train['Sentiment'] == 1)])"
      ]
    },
    {
      "cell_type": "code",
      "source": [
        "# -- YOUR CODE HERE --\n",
        "df.iloc[24158]\n",
        "from sklearn.feature_extraction.text import TfidfVectorizer\n",
        "tfidf_vec = TfidfVectorizer(tokenizer=custom_tokenizer)\n",
        "tfidf_vec.fit(train['OriginalTweet'])\n",
        "vectorized_text_1 = tfidf_vec.transform([df.iloc[24158]['OriginalTweet']])\n",
        "print(vectorized_text_1)\n"
      ],
      "metadata": {
        "id": "jSjbKPCWk87K",
        "colab": {
          "base_uri": "https://localhost:8080/"
        },
        "outputId": "0fea5dec-819f-4c8a-f228-1b2ae3ee1113"
      },
      "execution_count": 64,
      "outputs": [
        {
          "output_type": "stream",
          "name": "stderr",
          "text": [
            "/usr/local/lib/python3.10/dist-packages/sklearn/feature_extraction/text.py:528: UserWarning: The parameter 'token_pattern' will not be used since 'tokenizer' is not None'\n",
            "  warnings.warn(\n"
          ]
        },
        {
          "output_type": "stream",
          "name": "stdout",
          "text": [
            "  (0, 42818)\t0.24634420019618558\n",
            "  (0, 41909)\t0.208910368772752\n",
            "  (0, 41557)\t0.08719093524692759\n",
            "  (0, 40895)\t0.28634372707848316\n",
            "  (0, 40445)\t0.14231750278239128\n",
            "  (0, 40396)\t0.25283770319938204\n",
            "  (0, 34688)\t0.12534799620958895\n",
            "  (0, 34610)\t0.208910368772752\n",
            "  (0, 33912)\t0.1139033392713554\n",
            "  (0, 31687)\t0.11453901555570956\n",
            "  (0, 26321)\t0.31157004807316585\n",
            "  (0, 26169)\t0.2002871065258658\n",
            "  (0, 24610)\t0.1555554099203469\n",
            "  (0, 22088)\t0.16820652962212654\n",
            "  (0, 21122)\t0.19900650958357538\n",
            "  (0, 20687)\t0.23538362211865776\n",
            "  (0, 17469)\t0.2178954156823077\n",
            "  (0, 16972)\t0.19490310596766702\n",
            "  (0, 16378)\t0.20128383864400318\n",
            "  (0, 15246)\t0.2178954156823077\n",
            "  (0, 14753)\t0.24634420019618558\n",
            "  (0, 11956)\t0.2121000317436954\n",
            "  (0, 11770)\t0.23642541271932996\n",
            "  (0, 2046)\t0.12933341907451226\n"
          ]
        }
      ]
    },
    {
      "cell_type": "code",
      "source": [
        "df.iloc[24158]['OriginalTweet']"
      ],
      "metadata": {
        "id": "QHUbdvwdOk8r",
        "outputId": "39543186-ede4-44e1-d6c2-985c79edec26",
        "colab": {
          "base_uri": "https://localhost:8080/",
          "height": 52
        }
      },
      "execution_count": 60,
      "outputs": [
        {
          "output_type": "execute_result",
          "data": {
            "text/plain": [
              "'How beautiful the way to the supermarket can be... the only thing I still get to go out for. Makes you look at things differently. #CoronavirusPandemic #coronavirus #wirbleibenzuhause https://t.co/GmVfiyO1EV'"
            ],
            "application/vnd.google.colaboratory.intrinsic+json": {
              "type": "string"
            }
          },
          "metadata": {},
          "execution_count": 60
        }
      ]
    },
    {
      "cell_type": "code",
      "source": [
        "feature_names = tfidf_vec.get_feature_names_out()"
      ],
      "metadata": {
        "id": "LBLHnZ9xPnKU"
      },
      "execution_count": 61,
      "outputs": []
    },
    {
      "cell_type": "code",
      "source": [
        "feature_names[26321]\n",
        "# самый важный токен, из-за его редкости, сложно понять, почему, но это так"
      ],
      "metadata": {
        "colab": {
          "base_uri": "https://localhost:8080/",
          "height": 35
        },
        "id": "-fuVIDbPPoFb",
        "outputId": "b68262f3-0577-413d-b6ab-01e8afbc6867"
      },
      "execution_count": 65,
      "outputs": [
        {
          "output_type": "execute_result",
          "data": {
            "text/plain": [
              "'face'"
            ],
            "application/vnd.google.colaboratory.intrinsic+json": {
              "type": "string"
            }
          },
          "metadata": {},
          "execution_count": 65
        }
      ]
    },
    {
      "cell_type": "code",
      "source": [
        "feature_names[41557]\n",
        "# самый неважный токен, из-за его популяпности, выше он был среди 10 самых популярных токенов"
      ],
      "metadata": {
        "id": "ZHMB_HPPOvTw",
        "outputId": "8b6555eb-5150-4a73-d95e-801f9a062bf9",
        "colab": {
          "base_uri": "https://localhost:8080/",
          "height": 35
        }
      },
      "execution_count": 67,
      "outputs": [
        {
          "output_type": "execute_result",
          "data": {
            "text/plain": [
              "'supermarket'"
            ],
            "application/vnd.google.colaboratory.intrinsic+json": {
              "type": "string"
            }
          },
          "metadata": {},
          "execution_count": 67
        }
      ]
    },
    {
      "cell_type": "markdown",
      "metadata": {
        "id": "JTv9ST2_U6NA"
      },
      "source": [
        "**Ответ:** # -- YOUR ANSWER HERE --"
      ]
    },
    {
      "cell_type": "markdown",
      "metadata": {
        "id": "JVEuZm8BHms6"
      },
      "source": [
        "## Задание 4 Обучение первых моделей (1 балл)"
      ]
    },
    {
      "cell_type": "markdown",
      "metadata": {
        "id": "JADkO3sfXdOG"
      },
      "source": [
        "Примените оба векторайзера для получения матриц с признаками текстов.  Выделите целевую переменную."
      ]
    },
    {
      "cell_type": "code",
      "execution_count": 68,
      "metadata": {
        "id": "DguoiXhCX2oN",
        "colab": {
          "base_uri": "https://localhost:8080/"
        },
        "outputId": "66a452d8-08bc-4419-e85d-0fee49dd8a38"
      },
      "outputs": [
        {
          "output_type": "stream",
          "name": "stderr",
          "text": [
            "/usr/local/lib/python3.10/dist-packages/sklearn/feature_extraction/text.py:528: UserWarning: The parameter 'token_pattern' will not be used since 'tokenizer' is not None'\n",
            "  warnings.warn(\n"
          ]
        }
      ],
      "source": [
        "# -- YOUR CODE HERE --\n",
        "\n",
        "\n",
        "\n",
        "from sklearn.feature_extraction.text import TfidfVectorizer\n",
        "tfidf_vec = TfidfVectorizer(tokenizer=custom_tokenizer)\n",
        "tfidf_vec.fit(train['OriginalTweet'])\n",
        "tfidf_train=tfidf_vec.transform(train['OriginalTweet'])\n",
        "tfidf_test=tfidf_vec.transform(test['OriginalTweet'])\n"
      ]
    },
    {
      "cell_type": "code",
      "source": [
        "print(tfidf_train.toarray())"
      ],
      "metadata": {
        "id": "5S8s_tAWCDMc",
        "outputId": "17cc18fe-ceba-4b24-e3a3-5f7b280164e3",
        "colab": {
          "base_uri": "https://localhost:8080/"
        }
      },
      "execution_count": 74,
      "outputs": [
        {
          "output_type": "stream",
          "name": "stdout",
          "text": [
            "[[0. 0. 0. ... 0. 0. 0.]\n",
            " [0. 0. 0. ... 0. 0. 0.]\n",
            " [0. 0. 0. ... 0. 0. 0.]\n",
            " ...\n",
            " [0. 0. 0. ... 0. 0. 0.]\n",
            " [0. 0. 0. ... 0. 0. 0.]\n",
            " [0. 0. 0. ... 0. 0. 0.]]\n"
          ]
        }
      ]
    },
    {
      "cell_type": "code",
      "source": [
        "print(tfidf_test.toarray())"
      ],
      "metadata": {
        "id": "YWovtkGuCTJx",
        "outputId": "b503d37a-9f6c-4520-b902-cbe70d0a08b9",
        "colab": {
          "base_uri": "https://localhost:8080/"
        }
      },
      "execution_count": 75,
      "outputs": [
        {
          "output_type": "stream",
          "name": "stdout",
          "text": [
            "[[0. 0. 0. ... 0. 0. 0.]\n",
            " [0. 0. 0. ... 0. 0. 0.]\n",
            " [0. 0. 0. ... 0. 0. 0.]\n",
            " ...\n",
            " [0. 0. 0. ... 0. 0. 0.]\n",
            " [0. 0. 0. ... 0. 0. 0.]\n",
            " [0. 0. 0. ... 0. 0. 0.]]\n"
          ]
        }
      ]
    },
    {
      "cell_type": "code",
      "source": [
        "from sklearn.feature_extraction.text import CountVectorizer\n",
        "cv = CountVectorizer(tokenizer=custom_tokenizer)\n",
        "cv.fit(train['OriginalTweet'])\n",
        "cv_train=cv.transform(train['OriginalTweet'])\n",
        "cv_test=cv.transform(test['OriginalTweet'])\n"
      ],
      "metadata": {
        "id": "Y1RHo0DTBSqC"
      },
      "execution_count": 71,
      "outputs": []
    },
    {
      "cell_type": "code",
      "source": [
        "print(cv_train.toarray())"
      ],
      "metadata": {
        "id": "MKf6IcvkCXZs",
        "outputId": "96d6ad02-bcd2-4303-d1cf-c0497e4b9956",
        "colab": {
          "base_uri": "https://localhost:8080/"
        }
      },
      "execution_count": 76,
      "outputs": [
        {
          "output_type": "stream",
          "name": "stdout",
          "text": [
            "[[0 0 0 ... 0 0 0]\n",
            " [0 0 0 ... 0 0 0]\n",
            " [0 0 0 ... 0 0 0]\n",
            " ...\n",
            " [0 0 0 ... 0 0 0]\n",
            " [0 0 0 ... 0 0 0]\n",
            " [0 0 0 ... 0 0 0]]\n"
          ]
        }
      ]
    },
    {
      "cell_type": "code",
      "source": [
        "print(cv_test.toarray())"
      ],
      "metadata": {
        "id": "kAcS_CxICYqR",
        "outputId": "26407a9f-463f-424a-9ff7-ef481e2953cd",
        "colab": {
          "base_uri": "https://localhost:8080/"
        }
      },
      "execution_count": 77,
      "outputs": [
        {
          "output_type": "stream",
          "name": "stdout",
          "text": [
            "[[0 0 0 ... 0 0 0]\n",
            " [0 0 0 ... 0 0 0]\n",
            " [0 0 0 ... 0 0 0]\n",
            " ...\n",
            " [0 0 0 ... 0 0 0]\n",
            " [0 0 0 ... 0 0 0]\n",
            " [0 0 0 ... 0 0 0]]\n"
          ]
        }
      ]
    },
    {
      "cell_type": "markdown",
      "metadata": {
        "id": "_FX1KSOfYSx4"
      },
      "source": [
        "Обучите логистическую регрессию на векторах из обоих векторайзеров. Посчитайте долю правильных ответов на обучающих и тестовых данных. Какой векторайзер показал лучший результат? Что можно сказать о моделях?"
      ]
    },
    {
      "cell_type": "code",
      "execution_count": 78,
      "metadata": {
        "id": "-Tb3eh8UXJ6v",
        "colab": {
          "base_uri": "https://localhost:8080/"
        },
        "outputId": "92ad9504-9e24-481b-ae4e-7998af38847e"
      },
      "outputs": [
        {
          "output_type": "stream",
          "name": "stdout",
          "text": [
            "0.9844510892780863\n",
            "0.8672513454255532\n"
          ]
        }
      ],
      "source": [
        "from sklearn.linear_model import LogisticRegression\n",
        "from sklearn.metrics import accuracy_score\n",
        "\n",
        "clf = LogisticRegression(max_iter=200, random_state=42)\n",
        "clf.fit(cv_train, train['Sentiment'])\n",
        "pred1 = clf.predict(cv_train)\n",
        "pred2=clf.predict(cv_test)\n",
        "print(accuracy_score(train['Sentiment'], pred1))\n",
        "print(accuracy_score(test['Sentiment'], pred2))\n",
        "\n",
        "# тут скорее всего возникает переобучение так как на трейн очень высокий результат, но показатели на тесте неплохие"
      ]
    },
    {
      "cell_type": "code",
      "source": [
        "from sklearn.linear_model import LogisticRegression\n",
        "from sklearn.metrics import accuracy_score\n",
        "\n",
        "clf = LogisticRegression(max_iter=200, random_state=42)\n",
        "clf.fit(tfidf_train, train['Sentiment'])\n",
        "pred1 = clf.predict(tfidf_train)\n",
        "pred2=clf.predict(tfidf_test)\n",
        "print(accuracy_score(train['Sentiment'], pred1))\n",
        "print(accuracy_score(test['Sentiment'], pred2))\n",
        "# тут переобучение не так явно выражено, но результат на тесте меньше\n",
        "#лучше себя показал векторайзер Counter"
      ],
      "metadata": {
        "id": "jFpWL99zLWQg",
        "outputId": "f0191400-da90-4429-cae2-fb2cadb828ac",
        "colab": {
          "base_uri": "https://localhost:8080/"
        }
      },
      "execution_count": 80,
      "outputs": [
        {
          "output_type": "stream",
          "name": "stdout",
          "text": [
            "0.9254592054677488\n",
            "0.8533984452860275\n"
          ]
        }
      ]
    },
    {
      "cell_type": "markdown",
      "metadata": {
        "id": "8y_wO7rCmv7K"
      },
      "source": [
        "**Ответ:** # -- YOUR ANSWER HERE --"
      ]
    },
    {
      "cell_type": "markdown",
      "metadata": {
        "id": "rSOR1i3mjrys"
      },
      "source": [
        "## Задание 5 Стемминг (0.5 балла)"
      ]
    },
    {
      "cell_type": "markdown",
      "metadata": {
        "id": "i6ONBWNPjuq-"
      },
      "source": [
        "Для уменьшения словаря можно использовать стемминг.\n",
        "\n",
        "Модифицируйте написанный токенайзер, добавив в него стемминг с использованием SnowballStemmer. Обучите Count- и Tfidf- векторайзеры. Как изменился размер словаря?"
      ]
    },
    {
      "cell_type": "code",
      "execution_count": 81,
      "metadata": {
        "id": "oVfA2-iMkQBb"
      },
      "outputs": [],
      "source": [
        "def custom_stem_tokenizer(text):\n",
        "  from nltk.stem.snowball import SnowballStemmer\n",
        "\n",
        "  a=custom_tokenizer(text)\n",
        "  stemmer = SnowballStemmer(\"english\")\n",
        "  tokens = [stemmer.stem(w) for w in a]\n",
        "\n",
        "  return tokens"
      ]
    },
    {
      "cell_type": "code",
      "execution_count": 82,
      "metadata": {
        "id": "9QmrjYtqnlPd",
        "colab": {
          "base_uri": "https://localhost:8080/"
        },
        "outputId": "7e92670a-956e-44cf-ef50-59ca42546213"
      },
      "outputs": [
        {
          "output_type": "execute_result",
          "data": {
            "text/plain": [
              "['sampl', 'text', '@sample_text', '#sampletext', 'ad', 'word', 'check', 'stem']"
            ]
          },
          "metadata": {},
          "execution_count": 82
        }
      ],
      "source": [
        "custom_stem_tokenizer('This is sample text!!!! @Sample_text I, \\x92\\x92 https://t.co/sample  #sampletext adding more words to check stemming')"
      ]
    },
    {
      "cell_type": "code",
      "execution_count": 84,
      "metadata": {
        "id": "zAvUTmaplzOS",
        "colab": {
          "base_uri": "https://localhost:8080/"
        },
        "outputId": "57b271da-9e02-4a2a-934d-98f95c3589df"
      },
      "outputs": [
        {
          "output_type": "stream",
          "name": "stdout",
          "text": [
            "36652\n"
          ]
        }
      ],
      "source": [
        "# cv = CountVectorizer(tokenizer=custom_stem_tokenizer)\n",
        "# cv.fit(train['OriginalTweet'])\n",
        "# print(len(cv.vocabulary_))\n",
        "tfidf_vec = TfidfVectorizer(tokenizer=custom_stem_tokenizer)\n",
        "tfidf_vec.fit(train['OriginalTweet'])\n",
        "print(len(tfidf_vec.vocabulary_))\n",
        "# было 45308, размер словаря умеьньшился\n"
      ]
    },
    {
      "cell_type": "markdown",
      "metadata": {
        "id": "Oyzs5TaAoHP6"
      },
      "source": [
        "**Ответ** # -- YOUR ANSWER HERE --"
      ]
    },
    {
      "cell_type": "markdown",
      "metadata": {
        "id": "1OkncHI8oRmd"
      },
      "source": [
        "Обучите логистическую регрессию с использованием обоих векторайзеров. Изменилось ли качество? Есть ли смысл применять стемминг?"
      ]
    },
    {
      "cell_type": "code",
      "execution_count": 85,
      "metadata": {
        "id": "ykZJPphEoZ5W"
      },
      "outputs": [],
      "source": [
        "# -- YOUR CODE HERE --\n",
        "from sklearn.feature_extraction.text import TfidfVectorizer\n",
        "tfidf_vec = TfidfVectorizer(tokenizer=custom_stem_tokenizer)\n",
        "tfidf_vec.fit(train['OriginalTweet'])\n",
        "tfidf_train=tfidf_vec.transform(train['OriginalTweet'])\n",
        "tfidf_test=tfidf_vec.transform(test['OriginalTweet'])"
      ]
    },
    {
      "cell_type": "code",
      "source": [
        "from sklearn.linear_model import LogisticRegression\n",
        "from sklearn.metrics import accuracy_score\n",
        "\n",
        "clf = LogisticRegression(max_iter=200, random_state=42)\n",
        "clf.fit(tfidf_train, train['Sentiment'])\n",
        "pred1 = clf.predict(tfidf_train)\n",
        "pred2=clf.predict(tfidf_test)\n",
        "print(accuracy_score(train['Sentiment'], pred1))\n",
        "print(accuracy_score(test['Sentiment'], pred2))\n",
        "# результат на train упал, в то время как на test незначительное улучшение(стало меьньше переобучения)"
      ],
      "metadata": {
        "id": "d0-oDe8wXNYc",
        "outputId": "ff15a826-006b-4219-8917-e910cdfb6c87",
        "colab": {
          "base_uri": "https://localhost:8080/"
        }
      },
      "execution_count": 86,
      "outputs": [
        {
          "output_type": "stream",
          "name": "stdout",
          "text": [
            "0.9158906450234943\n",
            "0.8560892963922663\n"
          ]
        }
      ]
    },
    {
      "cell_type": "code",
      "source": [
        "from sklearn.feature_extraction.text import CountVectorizer\n",
        "cv = CountVectorizer(tokenizer=custom_stem_tokenizer)\n",
        "cv.fit(train['OriginalTweet'])\n",
        "cv_train=cv.transform(train['OriginalTweet'])\n",
        "cv_test=cv.transform(test['OriginalTweet'])"
      ],
      "metadata": {
        "id": "qscO9KgxX8TS",
        "outputId": "9c7383ea-5a6a-4fa8-c7ca-59e591ddcb9a",
        "colab": {
          "base_uri": "https://localhost:8080/"
        }
      },
      "execution_count": 87,
      "outputs": [
        {
          "output_type": "stream",
          "name": "stderr",
          "text": [
            "/usr/local/lib/python3.10/dist-packages/sklearn/feature_extraction/text.py:528: UserWarning: The parameter 'token_pattern' will not be used since 'tokenizer' is not None'\n",
            "  warnings.warn(\n"
          ]
        }
      ]
    },
    {
      "cell_type": "code",
      "source": [
        "from sklearn.linear_model import LogisticRegression\n",
        "from sklearn.metrics import accuracy_score\n",
        "\n",
        "clf = LogisticRegression(max_iter=500, random_state=42)\n",
        "clf.fit(cv_train, train['Sentiment'])\n",
        "pred1 = clf.predict(cv_train)\n",
        "pred2=clf.predict(cv_test)\n",
        "print(accuracy_score(train['Sentiment'], pred1))\n",
        "print(accuracy_score(test['Sentiment'], pred2))\n",
        "# результат на train уменьшился, а на test не изменился"
      ],
      "metadata": {
        "id": "XDIv8q7RX8ui",
        "outputId": "c29fdda1-c9e6-49c8-a315-27a5605251a8",
        "colab": {
          "base_uri": "https://localhost:8080/"
        }
      },
      "execution_count": 137,
      "outputs": [
        {
          "output_type": "stream",
          "name": "stdout",
          "text": [
            "0.9416915847928236\n",
            "0.8446282639027307\n"
          ]
        }
      ]
    },
    {
      "cell_type": "markdown",
      "metadata": {
        "id": "bCRlrODro0h8"
      },
      "source": [
        "**Ответ:** # -- YOUR ANSWER HERE --"
      ]
    },
    {
      "cell_type": "markdown",
      "metadata": {
        "id": "hYWGQNEDqLC-"
      },
      "source": [
        "## Задание  6 Работа с частотами (1.5 балла)"
      ]
    },
    {
      "cell_type": "markdown",
      "metadata": {
        "id": "8Hq-tl5mqUSn"
      },
      "source": [
        "Еще один способ уменьшить количество признаков - это использовать параметры min_df и max_df при построении векторайзера  эти параметры помогают ограничить требуемую частоту встречаемости токена в документах.\n",
        "\n",
        "По умолчанию берутся все токены, которые встретились хотя бы один раз.\n",
        "\n"
      ]
    },
    {
      "cell_type": "markdown",
      "metadata": {
        "id": "m1SiD4DE3WZ2"
      },
      "source": [
        "Подберите max_df такой, что размер словаря будет 36651 (на 1 меньше, чем было). Почему параметр получился такой большой/маленький?"
      ]
    },
    {
      "cell_type": "code",
      "source": [
        "cv_df = CountVectorizer(tokenizer=custom_stem_tokenizer,\n",
        "                        max_df=0.35\n",
        "                        ).fit(train['OriginalTweet']\n",
        "\n",
        "                            )\n",
        "print(len(cv_df.vocabulary_))\n",
        "# так как нам надо удалить всего 1 слово, а max_df убирает слова которые встречются более чем в (данном случае 35 процентах), то очевидно, что таких слов немного и поэтому коэффицент большой"
      ],
      "metadata": {
        "id": "o3YLb8PViExb",
        "colab": {
          "base_uri": "https://localhost:8080/"
        },
        "outputId": "126a8f2e-4a7f-4841-d7bd-25c40961ff86"
      },
      "execution_count": 135,
      "outputs": [
        {
          "output_type": "stream",
          "name": "stderr",
          "text": [
            "/usr/local/lib/python3.10/dist-packages/sklearn/feature_extraction/text.py:528: UserWarning: The parameter 'token_pattern' will not be used since 'tokenizer' is not None'\n",
            "  warnings.warn(\n"
          ]
        },
        {
          "output_type": "stream",
          "name": "stdout",
          "text": [
            "36651\n"
          ]
        }
      ]
    },
    {
      "cell_type": "markdown",
      "metadata": {
        "id": "UdZYoGZR4UsA"
      },
      "source": [
        "**Ответ:** # -- YOUR ANSWER HERE --"
      ]
    },
    {
      "cell_type": "markdown",
      "metadata": {
        "id": "_gRIUaB1u32f"
      },
      "source": [
        "Подберите min_df (используйте дефолтное значение max_df) в CountVectorizer таким образом, чтобы размер словаря был 3700 токенов (при использовании токенайзера со стеммингом), а качество осталось таким же, как и было. Что можно сказать о результатах?"
      ]
    },
    {
      "cell_type": "code",
      "execution_count": 138,
      "metadata": {
        "id": "kSnMJkn9XmsT",
        "colab": {
          "base_uri": "https://localhost:8080/"
        },
        "outputId": "17ffb7ac-a940-4f26-aeee-1717ddc296cb"
      },
      "outputs": [
        {
          "output_type": "stream",
          "name": "stderr",
          "text": [
            "/usr/local/lib/python3.10/dist-packages/sklearn/feature_extraction/text.py:528: UserWarning: The parameter 'token_pattern' will not be used since 'tokenizer' is not None'\n",
            "  warnings.warn(\n"
          ]
        },
        {
          "output_type": "stream",
          "name": "stdout",
          "text": [
            "3700\n"
          ]
        }
      ],
      "source": [
        "cv_df = CountVectorizer(tokenizer=custom_stem_tokenizer,\n",
        "                        min_df=0.00045\n",
        "                        ).fit(train['OriginalTweet']\n",
        "\n",
        "                            )\n",
        "print(len(cv_df.vocabulary_))\n",
        "# коэффицент очеьн маленький, так как мы удаляем много слов, и действительно много слов которые встречаются очень редко."
      ]
    },
    {
      "cell_type": "markdown",
      "metadata": {
        "id": "3fGYpUIZx0fk"
      },
      "source": [
        "**Ответ:** # -- YOUR ANSWER HERE --"
      ]
    },
    {
      "cell_type": "markdown",
      "source": [
        "В предыдущих заданиях признаки не скалировались. Отскалируйте данные (при словаре размера 3.7 тысяч, векторизованные CountVectorizer), обучите логистическую регрессию, посмотрите качество и выведите `berplot` содержащий по 10 токенов, с наибольшим по модулю положительными/отрицательными весами. Что можно сказать об этих токенах?"
      ],
      "metadata": {
        "id": "Gx_h_-inKbBl"
      }
    },
    {
      "cell_type": "code",
      "source": [
        "from sklearn.preprocessing import StandardScaler\n",
        "cv_train=cv_df.transform(train['OriginalTweet'])\n",
        "cv_test=cv_df.transform(test['OriginalTweet'])\n",
        "scaler=StandardScaler(with_mean=False)\n",
        "cv_train = scaler.fit_transform(cv_train)\n",
        "cv_test = scaler.transform(cv_test)\n",
        "\n",
        "from sklearn.linear_model import LogisticRegression\n",
        "from sklearn.metrics import accuracy_score\n",
        "\n",
        "clf = LogisticRegression(max_iter=500, random_state=42)\n",
        "clf.fit(cv_train, train['Sentiment'])\n",
        "pred1 = clf.predict(cv_train)\n",
        "pred2=clf.predict(cv_test)\n",
        "print(accuracy_score(train['Sentiment'], pred1))\n",
        "print(accuracy_score(test['Sentiment'], pred2))\n"
      ],
      "metadata": {
        "id": "KBATXJX6LG9q",
        "colab": {
          "base_uri": "https://localhost:8080/"
        },
        "outputId": "2b7b8da3-08ae-47f7-9e8d-456cf0c2883d"
      },
      "execution_count": 93,
      "outputs": [
        {
          "output_type": "stream",
          "name": "stdout",
          "text": [
            "0.9416915847928236\n",
            "0.8446282639027307\n"
          ]
        }
      ]
    },
    {
      "cell_type": "code",
      "source": [
        "\n",
        "coef = pd.DataFrame(clf.coef_[0], index=cv_df.get_feature_names_out(),columns=['Coef'])\n"
      ],
      "metadata": {
        "id": "fHKWqAQhDJR2"
      },
      "execution_count": 94,
      "outputs": []
    },
    {
      "cell_type": "code",
      "source": [
        "coefs1 = coef.nlargest(10, 'Coef')\n",
        "coefs1"
      ],
      "metadata": {
        "id": "1Pg-h43HJ1CD",
        "outputId": "358e3beb-f37e-4fc8-cb0d-8e64e5697a1a",
        "colab": {
          "base_uri": "https://localhost:8080/",
          "height": 362
        }
      },
      "execution_count": 95,
      "outputs": [
        {
          "output_type": "execute_result",
          "data": {
            "text/plain": [
              "             Coef\n",
              "hand     1.231684\n",
              "free     1.108275\n",
              "help     1.078956\n",
              "thank    1.043840\n",
              "like     0.932095\n",
              "best     0.922213\n",
              "pleas    0.839690\n",
              "great    0.817234\n",
              "safe     0.793578\n",
              "support  0.744163"
            ],
            "text/html": [
              "\n",
              "  <div id=\"df-f742e419-0b0e-4968-908f-19a7121dc1ed\" class=\"colab-df-container\">\n",
              "    <div>\n",
              "<style scoped>\n",
              "    .dataframe tbody tr th:only-of-type {\n",
              "        vertical-align: middle;\n",
              "    }\n",
              "\n",
              "    .dataframe tbody tr th {\n",
              "        vertical-align: top;\n",
              "    }\n",
              "\n",
              "    .dataframe thead th {\n",
              "        text-align: right;\n",
              "    }\n",
              "</style>\n",
              "<table border=\"1\" class=\"dataframe\">\n",
              "  <thead>\n",
              "    <tr style=\"text-align: right;\">\n",
              "      <th></th>\n",
              "      <th>Coef</th>\n",
              "    </tr>\n",
              "  </thead>\n",
              "  <tbody>\n",
              "    <tr>\n",
              "      <th>hand</th>\n",
              "      <td>1.231684</td>\n",
              "    </tr>\n",
              "    <tr>\n",
              "      <th>free</th>\n",
              "      <td>1.108275</td>\n",
              "    </tr>\n",
              "    <tr>\n",
              "      <th>help</th>\n",
              "      <td>1.078956</td>\n",
              "    </tr>\n",
              "    <tr>\n",
              "      <th>thank</th>\n",
              "      <td>1.043840</td>\n",
              "    </tr>\n",
              "    <tr>\n",
              "      <th>like</th>\n",
              "      <td>0.932095</td>\n",
              "    </tr>\n",
              "    <tr>\n",
              "      <th>best</th>\n",
              "      <td>0.922213</td>\n",
              "    </tr>\n",
              "    <tr>\n",
              "      <th>pleas</th>\n",
              "      <td>0.839690</td>\n",
              "    </tr>\n",
              "    <tr>\n",
              "      <th>great</th>\n",
              "      <td>0.817234</td>\n",
              "    </tr>\n",
              "    <tr>\n",
              "      <th>safe</th>\n",
              "      <td>0.793578</td>\n",
              "    </tr>\n",
              "    <tr>\n",
              "      <th>support</th>\n",
              "      <td>0.744163</td>\n",
              "    </tr>\n",
              "  </tbody>\n",
              "</table>\n",
              "</div>\n",
              "    <div class=\"colab-df-buttons\">\n",
              "\n",
              "  <div class=\"colab-df-container\">\n",
              "    <button class=\"colab-df-convert\" onclick=\"convertToInteractive('df-f742e419-0b0e-4968-908f-19a7121dc1ed')\"\n",
              "            title=\"Convert this dataframe to an interactive table.\"\n",
              "            style=\"display:none;\">\n",
              "\n",
              "  <svg xmlns=\"http://www.w3.org/2000/svg\" height=\"24px\" viewBox=\"0 -960 960 960\">\n",
              "    <path d=\"M120-120v-720h720v720H120Zm60-500h600v-160H180v160Zm220 220h160v-160H400v160Zm0 220h160v-160H400v160ZM180-400h160v-160H180v160Zm440 0h160v-160H620v160ZM180-180h160v-160H180v160Zm440 0h160v-160H620v160Z\"/>\n",
              "  </svg>\n",
              "    </button>\n",
              "\n",
              "  <style>\n",
              "    .colab-df-container {\n",
              "      display:flex;\n",
              "      gap: 12px;\n",
              "    }\n",
              "\n",
              "    .colab-df-convert {\n",
              "      background-color: #E8F0FE;\n",
              "      border: none;\n",
              "      border-radius: 50%;\n",
              "      cursor: pointer;\n",
              "      display: none;\n",
              "      fill: #1967D2;\n",
              "      height: 32px;\n",
              "      padding: 0 0 0 0;\n",
              "      width: 32px;\n",
              "    }\n",
              "\n",
              "    .colab-df-convert:hover {\n",
              "      background-color: #E2EBFA;\n",
              "      box-shadow: 0px 1px 2px rgba(60, 64, 67, 0.3), 0px 1px 3px 1px rgba(60, 64, 67, 0.15);\n",
              "      fill: #174EA6;\n",
              "    }\n",
              "\n",
              "    .colab-df-buttons div {\n",
              "      margin-bottom: 4px;\n",
              "    }\n",
              "\n",
              "    [theme=dark] .colab-df-convert {\n",
              "      background-color: #3B4455;\n",
              "      fill: #D2E3FC;\n",
              "    }\n",
              "\n",
              "    [theme=dark] .colab-df-convert:hover {\n",
              "      background-color: #434B5C;\n",
              "      box-shadow: 0px 1px 3px 1px rgba(0, 0, 0, 0.15);\n",
              "      filter: drop-shadow(0px 1px 2px rgba(0, 0, 0, 0.3));\n",
              "      fill: #FFFFFF;\n",
              "    }\n",
              "  </style>\n",
              "\n",
              "    <script>\n",
              "      const buttonEl =\n",
              "        document.querySelector('#df-f742e419-0b0e-4968-908f-19a7121dc1ed button.colab-df-convert');\n",
              "      buttonEl.style.display =\n",
              "        google.colab.kernel.accessAllowed ? 'block' : 'none';\n",
              "\n",
              "      async function convertToInteractive(key) {\n",
              "        const element = document.querySelector('#df-f742e419-0b0e-4968-908f-19a7121dc1ed');\n",
              "        const dataTable =\n",
              "          await google.colab.kernel.invokeFunction('convertToInteractive',\n",
              "                                                    [key], {});\n",
              "        if (!dataTable) return;\n",
              "\n",
              "        const docLinkHtml = 'Like what you see? Visit the ' +\n",
              "          '<a target=\"_blank\" href=https://colab.research.google.com/notebooks/data_table.ipynb>data table notebook</a>'\n",
              "          + ' to learn more about interactive tables.';\n",
              "        element.innerHTML = '';\n",
              "        dataTable['output_type'] = 'display_data';\n",
              "        await google.colab.output.renderOutput(dataTable, element);\n",
              "        const docLink = document.createElement('div');\n",
              "        docLink.innerHTML = docLinkHtml;\n",
              "        element.appendChild(docLink);\n",
              "      }\n",
              "    </script>\n",
              "  </div>\n",
              "\n",
              "\n",
              "<div id=\"df-f98fbb44-6e53-4316-808a-31f36f4be457\">\n",
              "  <button class=\"colab-df-quickchart\" onclick=\"quickchart('df-f98fbb44-6e53-4316-808a-31f36f4be457')\"\n",
              "            title=\"Suggest charts\"\n",
              "            style=\"display:none;\">\n",
              "\n",
              "<svg xmlns=\"http://www.w3.org/2000/svg\" height=\"24px\"viewBox=\"0 0 24 24\"\n",
              "     width=\"24px\">\n",
              "    <g>\n",
              "        <path d=\"M19 3H5c-1.1 0-2 .9-2 2v14c0 1.1.9 2 2 2h14c1.1 0 2-.9 2-2V5c0-1.1-.9-2-2-2zM9 17H7v-7h2v7zm4 0h-2V7h2v10zm4 0h-2v-4h2v4z\"/>\n",
              "    </g>\n",
              "</svg>\n",
              "  </button>\n",
              "\n",
              "<style>\n",
              "  .colab-df-quickchart {\n",
              "      --bg-color: #E8F0FE;\n",
              "      --fill-color: #1967D2;\n",
              "      --hover-bg-color: #E2EBFA;\n",
              "      --hover-fill-color: #174EA6;\n",
              "      --disabled-fill-color: #AAA;\n",
              "      --disabled-bg-color: #DDD;\n",
              "  }\n",
              "\n",
              "  [theme=dark] .colab-df-quickchart {\n",
              "      --bg-color: #3B4455;\n",
              "      --fill-color: #D2E3FC;\n",
              "      --hover-bg-color: #434B5C;\n",
              "      --hover-fill-color: #FFFFFF;\n",
              "      --disabled-bg-color: #3B4455;\n",
              "      --disabled-fill-color: #666;\n",
              "  }\n",
              "\n",
              "  .colab-df-quickchart {\n",
              "    background-color: var(--bg-color);\n",
              "    border: none;\n",
              "    border-radius: 50%;\n",
              "    cursor: pointer;\n",
              "    display: none;\n",
              "    fill: var(--fill-color);\n",
              "    height: 32px;\n",
              "    padding: 0;\n",
              "    width: 32px;\n",
              "  }\n",
              "\n",
              "  .colab-df-quickchart:hover {\n",
              "    background-color: var(--hover-bg-color);\n",
              "    box-shadow: 0 1px 2px rgba(60, 64, 67, 0.3), 0 1px 3px 1px rgba(60, 64, 67, 0.15);\n",
              "    fill: var(--button-hover-fill-color);\n",
              "  }\n",
              "\n",
              "  .colab-df-quickchart-complete:disabled,\n",
              "  .colab-df-quickchart-complete:disabled:hover {\n",
              "    background-color: var(--disabled-bg-color);\n",
              "    fill: var(--disabled-fill-color);\n",
              "    box-shadow: none;\n",
              "  }\n",
              "\n",
              "  .colab-df-spinner {\n",
              "    border: 2px solid var(--fill-color);\n",
              "    border-color: transparent;\n",
              "    border-bottom-color: var(--fill-color);\n",
              "    animation:\n",
              "      spin 1s steps(1) infinite;\n",
              "  }\n",
              "\n",
              "  @keyframes spin {\n",
              "    0% {\n",
              "      border-color: transparent;\n",
              "      border-bottom-color: var(--fill-color);\n",
              "      border-left-color: var(--fill-color);\n",
              "    }\n",
              "    20% {\n",
              "      border-color: transparent;\n",
              "      border-left-color: var(--fill-color);\n",
              "      border-top-color: var(--fill-color);\n",
              "    }\n",
              "    30% {\n",
              "      border-color: transparent;\n",
              "      border-left-color: var(--fill-color);\n",
              "      border-top-color: var(--fill-color);\n",
              "      border-right-color: var(--fill-color);\n",
              "    }\n",
              "    40% {\n",
              "      border-color: transparent;\n",
              "      border-right-color: var(--fill-color);\n",
              "      border-top-color: var(--fill-color);\n",
              "    }\n",
              "    60% {\n",
              "      border-color: transparent;\n",
              "      border-right-color: var(--fill-color);\n",
              "    }\n",
              "    80% {\n",
              "      border-color: transparent;\n",
              "      border-right-color: var(--fill-color);\n",
              "      border-bottom-color: var(--fill-color);\n",
              "    }\n",
              "    90% {\n",
              "      border-color: transparent;\n",
              "      border-bottom-color: var(--fill-color);\n",
              "    }\n",
              "  }\n",
              "</style>\n",
              "\n",
              "  <script>\n",
              "    async function quickchart(key) {\n",
              "      const quickchartButtonEl =\n",
              "        document.querySelector('#' + key + ' button');\n",
              "      quickchartButtonEl.disabled = true;  // To prevent multiple clicks.\n",
              "      quickchartButtonEl.classList.add('colab-df-spinner');\n",
              "      try {\n",
              "        const charts = await google.colab.kernel.invokeFunction(\n",
              "            'suggestCharts', [key], {});\n",
              "      } catch (error) {\n",
              "        console.error('Error during call to suggestCharts:', error);\n",
              "      }\n",
              "      quickchartButtonEl.classList.remove('colab-df-spinner');\n",
              "      quickchartButtonEl.classList.add('colab-df-quickchart-complete');\n",
              "    }\n",
              "    (() => {\n",
              "      let quickchartButtonEl =\n",
              "        document.querySelector('#df-f98fbb44-6e53-4316-808a-31f36f4be457 button');\n",
              "      quickchartButtonEl.style.display =\n",
              "        google.colab.kernel.accessAllowed ? 'block' : 'none';\n",
              "    })();\n",
              "  </script>\n",
              "</div>\n",
              "    </div>\n",
              "  </div>\n"
            ],
            "application/vnd.google.colaboratory.intrinsic+json": {
              "type": "dataframe",
              "variable_name": "coefs1",
              "summary": "{\n  \"name\": \"coefs1\",\n  \"rows\": 10,\n  \"fields\": [\n    {\n      \"column\": \"Coef\",\n      \"properties\": {\n        \"dtype\": \"number\",\n        \"std\": 0.15900487947897604,\n        \"min\": 0.7441627627257912,\n        \"max\": 1.2316835460204605,\n        \"num_unique_values\": 10,\n        \"samples\": [\n          0.7935781304975608,\n          1.1082753070336264,\n          0.9222133905007323\n        ],\n        \"semantic_type\": \"\",\n        \"description\": \"\"\n      }\n    }\n  ]\n}"
            }
          },
          "metadata": {},
          "execution_count": 95
        }
      ]
    },
    {
      "cell_type": "code",
      "source": [
        "coefs2 = coef.nsmallest(10, 'Coef')\n",
        "coefs2"
      ],
      "metadata": {
        "id": "OrvMZRO-J-kD",
        "outputId": "ee036d8f-20f8-460a-fa40-14c0217cd31b",
        "colab": {
          "base_uri": "https://localhost:8080/",
          "height": 362
        }
      },
      "execution_count": 96,
      "outputs": [
        {
          "output_type": "execute_result",
          "data": {
            "text/plain": [
              "           Coef\n",
              "crisi -1.752452\n",
              "panic -1.311977\n",
              "scam  -1.067300\n",
              "kill  -0.763708\n",
              "crude -0.615794\n",
              "stop  -0.605140\n",
              "fear  -0.575247\n",
              "emerg -0.563134\n",
              "wtf   -0.552531\n",
              "fight -0.542240"
            ],
            "text/html": [
              "\n",
              "  <div id=\"df-228e4712-37ec-49c2-8eae-cff1727ddb23\" class=\"colab-df-container\">\n",
              "    <div>\n",
              "<style scoped>\n",
              "    .dataframe tbody tr th:only-of-type {\n",
              "        vertical-align: middle;\n",
              "    }\n",
              "\n",
              "    .dataframe tbody tr th {\n",
              "        vertical-align: top;\n",
              "    }\n",
              "\n",
              "    .dataframe thead th {\n",
              "        text-align: right;\n",
              "    }\n",
              "</style>\n",
              "<table border=\"1\" class=\"dataframe\">\n",
              "  <thead>\n",
              "    <tr style=\"text-align: right;\">\n",
              "      <th></th>\n",
              "      <th>Coef</th>\n",
              "    </tr>\n",
              "  </thead>\n",
              "  <tbody>\n",
              "    <tr>\n",
              "      <th>crisi</th>\n",
              "      <td>-1.752452</td>\n",
              "    </tr>\n",
              "    <tr>\n",
              "      <th>panic</th>\n",
              "      <td>-1.311977</td>\n",
              "    </tr>\n",
              "    <tr>\n",
              "      <th>scam</th>\n",
              "      <td>-1.067300</td>\n",
              "    </tr>\n",
              "    <tr>\n",
              "      <th>kill</th>\n",
              "      <td>-0.763708</td>\n",
              "    </tr>\n",
              "    <tr>\n",
              "      <th>crude</th>\n",
              "      <td>-0.615794</td>\n",
              "    </tr>\n",
              "    <tr>\n",
              "      <th>stop</th>\n",
              "      <td>-0.605140</td>\n",
              "    </tr>\n",
              "    <tr>\n",
              "      <th>fear</th>\n",
              "      <td>-0.575247</td>\n",
              "    </tr>\n",
              "    <tr>\n",
              "      <th>emerg</th>\n",
              "      <td>-0.563134</td>\n",
              "    </tr>\n",
              "    <tr>\n",
              "      <th>wtf</th>\n",
              "      <td>-0.552531</td>\n",
              "    </tr>\n",
              "    <tr>\n",
              "      <th>fight</th>\n",
              "      <td>-0.542240</td>\n",
              "    </tr>\n",
              "  </tbody>\n",
              "</table>\n",
              "</div>\n",
              "    <div class=\"colab-df-buttons\">\n",
              "\n",
              "  <div class=\"colab-df-container\">\n",
              "    <button class=\"colab-df-convert\" onclick=\"convertToInteractive('df-228e4712-37ec-49c2-8eae-cff1727ddb23')\"\n",
              "            title=\"Convert this dataframe to an interactive table.\"\n",
              "            style=\"display:none;\">\n",
              "\n",
              "  <svg xmlns=\"http://www.w3.org/2000/svg\" height=\"24px\" viewBox=\"0 -960 960 960\">\n",
              "    <path d=\"M120-120v-720h720v720H120Zm60-500h600v-160H180v160Zm220 220h160v-160H400v160Zm0 220h160v-160H400v160ZM180-400h160v-160H180v160Zm440 0h160v-160H620v160ZM180-180h160v-160H180v160Zm440 0h160v-160H620v160Z\"/>\n",
              "  </svg>\n",
              "    </button>\n",
              "\n",
              "  <style>\n",
              "    .colab-df-container {\n",
              "      display:flex;\n",
              "      gap: 12px;\n",
              "    }\n",
              "\n",
              "    .colab-df-convert {\n",
              "      background-color: #E8F0FE;\n",
              "      border: none;\n",
              "      border-radius: 50%;\n",
              "      cursor: pointer;\n",
              "      display: none;\n",
              "      fill: #1967D2;\n",
              "      height: 32px;\n",
              "      padding: 0 0 0 0;\n",
              "      width: 32px;\n",
              "    }\n",
              "\n",
              "    .colab-df-convert:hover {\n",
              "      background-color: #E2EBFA;\n",
              "      box-shadow: 0px 1px 2px rgba(60, 64, 67, 0.3), 0px 1px 3px 1px rgba(60, 64, 67, 0.15);\n",
              "      fill: #174EA6;\n",
              "    }\n",
              "\n",
              "    .colab-df-buttons div {\n",
              "      margin-bottom: 4px;\n",
              "    }\n",
              "\n",
              "    [theme=dark] .colab-df-convert {\n",
              "      background-color: #3B4455;\n",
              "      fill: #D2E3FC;\n",
              "    }\n",
              "\n",
              "    [theme=dark] .colab-df-convert:hover {\n",
              "      background-color: #434B5C;\n",
              "      box-shadow: 0px 1px 3px 1px rgba(0, 0, 0, 0.15);\n",
              "      filter: drop-shadow(0px 1px 2px rgba(0, 0, 0, 0.3));\n",
              "      fill: #FFFFFF;\n",
              "    }\n",
              "  </style>\n",
              "\n",
              "    <script>\n",
              "      const buttonEl =\n",
              "        document.querySelector('#df-228e4712-37ec-49c2-8eae-cff1727ddb23 button.colab-df-convert');\n",
              "      buttonEl.style.display =\n",
              "        google.colab.kernel.accessAllowed ? 'block' : 'none';\n",
              "\n",
              "      async function convertToInteractive(key) {\n",
              "        const element = document.querySelector('#df-228e4712-37ec-49c2-8eae-cff1727ddb23');\n",
              "        const dataTable =\n",
              "          await google.colab.kernel.invokeFunction('convertToInteractive',\n",
              "                                                    [key], {});\n",
              "        if (!dataTable) return;\n",
              "\n",
              "        const docLinkHtml = 'Like what you see? Visit the ' +\n",
              "          '<a target=\"_blank\" href=https://colab.research.google.com/notebooks/data_table.ipynb>data table notebook</a>'\n",
              "          + ' to learn more about interactive tables.';\n",
              "        element.innerHTML = '';\n",
              "        dataTable['output_type'] = 'display_data';\n",
              "        await google.colab.output.renderOutput(dataTable, element);\n",
              "        const docLink = document.createElement('div');\n",
              "        docLink.innerHTML = docLinkHtml;\n",
              "        element.appendChild(docLink);\n",
              "      }\n",
              "    </script>\n",
              "  </div>\n",
              "\n",
              "\n",
              "<div id=\"df-912484dd-4a77-4ec7-9b74-473f0bc22307\">\n",
              "  <button class=\"colab-df-quickchart\" onclick=\"quickchart('df-912484dd-4a77-4ec7-9b74-473f0bc22307')\"\n",
              "            title=\"Suggest charts\"\n",
              "            style=\"display:none;\">\n",
              "\n",
              "<svg xmlns=\"http://www.w3.org/2000/svg\" height=\"24px\"viewBox=\"0 0 24 24\"\n",
              "     width=\"24px\">\n",
              "    <g>\n",
              "        <path d=\"M19 3H5c-1.1 0-2 .9-2 2v14c0 1.1.9 2 2 2h14c1.1 0 2-.9 2-2V5c0-1.1-.9-2-2-2zM9 17H7v-7h2v7zm4 0h-2V7h2v10zm4 0h-2v-4h2v4z\"/>\n",
              "    </g>\n",
              "</svg>\n",
              "  </button>\n",
              "\n",
              "<style>\n",
              "  .colab-df-quickchart {\n",
              "      --bg-color: #E8F0FE;\n",
              "      --fill-color: #1967D2;\n",
              "      --hover-bg-color: #E2EBFA;\n",
              "      --hover-fill-color: #174EA6;\n",
              "      --disabled-fill-color: #AAA;\n",
              "      --disabled-bg-color: #DDD;\n",
              "  }\n",
              "\n",
              "  [theme=dark] .colab-df-quickchart {\n",
              "      --bg-color: #3B4455;\n",
              "      --fill-color: #D2E3FC;\n",
              "      --hover-bg-color: #434B5C;\n",
              "      --hover-fill-color: #FFFFFF;\n",
              "      --disabled-bg-color: #3B4455;\n",
              "      --disabled-fill-color: #666;\n",
              "  }\n",
              "\n",
              "  .colab-df-quickchart {\n",
              "    background-color: var(--bg-color);\n",
              "    border: none;\n",
              "    border-radius: 50%;\n",
              "    cursor: pointer;\n",
              "    display: none;\n",
              "    fill: var(--fill-color);\n",
              "    height: 32px;\n",
              "    padding: 0;\n",
              "    width: 32px;\n",
              "  }\n",
              "\n",
              "  .colab-df-quickchart:hover {\n",
              "    background-color: var(--hover-bg-color);\n",
              "    box-shadow: 0 1px 2px rgba(60, 64, 67, 0.3), 0 1px 3px 1px rgba(60, 64, 67, 0.15);\n",
              "    fill: var(--button-hover-fill-color);\n",
              "  }\n",
              "\n",
              "  .colab-df-quickchart-complete:disabled,\n",
              "  .colab-df-quickchart-complete:disabled:hover {\n",
              "    background-color: var(--disabled-bg-color);\n",
              "    fill: var(--disabled-fill-color);\n",
              "    box-shadow: none;\n",
              "  }\n",
              "\n",
              "  .colab-df-spinner {\n",
              "    border: 2px solid var(--fill-color);\n",
              "    border-color: transparent;\n",
              "    border-bottom-color: var(--fill-color);\n",
              "    animation:\n",
              "      spin 1s steps(1) infinite;\n",
              "  }\n",
              "\n",
              "  @keyframes spin {\n",
              "    0% {\n",
              "      border-color: transparent;\n",
              "      border-bottom-color: var(--fill-color);\n",
              "      border-left-color: var(--fill-color);\n",
              "    }\n",
              "    20% {\n",
              "      border-color: transparent;\n",
              "      border-left-color: var(--fill-color);\n",
              "      border-top-color: var(--fill-color);\n",
              "    }\n",
              "    30% {\n",
              "      border-color: transparent;\n",
              "      border-left-color: var(--fill-color);\n",
              "      border-top-color: var(--fill-color);\n",
              "      border-right-color: var(--fill-color);\n",
              "    }\n",
              "    40% {\n",
              "      border-color: transparent;\n",
              "      border-right-color: var(--fill-color);\n",
              "      border-top-color: var(--fill-color);\n",
              "    }\n",
              "    60% {\n",
              "      border-color: transparent;\n",
              "      border-right-color: var(--fill-color);\n",
              "    }\n",
              "    80% {\n",
              "      border-color: transparent;\n",
              "      border-right-color: var(--fill-color);\n",
              "      border-bottom-color: var(--fill-color);\n",
              "    }\n",
              "    90% {\n",
              "      border-color: transparent;\n",
              "      border-bottom-color: var(--fill-color);\n",
              "    }\n",
              "  }\n",
              "</style>\n",
              "\n",
              "  <script>\n",
              "    async function quickchart(key) {\n",
              "      const quickchartButtonEl =\n",
              "        document.querySelector('#' + key + ' button');\n",
              "      quickchartButtonEl.disabled = true;  // To prevent multiple clicks.\n",
              "      quickchartButtonEl.classList.add('colab-df-spinner');\n",
              "      try {\n",
              "        const charts = await google.colab.kernel.invokeFunction(\n",
              "            'suggestCharts', [key], {});\n",
              "      } catch (error) {\n",
              "        console.error('Error during call to suggestCharts:', error);\n",
              "      }\n",
              "      quickchartButtonEl.classList.remove('colab-df-spinner');\n",
              "      quickchartButtonEl.classList.add('colab-df-quickchart-complete');\n",
              "    }\n",
              "    (() => {\n",
              "      let quickchartButtonEl =\n",
              "        document.querySelector('#df-912484dd-4a77-4ec7-9b74-473f0bc22307 button');\n",
              "      quickchartButtonEl.style.display =\n",
              "        google.colab.kernel.accessAllowed ? 'block' : 'none';\n",
              "    })();\n",
              "  </script>\n",
              "</div>\n",
              "    </div>\n",
              "  </div>\n"
            ],
            "application/vnd.google.colaboratory.intrinsic+json": {
              "type": "dataframe",
              "variable_name": "coefs2",
              "summary": "{\n  \"name\": \"coefs2\",\n  \"rows\": 10,\n  \"fields\": [\n    {\n      \"column\": \"Coef\",\n      \"properties\": {\n        \"dtype\": \"number\",\n        \"std\": 0.41312335141149537,\n        \"min\": -1.7524520120433587,\n        \"max\": -0.5422403161264027,\n        \"num_unique_values\": 10,\n        \"samples\": [\n          -0.5525311764362523,\n          -1.31197703015258,\n          -0.6051395113205843\n        ],\n        \"semantic_type\": \"\",\n        \"description\": \"\"\n      }\n    }\n  ]\n}"
            }
          },
          "metadata": {},
          "execution_count": 96
        }
      ]
    },
    {
      "cell_type": "code",
      "source": [
        "coefs = pd.concat([coefs1, coefs2], axis=0)\n",
        "coefs"
      ],
      "metadata": {
        "id": "0tgGCFc4My05",
        "outputId": "3e88d824-267e-41da-b362-ae07435eb4f2",
        "colab": {
          "base_uri": "https://localhost:8080/",
          "height": 676
        }
      },
      "execution_count": 97,
      "outputs": [
        {
          "output_type": "execute_result",
          "data": {
            "text/plain": [
              "             Coef\n",
              "hand     1.231684\n",
              "free     1.108275\n",
              "help     1.078956\n",
              "thank    1.043840\n",
              "like     0.932095\n",
              "best     0.922213\n",
              "pleas    0.839690\n",
              "great    0.817234\n",
              "safe     0.793578\n",
              "support  0.744163\n",
              "crisi   -1.752452\n",
              "panic   -1.311977\n",
              "scam    -1.067300\n",
              "kill    -0.763708\n",
              "crude   -0.615794\n",
              "stop    -0.605140\n",
              "fear    -0.575247\n",
              "emerg   -0.563134\n",
              "wtf     -0.552531\n",
              "fight   -0.542240"
            ],
            "text/html": [
              "\n",
              "  <div id=\"df-6ed836f2-5529-460b-bda0-fd2415e734e1\" class=\"colab-df-container\">\n",
              "    <div>\n",
              "<style scoped>\n",
              "    .dataframe tbody tr th:only-of-type {\n",
              "        vertical-align: middle;\n",
              "    }\n",
              "\n",
              "    .dataframe tbody tr th {\n",
              "        vertical-align: top;\n",
              "    }\n",
              "\n",
              "    .dataframe thead th {\n",
              "        text-align: right;\n",
              "    }\n",
              "</style>\n",
              "<table border=\"1\" class=\"dataframe\">\n",
              "  <thead>\n",
              "    <tr style=\"text-align: right;\">\n",
              "      <th></th>\n",
              "      <th>Coef</th>\n",
              "    </tr>\n",
              "  </thead>\n",
              "  <tbody>\n",
              "    <tr>\n",
              "      <th>hand</th>\n",
              "      <td>1.231684</td>\n",
              "    </tr>\n",
              "    <tr>\n",
              "      <th>free</th>\n",
              "      <td>1.108275</td>\n",
              "    </tr>\n",
              "    <tr>\n",
              "      <th>help</th>\n",
              "      <td>1.078956</td>\n",
              "    </tr>\n",
              "    <tr>\n",
              "      <th>thank</th>\n",
              "      <td>1.043840</td>\n",
              "    </tr>\n",
              "    <tr>\n",
              "      <th>like</th>\n",
              "      <td>0.932095</td>\n",
              "    </tr>\n",
              "    <tr>\n",
              "      <th>best</th>\n",
              "      <td>0.922213</td>\n",
              "    </tr>\n",
              "    <tr>\n",
              "      <th>pleas</th>\n",
              "      <td>0.839690</td>\n",
              "    </tr>\n",
              "    <tr>\n",
              "      <th>great</th>\n",
              "      <td>0.817234</td>\n",
              "    </tr>\n",
              "    <tr>\n",
              "      <th>safe</th>\n",
              "      <td>0.793578</td>\n",
              "    </tr>\n",
              "    <tr>\n",
              "      <th>support</th>\n",
              "      <td>0.744163</td>\n",
              "    </tr>\n",
              "    <tr>\n",
              "      <th>crisi</th>\n",
              "      <td>-1.752452</td>\n",
              "    </tr>\n",
              "    <tr>\n",
              "      <th>panic</th>\n",
              "      <td>-1.311977</td>\n",
              "    </tr>\n",
              "    <tr>\n",
              "      <th>scam</th>\n",
              "      <td>-1.067300</td>\n",
              "    </tr>\n",
              "    <tr>\n",
              "      <th>kill</th>\n",
              "      <td>-0.763708</td>\n",
              "    </tr>\n",
              "    <tr>\n",
              "      <th>crude</th>\n",
              "      <td>-0.615794</td>\n",
              "    </tr>\n",
              "    <tr>\n",
              "      <th>stop</th>\n",
              "      <td>-0.605140</td>\n",
              "    </tr>\n",
              "    <tr>\n",
              "      <th>fear</th>\n",
              "      <td>-0.575247</td>\n",
              "    </tr>\n",
              "    <tr>\n",
              "      <th>emerg</th>\n",
              "      <td>-0.563134</td>\n",
              "    </tr>\n",
              "    <tr>\n",
              "      <th>wtf</th>\n",
              "      <td>-0.552531</td>\n",
              "    </tr>\n",
              "    <tr>\n",
              "      <th>fight</th>\n",
              "      <td>-0.542240</td>\n",
              "    </tr>\n",
              "  </tbody>\n",
              "</table>\n",
              "</div>\n",
              "    <div class=\"colab-df-buttons\">\n",
              "\n",
              "  <div class=\"colab-df-container\">\n",
              "    <button class=\"colab-df-convert\" onclick=\"convertToInteractive('df-6ed836f2-5529-460b-bda0-fd2415e734e1')\"\n",
              "            title=\"Convert this dataframe to an interactive table.\"\n",
              "            style=\"display:none;\">\n",
              "\n",
              "  <svg xmlns=\"http://www.w3.org/2000/svg\" height=\"24px\" viewBox=\"0 -960 960 960\">\n",
              "    <path d=\"M120-120v-720h720v720H120Zm60-500h600v-160H180v160Zm220 220h160v-160H400v160Zm0 220h160v-160H400v160ZM180-400h160v-160H180v160Zm440 0h160v-160H620v160ZM180-180h160v-160H180v160Zm440 0h160v-160H620v160Z\"/>\n",
              "  </svg>\n",
              "    </button>\n",
              "\n",
              "  <style>\n",
              "    .colab-df-container {\n",
              "      display:flex;\n",
              "      gap: 12px;\n",
              "    }\n",
              "\n",
              "    .colab-df-convert {\n",
              "      background-color: #E8F0FE;\n",
              "      border: none;\n",
              "      border-radius: 50%;\n",
              "      cursor: pointer;\n",
              "      display: none;\n",
              "      fill: #1967D2;\n",
              "      height: 32px;\n",
              "      padding: 0 0 0 0;\n",
              "      width: 32px;\n",
              "    }\n",
              "\n",
              "    .colab-df-convert:hover {\n",
              "      background-color: #E2EBFA;\n",
              "      box-shadow: 0px 1px 2px rgba(60, 64, 67, 0.3), 0px 1px 3px 1px rgba(60, 64, 67, 0.15);\n",
              "      fill: #174EA6;\n",
              "    }\n",
              "\n",
              "    .colab-df-buttons div {\n",
              "      margin-bottom: 4px;\n",
              "    }\n",
              "\n",
              "    [theme=dark] .colab-df-convert {\n",
              "      background-color: #3B4455;\n",
              "      fill: #D2E3FC;\n",
              "    }\n",
              "\n",
              "    [theme=dark] .colab-df-convert:hover {\n",
              "      background-color: #434B5C;\n",
              "      box-shadow: 0px 1px 3px 1px rgba(0, 0, 0, 0.15);\n",
              "      filter: drop-shadow(0px 1px 2px rgba(0, 0, 0, 0.3));\n",
              "      fill: #FFFFFF;\n",
              "    }\n",
              "  </style>\n",
              "\n",
              "    <script>\n",
              "      const buttonEl =\n",
              "        document.querySelector('#df-6ed836f2-5529-460b-bda0-fd2415e734e1 button.colab-df-convert');\n",
              "      buttonEl.style.display =\n",
              "        google.colab.kernel.accessAllowed ? 'block' : 'none';\n",
              "\n",
              "      async function convertToInteractive(key) {\n",
              "        const element = document.querySelector('#df-6ed836f2-5529-460b-bda0-fd2415e734e1');\n",
              "        const dataTable =\n",
              "          await google.colab.kernel.invokeFunction('convertToInteractive',\n",
              "                                                    [key], {});\n",
              "        if (!dataTable) return;\n",
              "\n",
              "        const docLinkHtml = 'Like what you see? Visit the ' +\n",
              "          '<a target=\"_blank\" href=https://colab.research.google.com/notebooks/data_table.ipynb>data table notebook</a>'\n",
              "          + ' to learn more about interactive tables.';\n",
              "        element.innerHTML = '';\n",
              "        dataTable['output_type'] = 'display_data';\n",
              "        await google.colab.output.renderOutput(dataTable, element);\n",
              "        const docLink = document.createElement('div');\n",
              "        docLink.innerHTML = docLinkHtml;\n",
              "        element.appendChild(docLink);\n",
              "      }\n",
              "    </script>\n",
              "  </div>\n",
              "\n",
              "\n",
              "<div id=\"df-4eaf1053-f6c8-4fd6-9e64-ccb3e308cc31\">\n",
              "  <button class=\"colab-df-quickchart\" onclick=\"quickchart('df-4eaf1053-f6c8-4fd6-9e64-ccb3e308cc31')\"\n",
              "            title=\"Suggest charts\"\n",
              "            style=\"display:none;\">\n",
              "\n",
              "<svg xmlns=\"http://www.w3.org/2000/svg\" height=\"24px\"viewBox=\"0 0 24 24\"\n",
              "     width=\"24px\">\n",
              "    <g>\n",
              "        <path d=\"M19 3H5c-1.1 0-2 .9-2 2v14c0 1.1.9 2 2 2h14c1.1 0 2-.9 2-2V5c0-1.1-.9-2-2-2zM9 17H7v-7h2v7zm4 0h-2V7h2v10zm4 0h-2v-4h2v4z\"/>\n",
              "    </g>\n",
              "</svg>\n",
              "  </button>\n",
              "\n",
              "<style>\n",
              "  .colab-df-quickchart {\n",
              "      --bg-color: #E8F0FE;\n",
              "      --fill-color: #1967D2;\n",
              "      --hover-bg-color: #E2EBFA;\n",
              "      --hover-fill-color: #174EA6;\n",
              "      --disabled-fill-color: #AAA;\n",
              "      --disabled-bg-color: #DDD;\n",
              "  }\n",
              "\n",
              "  [theme=dark] .colab-df-quickchart {\n",
              "      --bg-color: #3B4455;\n",
              "      --fill-color: #D2E3FC;\n",
              "      --hover-bg-color: #434B5C;\n",
              "      --hover-fill-color: #FFFFFF;\n",
              "      --disabled-bg-color: #3B4455;\n",
              "      --disabled-fill-color: #666;\n",
              "  }\n",
              "\n",
              "  .colab-df-quickchart {\n",
              "    background-color: var(--bg-color);\n",
              "    border: none;\n",
              "    border-radius: 50%;\n",
              "    cursor: pointer;\n",
              "    display: none;\n",
              "    fill: var(--fill-color);\n",
              "    height: 32px;\n",
              "    padding: 0;\n",
              "    width: 32px;\n",
              "  }\n",
              "\n",
              "  .colab-df-quickchart:hover {\n",
              "    background-color: var(--hover-bg-color);\n",
              "    box-shadow: 0 1px 2px rgba(60, 64, 67, 0.3), 0 1px 3px 1px rgba(60, 64, 67, 0.15);\n",
              "    fill: var(--button-hover-fill-color);\n",
              "  }\n",
              "\n",
              "  .colab-df-quickchart-complete:disabled,\n",
              "  .colab-df-quickchart-complete:disabled:hover {\n",
              "    background-color: var(--disabled-bg-color);\n",
              "    fill: var(--disabled-fill-color);\n",
              "    box-shadow: none;\n",
              "  }\n",
              "\n",
              "  .colab-df-spinner {\n",
              "    border: 2px solid var(--fill-color);\n",
              "    border-color: transparent;\n",
              "    border-bottom-color: var(--fill-color);\n",
              "    animation:\n",
              "      spin 1s steps(1) infinite;\n",
              "  }\n",
              "\n",
              "  @keyframes spin {\n",
              "    0% {\n",
              "      border-color: transparent;\n",
              "      border-bottom-color: var(--fill-color);\n",
              "      border-left-color: var(--fill-color);\n",
              "    }\n",
              "    20% {\n",
              "      border-color: transparent;\n",
              "      border-left-color: var(--fill-color);\n",
              "      border-top-color: var(--fill-color);\n",
              "    }\n",
              "    30% {\n",
              "      border-color: transparent;\n",
              "      border-left-color: var(--fill-color);\n",
              "      border-top-color: var(--fill-color);\n",
              "      border-right-color: var(--fill-color);\n",
              "    }\n",
              "    40% {\n",
              "      border-color: transparent;\n",
              "      border-right-color: var(--fill-color);\n",
              "      border-top-color: var(--fill-color);\n",
              "    }\n",
              "    60% {\n",
              "      border-color: transparent;\n",
              "      border-right-color: var(--fill-color);\n",
              "    }\n",
              "    80% {\n",
              "      border-color: transparent;\n",
              "      border-right-color: var(--fill-color);\n",
              "      border-bottom-color: var(--fill-color);\n",
              "    }\n",
              "    90% {\n",
              "      border-color: transparent;\n",
              "      border-bottom-color: var(--fill-color);\n",
              "    }\n",
              "  }\n",
              "</style>\n",
              "\n",
              "  <script>\n",
              "    async function quickchart(key) {\n",
              "      const quickchartButtonEl =\n",
              "        document.querySelector('#' + key + ' button');\n",
              "      quickchartButtonEl.disabled = true;  // To prevent multiple clicks.\n",
              "      quickchartButtonEl.classList.add('colab-df-spinner');\n",
              "      try {\n",
              "        const charts = await google.colab.kernel.invokeFunction(\n",
              "            'suggestCharts', [key], {});\n",
              "      } catch (error) {\n",
              "        console.error('Error during call to suggestCharts:', error);\n",
              "      }\n",
              "      quickchartButtonEl.classList.remove('colab-df-spinner');\n",
              "      quickchartButtonEl.classList.add('colab-df-quickchart-complete');\n",
              "    }\n",
              "    (() => {\n",
              "      let quickchartButtonEl =\n",
              "        document.querySelector('#df-4eaf1053-f6c8-4fd6-9e64-ccb3e308cc31 button');\n",
              "      quickchartButtonEl.style.display =\n",
              "        google.colab.kernel.accessAllowed ? 'block' : 'none';\n",
              "    })();\n",
              "  </script>\n",
              "</div>\n",
              "    </div>\n",
              "  </div>\n"
            ],
            "application/vnd.google.colaboratory.intrinsic+json": {
              "type": "dataframe",
              "variable_name": "coefs",
              "summary": "{\n  \"name\": \"coefs\",\n  \"rows\": 20,\n  \"fields\": [\n    {\n      \"column\": \"Coef\",\n      \"properties\": {\n        \"dtype\": \"number\",\n        \"std\": 0.9655867002677408,\n        \"min\": -1.7524520120433587,\n        \"max\": 1.2316835460204605,\n        \"num_unique_values\": 20,\n        \"samples\": [\n          1.2316835460204605,\n          -0.5631339142510858,\n          -0.6051395113205843\n        ],\n        \"semantic_type\": \"\",\n        \"description\": \"\"\n      }\n    }\n  ]\n}"
            }
          },
          "metadata": {},
          "execution_count": 97
        }
      ]
    },
    {
      "cell_type": "code",
      "source": [
        "plt.figure(figsize=(9, 5))\n",
        "plt.barh(coefs.index,coefs['Coef'])\n",
        "plt.xlabel('Коэффиценты')\n",
        "plt.ylabel('Токены')\n",
        "plt.title('Топ-20 токенов по важности')\n",
        "plt.gca().invert_yaxis()\n",
        "plt.show()\n",
        "\n",
        "# видно что токены с положиьтельными коэффицентами скорее всего относятся к sentiment 1(по ним видно, что они позитивные (help,thank,safe и тд))\n",
        "# аналогично с токенами отрицательными к sentiment 0(wtf, fight и тд) Токены определились хорошо."
      ],
      "metadata": {
        "id": "cAm0l-0UNMKc",
        "outputId": "dddeb617-09fe-4bf9-cfeb-15eb03c84246",
        "colab": {
          "base_uri": "https://localhost:8080/",
          "height": 487
        }
      },
      "execution_count": 139,
      "outputs": [
        {
          "output_type": "display_data",
          "data": {
            "text/plain": [
              "<Figure size 900x500 with 1 Axes>"
            ],
            "image/png": "[encoded data removed]"
          },
          "metadata": {}
        }
      ]
    },
    {
      "cell_type": "markdown",
      "source": [
        "**Ответ:** # -- YOUR ANSWER HERE --"
      ],
      "metadata": {
        "id": "ThcEfzY1LHET"
      }
    },
    {
      "cell_type": "markdown",
      "metadata": {
        "id": "ktJVOdrIHq7B"
      },
      "source": [
        "## Задание 7 Другие признаки (1.5 балла)"
      ]
    },
    {
      "cell_type": "markdown",
      "metadata": {
        "id": "Yt3jRCZ2H0Og"
      },
      "source": [
        "Мы были сконцентрированы на работе с текстами твиттов и не использовали другие признаки - имена пользователя, дату и местоположение"
      ]
    },
    {
      "cell_type": "markdown",
      "metadata": {
        "id": "52wjewCCo_di"
      },
      "source": [
        "Изучите признаки UserName и ScreenName. полезны ли они? Если полезны, то закодируйте их, добавьте к матрице с отскалированными признаками, обучите логистическую регрессию, замерьте качество."
      ]
    },
    {
      "cell_type": "code",
      "execution_count": 99,
      "metadata": {
        "id": "63thouYZptj6"
      },
      "outputs": [],
      "source": [
        "from sklearn.preprocessing import StandardScaler\n",
        "cv_train=cv_df.transform(train['OriginalTweet'])\n",
        "cv_test=cv_df.transform(test['OriginalTweet'])\n",
        "\n",
        "user_names_array_train = train['UserName'].values.reshape(-1, 1)\n",
        "screen_names_array_train = train['ScreenName'].values.reshape(-1, 1)\n",
        "\n",
        "user_names_array_test = test['UserName'].values.reshape(-1, 1)\n",
        "screen_names_array_test = test['ScreenName'].values.reshape(-1, 1)\n",
        "\n",
        "\n",
        "cv_train_with_numeric_features = np.hstack([cv_train.toarray(), user_names_array_train, screen_names_array_train])\n",
        "cv_test_with_numeric_features = np.hstack([cv_test.toarray(), user_names_array_test, screen_names_array_test])\n",
        "\n",
        "scaler = StandardScaler(with_mean=False)\n",
        "cv_train_scaled = scaler.fit_transform(cv_train_with_numeric_features)\n",
        "cv_test_scaled = scaler.transform(cv_test_with_numeric_features)\n",
        "\n"
      ]
    },
    {
      "cell_type": "code",
      "source": [
        "from sklearn.linear_model import LogisticRegression\n",
        "from sklearn.metrics import accuracy_score\n",
        "\n",
        "clf = LogisticRegression(max_iter=500, random_state=42)\n",
        "clf.fit(cv_train_scaled, train['Sentiment'])\n",
        "pred1 = clf.predict(cv_train_scaled)\n",
        "pred2=clf.predict(cv_test_scaled)\n",
        "print(accuracy_score(train['Sentiment'], pred1))\n",
        "print(accuracy_score(test['Sentiment'], pred2))\n"
      ],
      "metadata": {
        "id": "1b7X4D5mg8TN",
        "outputId": "43daa408-5ad7-4acb-92d3-faaf395ad1d5",
        "colab": {
          "base_uri": "https://localhost:8080/"
        }
      },
      "execution_count": 100,
      "outputs": [
        {
          "output_type": "stream",
          "name": "stdout",
          "text": [
            "0.9416915847928236\n",
            "0.8446282639027307\n"
          ]
        }
      ]
    },
    {
      "cell_type": "code",
      "source": [
        "# как мы видим модель не улучшилась, также видно, что UserName и ScreenName уникальны в каждой записи, поэтому очевидно, что качество модели они не улучшат"
      ],
      "metadata": {
        "id": "uwej33tfo-Pv"
      },
      "execution_count": 101,
      "outputs": []
    },
    {
      "cell_type": "markdown",
      "metadata": {
        "id": "r8_qR-gnpT3a"
      },
      "source": [
        "**Ответ:** # -- YOUR ANSWER HERE --"
      ]
    },
    {
      "cell_type": "markdown",
      "metadata": {
        "id": "ythEcFSkt7y3"
      },
      "source": [
        "Изучите признак TweetAt в обучающей выборке: преобразуйте его к типу datetime и нарисуйте его гистограмму с разделением по цвету на оспнове целевой переменной. Полезен ли он? Если полезен, то закодируйте его, добавьте к матрице с отскалированными признаками, обучите логистическую регрессию, замерьте качество."
      ]
    },
    {
      "cell_type": "code",
      "source": [
        "\n",
        "train['TweetAt'] = pd.to_datetime(train['TweetAt'], format='%d-%m-%Y')\n"
      ],
      "metadata": {
        "id": "Lxb_k0JLirNv"
      },
      "execution_count": 102,
      "outputs": []
    },
    {
      "cell_type": "code",
      "source": [
        "train['TweetAt'].value_counts()\n",
        "# признак нельзя назвать полезным так как по графику видно, что по дням количества положительных и отрицатльных комментариев практически равны(+ в реальных случаях на вход будут подаваться данные в текущий момент времени, а не в прошлом)"
      ],
      "metadata": {
        "id": "c3NTGmAadix2",
        "outputId": "d35a0dc7-18fa-45a5-a1f6-7af4646bae45",
        "colab": {
          "base_uri": "https://localhost:8080/"
        }
      },
      "execution_count": 106,
      "outputs": [
        {
          "output_type": "execute_result",
          "data": {
            "text/plain": [
              "TweetAt\n",
              "2020-03-20    1996\n",
              "2020-03-19    1844\n",
              "2020-03-25    1742\n",
              "2020-03-18    1619\n",
              "2020-03-21    1531\n",
              "2020-03-22    1225\n",
              "2020-03-23    1174\n",
              "2020-03-17    1103\n",
              "2020-04-08    1044\n",
              "2020-04-07    1010\n",
              "2020-04-06     956\n",
              "2020-04-09     847\n",
              "2020-03-24     843\n",
              "2020-04-13     802\n",
              "2020-03-26     713\n",
              "2020-04-05     614\n",
              "2020-04-10     545\n",
              "2020-04-02     537\n",
              "2020-04-11     528\n",
              "2020-04-12     446\n",
              "2020-04-03     446\n",
              "2020-04-04     438\n",
              "2020-03-16     402\n",
              "2020-04-01     347\n",
              "2020-03-31     188\n",
              "2020-03-27     179\n",
              "2020-04-14     159\n",
              "2020-03-29      69\n",
              "2020-03-30      47\n",
              "2020-03-28      16\n",
              "Name: count, dtype: int64"
            ]
          },
          "metadata": {},
          "execution_count": 106
        }
      ]
    },
    {
      "cell_type": "code",
      "source": [
        "\n",
        "import seaborn as sns\n",
        "\n",
        "sns.displot(train, x=\"TweetAt\", hue=\"Sentiment\",height=10, aspect=2)\n",
        "plt.show()\n"
      ],
      "metadata": {
        "id": "QZuL0FlPsvtd",
        "outputId": "803261a1-b00a-458a-bc9b-df032908f9e6",
        "colab": {
          "base_uri": "https://localhost:8080/",
          "height": 719
        }
      },
      "execution_count": 107,
      "outputs": [
        {
          "output_type": "display_data",
          "data": {
            "text/plain": [
              "<Figure size 2082.74x1000 with 1 Axes>"
            ],
            "image/png": "[encoded data removed]"
          },
          "metadata": {}
        }
      ]
    },
    {
      "cell_type": "markdown",
      "metadata": {
        "id": "4IdLBdpQxM-G"
      },
      "source": [
        "**Ответ:** # -- YOUR ANSWER HERE --\n",
        "\n"
      ]
    },
    {
      "cell_type": "markdown",
      "source": [
        "Поработайте с признаком Location в обучающей выборке. Сколько уникальных значений?"
      ],
      "metadata": {
        "id": "r2JtRPhNP6qx"
      }
    },
    {
      "cell_type": "code",
      "source": [
        "# -- YOUR CODE HERE --\n",
        "train['Location'].unique().size"
      ],
      "metadata": {
        "id": "xYQZQ1FRNpoe",
        "colab": {
          "base_uri": "https://localhost:8080/"
        },
        "outputId": "f55e6621-5c7f-4b92-d588-8aae08a6bd84"
      },
      "execution_count": 108,
      "outputs": [
        {
          "output_type": "execute_result",
          "data": {
            "text/plain": [
              "7949"
            ]
          },
          "metadata": {},
          "execution_count": 108
        }
      ]
    },
    {
      "cell_type": "markdown",
      "source": [
        "Постройте гистограмму топ-10 по популярности местоположений (исключая Unknown)"
      ],
      "metadata": {
        "id": "6k4JwpRTQISa"
      }
    },
    {
      "cell_type": "code",
      "source": [
        "# -- YOUR CODE HERE --\n",
        "locations = train[train['Location']!='Unknown']['Location'].value_counts().head(10)\n",
        "locations"
      ],
      "metadata": {
        "id": "J91YkhegJ0mz",
        "colab": {
          "base_uri": "https://localhost:8080/"
        },
        "outputId": "c71aa488-3dad-41d4-c249-2228ed2e70ac"
      },
      "execution_count": 109,
      "outputs": [
        {
          "output_type": "execute_result",
          "data": {
            "text/plain": [
              "Location\n",
              "London             301\n",
              "United States      295\n",
              "London, England    274\n",
              "New York, NY       223\n",
              "Washington, DC     222\n",
              "United Kingdom     204\n",
              "Los Angeles, CA    154\n",
              "India              153\n",
              "UK                 133\n",
              "Australia          118\n",
              "Name: count, dtype: int64"
            ]
          },
          "metadata": {},
          "execution_count": 109
        }
      ]
    },
    {
      "cell_type": "code",
      "source": [
        "import matplotlib.pyplot as plt\n",
        "\n",
        "plt.figure(figsize=(10, 6))\n",
        "\n",
        "x = locations.index\n",
        "y = locations.values\n",
        "\n",
        "plt.bar(x, y, color='red')\n",
        "\n",
        "plt.xlabel('Местоположение')\n",
        "plt.ylabel('Частота')\n",
        "plt.title('Топ-10 популярных местоположений (без \"Unknown\")')\n",
        "\n",
        "plt.xticks(rotation=45)\n",
        "\n",
        "plt.show()\n",
        "\n"
      ],
      "metadata": {
        "id": "2F4Koutj-XsU",
        "outputId": "1f929de4-a6df-4b4b-cf37-c5506d4f4b64",
        "colab": {
          "base_uri": "https://localhost:8080/",
          "height": 642
        }
      },
      "execution_count": 111,
      "outputs": [
        {
          "output_type": "display_data",
          "data": {
            "text/plain": [
              "<Figure size 1000x600 with 1 Axes>"
            ],
            "image/png": "[encoded data removed]"
          },
          "metadata": {}
        }
      ]
    },
    {
      "cell_type": "markdown",
      "source": [
        "Видно, что многие местоположения включают в себя более точное название места, чем другие (Например, у некоторых стоит London, UK; а у некоторых просто UK или United Kingdom).\n",
        "\n",
        "Создайте новый признак WiderLocation, который содержит самое широкое местоположение (например, из London, UK должно получиться UK). Сколько уникальных категорий теперь? Постройте аналогичную гистограмму."
      ],
      "metadata": {
        "id": "ZOsv3lODTfYB"
      }
    },
    {
      "cell_type": "code",
      "source": [
        "# -- YOUR CODE HERE --\n",
        "train['Location'].value_counts()"
      ],
      "metadata": {
        "id": "mSkow6acOMyD",
        "colab": {
          "base_uri": "https://localhost:8080/"
        },
        "outputId": "f7896649-e2d7-4520-fe69-a2c406ef317d"
      },
      "execution_count": 112,
      "outputs": [
        {
          "output_type": "execute_result",
          "data": {
            "text/plain": [
              "Location\n",
              "Unknown                           4944\n",
              "London                             301\n",
              "United States                      295\n",
              "London, England                    274\n",
              "New York, NY                       223\n",
              "                                  ... \n",
              "Work: Kent and Live: Sussex          1\n",
              "Somewhere on TradingView             1\n",
              "Honolulu, Hawai?i                    1\n",
              "SFO                                  1\n",
              "Waterville, Ireland Austin, TX       1\n",
              "Name: count, Length: 7949, dtype: int64"
            ]
          },
          "metadata": {},
          "execution_count": 112
        }
      ]
    },
    {
      "cell_type": "code",
      "source": [
        "train['WiderLocation'] = np.where(train['Location'].str.contains(',') , train['Location'].str.split(',').str[-1], train['Location'])"
      ],
      "metadata": {
        "id": "V1cMkZfvGNwj"
      },
      "execution_count": 113,
      "outputs": []
    },
    {
      "cell_type": "code",
      "source": [
        "test['WiderLocation'] = np.where(test['Location'].str.contains(',') , test['Location'].str.split(',').str[-1], test['Location'])"
      ],
      "metadata": {
        "id": "l-UAWRQK5_I8"
      },
      "execution_count": 114,
      "outputs": []
    },
    {
      "cell_type": "code",
      "source": [
        "train['WiderLocation'].value_counts()"
      ],
      "metadata": {
        "id": "J2Rl3ESyGPh5",
        "outputId": "c920dc89-a5fe-4d82-fdb7-0706f99d3bba",
        "colab": {
          "base_uri": "https://localhost:8080/"
        }
      },
      "execution_count": 115,
      "outputs": [
        {
          "output_type": "execute_result",
          "data": {
            "text/plain": [
              "WiderLocation\n",
              "Unknown              4944\n",
              " USA                  836\n",
              " England              833\n",
              " CA                   597\n",
              " India                383\n",
              "                     ... \n",
              "DUBAI(U.A.E)            1\n",
              "Self Isolation ??       1\n",
              "Everywhere!!            1\n",
              "On life's stage!        1\n",
              " NIGERIA                1\n",
              "Name: count, Length: 5163, dtype: int64"
            ]
          },
          "metadata": {},
          "execution_count": 115
        }
      ]
    },
    {
      "cell_type": "code",
      "source": [
        "train['WiderLocation'].unique().size\n",
        "# количество уникальных заметон уменьшилосб"
      ],
      "metadata": {
        "id": "v5RtPiwTWHCZ",
        "outputId": "31d5999b-2e93-49ae-960f-3a763cecfcd1",
        "colab": {
          "base_uri": "https://localhost:8080/"
        }
      },
      "execution_count": 117,
      "outputs": [
        {
          "output_type": "execute_result",
          "data": {
            "text/plain": [
              "5163"
            ]
          },
          "metadata": {},
          "execution_count": 117
        }
      ]
    },
    {
      "cell_type": "markdown",
      "source": [
        "Закодируйте признак WiderLocation с помощью OHE таким образом, чтобы создались только столбцы для местоположений, которые встречаются более одного раза. Сколько таких значений?\n"
      ],
      "metadata": {
        "id": "cgyWrD2eVfff"
      }
    },
    {
      "cell_type": "code",
      "source": [
        "\n",
        "\n",
        "import pandas as pd\n",
        "from sklearn.preprocessing import OneHotEncoder\n",
        "\n",
        "WiderLocation = train['WiderLocation'].value_counts()\n",
        "frequent_locations = WiderLocation[WiderLocation > 1].index\n",
        "\n",
        "\n",
        "encoder = OneHotEncoder(categories=[frequent_locations], handle_unknown='ignore')\n",
        "\n",
        "\n",
        "table = encoder.fit_transform(train[['WiderLocation']])\n",
        "\n",
        "encoded_data = table.toarray()\n",
        "\n",
        "print(encoded_data)\n",
        "\n",
        "\n",
        "\n",
        "\n"
      ],
      "metadata": {
        "id": "eruJYAVrGT5x",
        "outputId": "aca05c6e-ee58-47e2-8c37-a61673cf5333",
        "colab": {
          "base_uri": "https://localhost:8080/"
        }
      },
      "execution_count": 128,
      "outputs": [
        {
          "output_type": "stream",
          "name": "stdout",
          "text": [
            "[[1. 0. 0. ... 0. 0. 0.]\n",
            " [0. 0. 0. ... 0. 0. 0.]\n",
            " [0. 0. 0. ... 0. 0. 0.]\n",
            " ...\n",
            " [0. 0. 0. ... 0. 0. 0.]\n",
            " [1. 0. 0. ... 0. 0. 0.]\n",
            " [1. 0. 0. ... 0. 0. 0.]]\n"
          ]
        }
      ]
    },
    {
      "cell_type": "code",
      "source": [
        "wider_location_counts[wider_location_counts > 1].index.size\n",
        "# размер 1159"
      ],
      "metadata": {
        "id": "Q1aFe8T3ipIv",
        "outputId": "4b7d4a2b-e688-4be8-8760-ee80278d2c4e",
        "colab": {
          "base_uri": "https://localhost:8080/"
        }
      },
      "execution_count": 129,
      "outputs": [
        {
          "output_type": "execute_result",
          "data": {
            "text/plain": [
              "1159"
            ]
          },
          "metadata": {},
          "execution_count": 129
        }
      ]
    },
    {
      "cell_type": "code",
      "source": [
        "\n",
        "encoder1 = OneHotEncoder(categories=[frequent_locations], handle_unknown='ignore')\n",
        "\n",
        "\n",
        "encoded_data_test = encoder1.fit_transform(test[['WiderLocation']])\n",
        "\n",
        "encoded_data_test = encoded_data_test.toarray()\n",
        "\n"
      ],
      "metadata": {
        "id": "KRSFc_Yp2IM1"
      },
      "execution_count": 131,
      "outputs": []
    },
    {
      "cell_type": "markdown",
      "source": [
        "Добавьте этот признак к матрице отскалированных текстовых признаков, обучите логистическую регрессию, замерьте качество. Как оно изменилось? Оказался ли признак полезным?\n",
        "\n",
        "\n",
        "*Подсказка:* используйте параметр `categories` в энкодере."
      ],
      "metadata": {
        "id": "ZyMX5kZuimPK"
      }
    },
    {
      "cell_type": "code",
      "source": [
        "from sklearn.preprocessing import StandardScaler\n",
        "from scipy.sparse import hstack\n",
        "cv_train=cv_df.transform(train['OriginalTweet'])\n",
        "cv_test=cv_df.transform(test['OriginalTweet'])\n",
        "\n",
        "scaler=StandardScaler(with_mean=False)\n",
        "cv_train = scaler.fit_transform(cv_train)\n",
        "cv_test = scaler.transform(cv_test)\n",
        "\n",
        "\n",
        "cv_train_with_locations = hstack([cv_train, encoded_data])\n",
        "cv_test_with_locations = hstack([cv_test, encoded_data_test])\n",
        "\n",
        "\n",
        "from sklearn.linear_model import LogisticRegression\n",
        "from sklearn.metrics import accuracy_score\n",
        "\n",
        "clf = LogisticRegression(max_iter=500, random_state=42)\n",
        "clf.fit(cv_train_with_locations, train['Sentiment'])\n",
        "pred1 = clf.predict(cv_train_with_locations)\n",
        "pred2=clf.predict(cv_test_with_locations)\n",
        "print(accuracy_score(train['Sentiment'], pred1))\n",
        "print(accuracy_score(test['Sentiment'], pred2))\n",
        "# как мы видим результат на test чуть-чуть упал на test, а на train чуть чуть вырос, я считаю что признак поэтому нельзя назвать полезным(слишком несущественные изменения)\n",
        "\n",
        "\n",
        "\n",
        "#0.9416915847928236\n",
        "#0.8446282639027307\n"
      ],
      "metadata": {
        "id": "EO1jNPeeim7A",
        "colab": {
          "base_uri": "https://localhost:8080/"
        },
        "outputId": "e5a7b934-224a-4d6e-c5e7-03f623ffffe7"
      },
      "execution_count": 140,
      "outputs": [
        {
          "output_type": "stream",
          "name": "stdout",
          "text": [
            "0.9460059803502776\n",
            "0.8444289415985649\n"
          ]
        }
      ]
    },
    {
      "cell_type": "markdown",
      "source": [
        "**Ответ:** # -- YOUR ANSWER HERE --"
      ],
      "metadata": {
        "id": "7dHsGlDRYUQt"
      }
    },
    {
      "cell_type": "markdown",
      "source": [
        "## Задание 8 Хорошее качество (Бонус 1 балл)"
      ],
      "metadata": {
        "id": "IWn6h4W9eD3S"
      }
    },
    {
      "cell_type": "markdown",
      "source": [
        "Добейтесь accuracy=0.9 на тестовой выборке (можно сменить токенайзер, векторайзер, модель и т.д.)"
      ],
      "metadata": {
        "id": "-HDI0SU6eLgi"
      }
    },
    {
      "cell_type": "code",
      "source": [
        "# не смог"
      ],
      "metadata": {
        "id": "k3WMbE8edhlW"
      },
      "execution_count": null,
      "outputs": []
    }
  ],
  "metadata": {
    "colab": {
      "provenance": []
    },
    "kernelspec": {
      "display_name": "Python 3",
      "name": "python3"
    },
    "language_info": {
      "name": "python"
    }
  },
  "nbformat": 4,
  "nbformat_minor": 0
}